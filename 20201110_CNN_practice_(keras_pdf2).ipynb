{
  "nbformat": 4,
  "nbformat_minor": 0,
  "metadata": {
    "colab": {
      "name": "20201110 - CNN 예제 (keras pdf2).ipynb",
      "provenance": [],
      "collapsed_sections": [],
      "authorship_tag": "ABX9TyM01EpFC3I8vZsVp136hVVu",
      "include_colab_link": true
    },
    "kernelspec": {
      "name": "python3",
      "display_name": "Python 3"
    },
    "accelerator": "GPU"
  },
  "cells": [
    {
      "cell_type": "markdown",
      "metadata": {
        "id": "view-in-github",
        "colab_type": "text"
      },
      "source": [
        "<a href=\"https://colab.research.google.com/github/annaha88/ML-DL-study/blob/master/20201110_CNN_%EC%98%88%EC%A0%9C_(keras_pdf2).ipynb\" target=\"_parent\"><img src=\"https://colab.research.google.com/assets/colab-badge.svg\" alt=\"Open In Colab\"/></a>"
      ]
    },
    {
      "cell_type": "markdown",
      "metadata": {
        "id": "yqUuam8wkamq"
      },
      "source": [
        "## CNN 예제 (keras pdf2) p.40~\n",
        "\n",
        "- MNIST 손글씨 예제 - 이미 데이터 전처리가 되어 있는 Clean data이다.\n",
        "\n",
        "-  가로 28 * 세로 28 = 784 개의 속성(features)을 이용해 0~9 까지 10개클래스 중 하나의 숫자를 맞히는 문제가 된다."
      ]
    },
    {
      "cell_type": "code",
      "metadata": {
        "id": "_1lthYSmjnJl"
      },
      "source": [
        "from keras.datasets import mnist"
      ],
      "execution_count": 1,
      "outputs": []
    },
    {
      "cell_type": "code",
      "metadata": {
        "id": "Di13TlEyj8O7"
      },
      "source": [
        "from keras.utils import np_utils"
      ],
      "execution_count": 3,
      "outputs": []
    },
    {
      "cell_type": "code",
      "metadata": {
        "id": "lH_XgRn8kLbp"
      },
      "source": [
        "import numpy as np\n",
        "import pandas as pd"
      ],
      "execution_count": 4,
      "outputs": []
    },
    {
      "cell_type": "code",
      "metadata": {
        "id": "CedAhqvLkROq"
      },
      "source": [
        "import sys\n",
        "import tensorflow as tf"
      ],
      "execution_count": 6,
      "outputs": []
    },
    {
      "cell_type": "code",
      "metadata": {
        "id": "D2Fv7w3wkUqp"
      },
      "source": [
        "# seed 값 설정\n",
        "seed = 0\n",
        "np.random.seed(seed)"
      ],
      "execution_count": 8,
      "outputs": []
    },
    {
      "cell_type": "code",
      "metadata": {
        "id": "YoBTBxtMkuHR"
      },
      "source": [
        "# MNIST 데이터 셋 로드\n",
        "(X_train, y_class_train), (X_test, y_class_test)= mnist.load_data()"
      ],
      "execution_count": 22,
      "outputs": []
    },
    {
      "cell_type": "code",
      "metadata": {
        "id": "w1Hfsa4Lk09R",
        "outputId": "37d6413f-a551-4316-827d-46b7beaf767a",
        "colab": {
          "base_uri": "https://localhost:8080/"
        }
      },
      "source": [
        "type(X_train), type(y_class_train)"
      ],
      "execution_count": 23,
      "outputs": [
        {
          "output_type": "execute_result",
          "data": {
            "text/plain": [
              "(numpy.ndarray, numpy.ndarray)"
            ]
          },
          "metadata": {
            "tags": []
          },
          "execution_count": 23
        }
      ]
    },
    {
      "cell_type": "code",
      "metadata": {
        "id": "cPw_y_Ark486",
        "outputId": "01a2a6c4-e01d-448d-c440-51ddf0237c19",
        "colab": {
          "base_uri": "https://localhost:8080/"
        }
      },
      "source": [
        "# 6만개의 이미지 데이터를, 각 이미지별로 28*28 픽셀로 총 784개의 속성값을 input 으로 하여 받겠다.\n",
        "X_train.shape, y_class_train.shape, X_test.shape, y_class_test.shape"
      ],
      "execution_count": 24,
      "outputs": [
        {
          "output_type": "execute_result",
          "data": {
            "text/plain": [
              "((60000, 28, 28), (60000,), (10000, 28, 28), (10000,))"
            ]
          },
          "metadata": {
            "tags": []
          },
          "execution_count": 24
        }
      ]
    },
    {
      "cell_type": "code",
      "metadata": {
        "id": "kqGiWb4olS1K",
        "outputId": "9a0f4d0d-b6aa-4800-be34-9276cbf20726",
        "colab": {
          "base_uri": "https://localhost:8080/"
        }
      },
      "source": [
        "# 학습셋& 테스트 셋 이미지 수 확인\n",
        "X_train.shape[0], X_test.shape[0]"
      ],
      "execution_count": 26,
      "outputs": [
        {
          "output_type": "execute_result",
          "data": {
            "text/plain": [
              "(60000, 10000)"
            ]
          },
          "metadata": {
            "tags": []
          },
          "execution_count": 26
        }
      ]
    },
    {
      "cell_type": "code",
      "metadata": {
        "id": "ZFLdruNymt3p",
        "outputId": "5e90a583-95c0-4555-a435-520a1b2c662f",
        "colab": {
          "base_uri": "https://localhost:8080/"
        }
      },
      "source": [
        "len(X_train)"
      ],
      "execution_count": 31,
      "outputs": [
        {
          "output_type": "execute_result",
          "data": {
            "text/plain": [
              "60000"
            ]
          },
          "metadata": {
            "tags": []
          },
          "execution_count": 31
        }
      ]
    },
    {
      "cell_type": "code",
      "metadata": {
        "id": "7uxQecaFl9vp",
        "outputId": "d986395f-9aa4-4f51-f52a-40ecb02d8cbb",
        "colab": {
          "base_uri": "https://localhost:8080/"
        }
      },
      "source": [
        "# 한개의 이미지 데이터 구조 확인\n",
        "len(X_train[0])\n",
        "# 가로 28 * 세로 28 = 784 개의 속성(features)을 이용해 0~9 까지 10개클래스 중 하나의 숫자를 맞히는 문제가 된다."
      ],
      "execution_count": 29,
      "outputs": [
        {
          "output_type": "execute_result",
          "data": {
            "text/plain": [
              "28"
            ]
          },
          "metadata": {
            "tags": []
          },
          "execution_count": 29
        }
      ]
    },
    {
      "cell_type": "markdown",
      "metadata": {
        "id": "GT1ihxRSlwqy"
      },
      "source": [
        "- 6만개의 이미지를 학습하고, 1만개의 테스트 데이터로 검증하겠다."
      ]
    },
    {
      "cell_type": "code",
      "metadata": {
        "id": "ps11bhJ4llki",
        "outputId": "afbc5385-9915-4eac-d3a1-69177c1b609f",
        "colab": {
          "base_uri": "https://localhost:8080/",
          "height": 265
        }
      },
      "source": [
        "# 그래프로 첫번째 이미지 확인\n",
        "import matplotlib.pyplot as plt\n",
        "plt.imshow(X_train[0], cmap='Greys' )  # 흑백의 이미지 cmap = 'Greys' 지정\n",
        "plt.show()"
      ],
      "execution_count": 30,
      "outputs": [
        {
          "output_type": "display_data",
          "data": {
            "image/png": "[encoded data removed]",
            "text/plain": [
              "<Figure size 432x288 with 1 Axes>"
            ]
          },
          "metadata": {
            "tags": [],
            "needs_background": "light"
          }
        }
      ]
    },
    {
      "cell_type": "code",
      "metadata": {
        "id": "EewazDxmmmaS",
        "outputId": "ad7db8b3-a03d-4248-d837-bc39c2bebf24",
        "colab": {
          "base_uri": "https://localhost:8080/"
        }
      },
      "source": [
        "# 코드로 확인\n",
        "for x in X_train[0]:\n",
        "  for i in x:\n",
        "    sys.stdout.write('%d\\t' %i)\n",
        "  sys.stdout.write('\\n')"
      ],
      "execution_count": 32,
      "outputs": [
        {
          "output_type": "stream",
          "text": [
            "0\t0\t0\t0\t0\t0\t0\t0\t0\t0\t0\t0\t0\t0\t0\t0\t0\t0\t0\t0\t0\t0\t0\t0\t0\t0\t0\t0\t\n",
            "0\t0\t0\t0\t0\t0\t0\t0\t0\t0\t0\t0\t0\t0\t0\t0\t0\t0\t0\t0\t0\t0\t0\t0\t0\t0\t0\t0\t\n",
            "0\t0\t0\t0\t0\t0\t0\t0\t0\t0\t0\t0\t0\t0\t0\t0\t0\t0\t0\t0\t0\t0\t0\t0\t0\t0\t0\t0\t\n",
            "0\t0\t0\t0\t0\t0\t0\t0\t0\t0\t0\t0\t0\t0\t0\t0\t0\t0\t0\t0\t0\t0\t0\t0\t0\t0\t0\t0\t\n",
            "0\t0\t0\t0\t0\t0\t0\t0\t0\t0\t0\t0\t0\t0\t0\t0\t0\t0\t0\t0\t0\t0\t0\t0\t0\t0\t0\t0\t\n",
            "0\t0\t0\t0\t0\t0\t0\t0\t0\t0\t0\t0\t3\t18\t18\t18\t126\t136\t175\t26\t166\t255\t247\t127\t0\t0\t0\t0\t\n",
            "0\t0\t0\t0\t0\t0\t0\t0\t30\t36\t94\t154\t170\t253\t253\t253\t253\t253\t225\t172\t253\t242\t195\t64\t0\t0\t0\t0\t\n",
            "0\t0\t0\t0\t0\t0\t0\t49\t238\t253\t253\t253\t253\t253\t253\t253\t253\t251\t93\t82\t82\t56\t39\t0\t0\t0\t0\t0\t\n",
            "0\t0\t0\t0\t0\t0\t0\t18\t219\t253\t253\t253\t253\t253\t198\t182\t247\t241\t0\t0\t0\t0\t0\t0\t0\t0\t0\t0\t\n",
            "0\t0\t0\t0\t0\t0\t0\t0\t80\t156\t107\t253\t253\t205\t11\t0\t43\t154\t0\t0\t0\t0\t0\t0\t0\t0\t0\t0\t\n",
            "0\t0\t0\t0\t0\t0\t0\t0\t0\t14\t1\t154\t253\t90\t0\t0\t0\t0\t0\t0\t0\t0\t0\t0\t0\t0\t0\t0\t\n",
            "0\t0\t0\t0\t0\t0\t0\t0\t0\t0\t0\t139\t253\t190\t2\t0\t0\t0\t0\t0\t0\t0\t0\t0\t0\t0\t0\t0\t\n",
            "0\t0\t0\t0\t0\t0\t0\t0\t0\t0\t0\t11\t190\t253\t70\t0\t0\t0\t0\t0\t0\t0\t0\t0\t0\t0\t0\t0\t\n",
            "0\t0\t0\t0\t0\t0\t0\t0\t0\t0\t0\t0\t35\t241\t225\t160\t108\t1\t0\t0\t0\t0\t0\t0\t0\t0\t0\t0\t\n",
            "0\t0\t0\t0\t0\t0\t0\t0\t0\t0\t0\t0\t0\t81\t240\t253\t253\t119\t25\t0\t0\t0\t0\t0\t0\t0\t0\t0\t\n",
            "0\t0\t0\t0\t0\t0\t0\t0\t0\t0\t0\t0\t0\t0\t45\t186\t253\t253\t150\t27\t0\t0\t0\t0\t0\t0\t0\t0\t\n",
            "0\t0\t0\t0\t0\t0\t0\t0\t0\t0\t0\t0\t0\t0\t0\t16\t93\t252\t253\t187\t0\t0\t0\t0\t0\t0\t0\t0\t\n",
            "0\t0\t0\t0\t0\t0\t0\t0\t0\t0\t0\t0\t0\t0\t0\t0\t0\t249\t253\t249\t64\t0\t0\t0\t0\t0\t0\t0\t\n",
            "0\t0\t0\t0\t0\t0\t0\t0\t0\t0\t0\t0\t0\t0\t46\t130\t183\t253\t253\t207\t2\t0\t0\t0\t0\t0\t0\t0\t\n",
            "0\t0\t0\t0\t0\t0\t0\t0\t0\t0\t0\t0\t39\t148\t229\t253\t253\t253\t250\t182\t0\t0\t0\t0\t0\t0\t0\t0\t\n",
            "0\t0\t0\t0\t0\t0\t0\t0\t0\t0\t24\t114\t221\t253\t253\t253\t253\t201\t78\t0\t0\t0\t0\t0\t0\t0\t0\t0\t\n",
            "0\t0\t0\t0\t0\t0\t0\t0\t23\t66\t213\t253\t253\t253\t253\t198\t81\t2\t0\t0\t0\t0\t0\t0\t0\t0\t0\t0\t\n",
            "0\t0\t0\t0\t0\t0\t18\t171\t219\t253\t253\t253\t253\t195\t80\t9\t0\t0\t0\t0\t0\t0\t0\t0\t0\t0\t0\t0\t\n",
            "0\t0\t0\t0\t55\t172\t226\t253\t253\t253\t253\t244\t133\t11\t0\t0\t0\t0\t0\t0\t0\t0\t0\t0\t0\t0\t0\t0\t\n",
            "0\t0\t0\t0\t136\t253\t253\t253\t212\t135\t132\t16\t0\t0\t0\t0\t0\t0\t0\t0\t0\t0\t0\t0\t0\t0\t0\t0\t\n",
            "0\t0\t0\t0\t0\t0\t0\t0\t0\t0\t0\t0\t0\t0\t0\t0\t0\t0\t0\t0\t0\t0\t0\t0\t0\t0\t0\t0\t\n",
            "0\t0\t0\t0\t0\t0\t0\t0\t0\t0\t0\t0\t0\t0\t0\t0\t0\t0\t0\t0\t0\t0\t0\t0\t0\t0\t0\t0\t\n",
            "0\t0\t0\t0\t0\t0\t0\t0\t0\t0\t0\t0\t0\t0\t0\t0\t0\t0\t0\t0\t0\t0\t0\t0\t0\t0\t0\t0\t\n"
          ],
          "name": "stdout"
        }
      ]
    },
    {
      "cell_type": "code",
      "metadata": {
        "id": "d45iXwwnnVxC"
      },
      "source": [
        "# 차원 변환 과정\n",
        "\n",
        "# 3차원(60000, 28, 28)의 ndarray를 2차원(60000, 784)으로 변환하기(이미지 2D 정보를 를 1D로)\n",
        "X_train = X_train.reshape(X_train.shape[0], 784)\n",
        "X_train = X_train.astype('float64')  # 0~1 사이값으로 데이터 정규화 하기 위해 실수형으로 형변환\n",
        "X_train = X_train/255  # 최대값인 255로 나누어 데이터 Normalization\n",
        "\n",
        "X_test = X_test.reshape(X_test.shape[0], 784).astype('float64')/255"
      ],
      "execution_count": 33,
      "outputs": []
    },
    {
      "cell_type": "code",
      "metadata": {
        "id": "FG5yzTsjqBeU",
        "outputId": "e2911954-13e5-467f-f70b-30ff22dedd26",
        "colab": {
          "base_uri": "https://localhost:8080/"
        }
      },
      "source": [
        "X_train.shape, X_test.shape"
      ],
      "execution_count": 34,
      "outputs": [
        {
          "output_type": "execute_result",
          "data": {
            "text/plain": [
              "((60000, 784), (10000, 784))"
            ]
          },
          "metadata": {
            "tags": []
          },
          "execution_count": 34
        }
      ]
    },
    {
      "cell_type": "code",
      "metadata": {
        "id": "jJstO6GnqD9G",
        "outputId": "d2ead207-3685-48e7-b8c3-30ec54fc2c32",
        "colab": {
          "base_uri": "https://localhost:8080/"
        }
      },
      "source": [
        "# 레이블 값 확인\n",
        "print(len(y_class_train))\n",
        "print(y_class_train[:10])"
      ],
      "execution_count": 40,
      "outputs": [
        {
          "output_type": "stream",
          "text": [
            "60000\n",
            "[5 0 4 1 9 2 1 3 1 4]\n"
          ],
          "name": "stdout"
        }
      ]
    },
    {
      "cell_type": "code",
      "metadata": {
        "id": "R0wyBG--qIQL"
      },
      "source": [
        "# 바이너리화 과정\n",
        "# 원핫 인코딩(to_categorical(레이블, 레이블의 카테고리 개수) 이용)\n",
        "y_train = np_utils.to_categorical(y_class_train, 10)\n",
        "y_test = np_utils.to_categorical(y_class_test, 10)"
      ],
      "execution_count": 41,
      "outputs": []
    },
    {
      "cell_type": "code",
      "metadata": {
        "id": "RTTaHzB4uLuf",
        "outputId": "b68040b1-228e-4d56-b39d-7624bc62b06e",
        "colab": {
          "base_uri": "https://localhost:8080/"
        }
      },
      "source": [
        "# 변환된 값 출력해보기\n",
        "y_train[0]\n",
        "# 답인 5에 해당하는 인덱스에 맞도록 원핫인코딩되었다."
      ],
      "execution_count": 42,
      "outputs": [
        {
          "output_type": "execute_result",
          "data": {
            "text/plain": [
              "array([0., 0., 0., 0., 0., 1., 0., 0., 0., 0.], dtype=float32)"
            ]
          },
          "metadata": {
            "tags": []
          },
          "execution_count": 42
        }
      ]
    },
    {
      "cell_type": "markdown",
      "metadata": {
        "id": "PoYlzZQSupeu"
      },
      "source": [
        "### 딥러닝 기본 프레임 만들기"
      ]
    },
    {
      "cell_type": "code",
      "metadata": {
        "id": "jT6cJqQQuP8k"
      },
      "source": [
        "from keras.models import Sequential\n",
        "from keras.layers import Dense\n",
        "from keras.callbacks import ModelCheckpoint, EarlyStopping"
      ],
      "execution_count": 43,
      "outputs": []
    },
    {
      "cell_type": "code",
      "metadata": {
        "id": "4BKhhhdIu841"
      },
      "source": [
        "# 모델 프레임 설정\n",
        "model = Sequential()\n",
        "model.add(Dense(512, input_dim=784, activation='relu'))  # features 784개, hidden layer 512개 뉴런, 출력 10개인 모델\n",
        "model.add(Dense(10, activation='softmax'))  # softmax는 전 레이블에 대해 총합을 1로 만들어줌, 즉 각 클래스가 답일 확률을 반환함"
      ],
      "execution_count": 44,
      "outputs": []
    },
    {
      "cell_type": "code",
      "metadata": {
        "id": "6AjDlz2YwUQN"
      },
      "source": [
        "# 모델 실행환경 설정\n",
        "model.compile(loss='categorical_crossentropy', optimizer='adam', metrics=['accuracy']) \n",
        "# 오차함수 loss= 교차 엔트로피 다중 분류 문제 categorical 사용"
      ],
      "execution_count": 45,
      "outputs": []
    },
    {
      "cell_type": "code",
      "metadata": {
        "id": "c_ZMrUHbzMZ2"
      },
      "source": [
        "import os"
      ],
      "execution_count": 47,
      "outputs": []
    },
    {
      "cell_type": "code",
      "metadata": {
        "id": "NSdkKGurw6eF"
      },
      "source": [
        "# 모델 최적화 설정\n",
        "\n",
        "# 저장될 디렉토리 지정. 만약 없으면 만들어라.\n",
        "MODEL_DIR = './model/'\n",
        "if not os.path.exists(MODEL_DIR):\n",
        "  os.mkdir(MODEL_DIR)\n",
        "\n",
        "# 모델이 저장될 path 지정. epoch 횟수와, 테스트셋 오차값으로 파일명 지정\n",
        "modelpath='./model/{epoch:02d}-{val_loss:.4f}.hdf5'\n",
        "checkpointer = ModelCheckpoint(filepath=modelpath, monitor='val_loss', verbose=1, save_best_only=True)\n",
        "early_stopping_callback = EarlyStopping(monitor='val_loss', patience=10)"
      ],
      "execution_count": 48,
      "outputs": []
    },
    {
      "cell_type": "code",
      "metadata": {
        "id": "ZmETG81WzKnl",
        "outputId": "f1743d68-a361-4de4-f7f9-c146a88103f9",
        "colab": {
          "base_uri": "https://localhost:8080/"
        }
      },
      "source": [
        "# 모델의 실행, 학습시작\n",
        "history = model.fit(X_train, y_train, validation_data=(X_test,y_test), epochs=30, batch_size=200, verbose=1, callbacks=[early_stopping_callback])"
      ],
      "execution_count": 50,
      "outputs": [
        {
          "output_type": "stream",
          "text": [
            "Epoch 1/30\n",
            "300/300 [==============================] - 1s 3ms/step - loss: 0.0455 - accuracy: 0.9871 - val_loss: 0.0709 - val_accuracy: 0.9771\n",
            "Epoch 2/30\n",
            "300/300 [==============================] - 1s 3ms/step - loss: 0.0345 - accuracy: 0.9903 - val_loss: 0.0638 - val_accuracy: 0.9804\n",
            "Epoch 3/30\n",
            "300/300 [==============================] - 1s 3ms/step - loss: 0.0267 - accuracy: 0.9934 - val_loss: 0.0659 - val_accuracy: 0.9794\n",
            "Epoch 4/30\n",
            "300/300 [==============================] - 1s 3ms/step - loss: 0.0210 - accuracy: 0.9947 - val_loss: 0.0599 - val_accuracy: 0.9810\n",
            "Epoch 5/30\n",
            "300/300 [==============================] - 1s 3ms/step - loss: 0.0150 - accuracy: 0.9967 - val_loss: 0.0618 - val_accuracy: 0.9808\n",
            "Epoch 6/30\n",
            "300/300 [==============================] - 1s 3ms/step - loss: 0.0128 - accuracy: 0.9974 - val_loss: 0.0587 - val_accuracy: 0.9819\n",
            "Epoch 7/30\n",
            "300/300 [==============================] - 1s 3ms/step - loss: 0.0092 - accuracy: 0.9982 - val_loss: 0.0598 - val_accuracy: 0.9819\n",
            "Epoch 8/30\n",
            "300/300 [==============================] - 1s 3ms/step - loss: 0.0069 - accuracy: 0.9989 - val_loss: 0.0617 - val_accuracy: 0.9821\n",
            "Epoch 9/30\n",
            "300/300 [==============================] - 1s 3ms/step - loss: 0.0061 - accuracy: 0.9990 - val_loss: 0.0619 - val_accuracy: 0.9818\n",
            "Epoch 10/30\n",
            "300/300 [==============================] - 1s 3ms/step - loss: 0.0042 - accuracy: 0.9996 - val_loss: 0.0644 - val_accuracy: 0.9809\n",
            "Epoch 11/30\n",
            "300/300 [==============================] - 1s 3ms/step - loss: 0.0032 - accuracy: 0.9998 - val_loss: 0.0655 - val_accuracy: 0.9825\n",
            "Epoch 12/30\n",
            "300/300 [==============================] - 1s 3ms/step - loss: 0.0026 - accuracy: 0.9998 - val_loss: 0.0613 - val_accuracy: 0.9827\n",
            "Epoch 13/30\n",
            "300/300 [==============================] - 1s 3ms/step - loss: 0.0025 - accuracy: 0.9997 - val_loss: 0.0681 - val_accuracy: 0.9808\n",
            "Epoch 14/30\n",
            "300/300 [==============================] - 1s 3ms/step - loss: 0.0115 - accuracy: 0.9964 - val_loss: 0.0850 - val_accuracy: 0.9771\n",
            "Epoch 15/30\n",
            "300/300 [==============================] - 1s 3ms/step - loss: 0.0110 - accuracy: 0.9964 - val_loss: 0.0709 - val_accuracy: 0.9806\n",
            "Epoch 16/30\n",
            "300/300 [==============================] - 1s 3ms/step - loss: 0.0041 - accuracy: 0.9990 - val_loss: 0.0711 - val_accuracy: 0.9805\n"
          ],
          "name": "stdout"
        }
      ]
    },
    {
      "cell_type": "markdown",
      "metadata": {
        "id": "laRLcSeBzyVE"
      },
      "source": [
        "- early stopping에 의해 16회에 종료되었다.\n",
        "- 이미 클리닝 되어 있는 데이터셋이어서 그런지 별거 안해도 꽤 높은 정확도가 나온다 (98%)"
      ]
    },
    {
      "cell_type": "code",
      "metadata": {
        "id": "gJ794KQ60sqv",
        "outputId": "9587ddef-01f8-465b-bf09-d2ebb3730917",
        "colab": {
          "base_uri": "https://localhost:8080/"
        }
      },
      "source": [
        "# 테스트 정확도 출력\n",
        "model.evaluate(X_test, y_test)\n",
        "# [loss, accuracy]출력 "
      ],
      "execution_count": 57,
      "outputs": [
        {
          "output_type": "stream",
          "text": [
            "313/313 [==============================] - 1s 2ms/step - loss: 0.0711 - accuracy: 0.9805\n"
          ],
          "name": "stdout"
        },
        {
          "output_type": "execute_result",
          "data": {
            "text/plain": [
              "[0.07109186798334122, 0.9804999828338623]"
            ]
          },
          "metadata": {
            "tags": []
          },
          "execution_count": 57
        }
      ]
    },
    {
      "cell_type": "markdown",
      "metadata": {
        "id": "dSPVaNKD1a1P"
      },
      "source": [
        "98.04%의 정확도로 이미 꽤 높다"
      ]
    },
    {
      "cell_type": "code",
      "metadata": {
        "id": "Xji_pHkI1PdX",
        "outputId": "7305dd37-a7ef-4d58-f86b-4cd724b247b6",
        "colab": {
          "base_uri": "https://localhost:8080/"
        }
      },
      "source": [
        "# 학습 데이터 내부의 테스트 셋의 오차 확인\n",
        "y_vloss = history.history['val_loss']\n",
        "y_vloss"
      ],
      "execution_count": 58,
      "outputs": [
        {
          "output_type": "execute_result",
          "data": {
            "text/plain": [
              "[0.07085054367780685,\n",
              " 0.0637819841504097,\n",
              " 0.06586546450853348,\n",
              " 0.05987296253442764,\n",
              " 0.06179928407073021,\n",
              " 0.05865631252527237,\n",
              " 0.05979345738887787,\n",
              " 0.06170063465833664,\n",
              " 0.061917584389448166,\n",
              " 0.06439411640167236,\n",
              " 0.06546584516763687,\n",
              " 0.061296623200178146,\n",
              " 0.0681212916970253,\n",
              " 0.08498791605234146,\n",
              " 0.07088097929954529,\n",
              " 0.07109187543392181]"
            ]
          },
          "metadata": {
            "tags": []
          },
          "execution_count": 58
        }
      ]
    },
    {
      "cell_type": "code",
      "metadata": {
        "id": "lJlg3wjj1xyX",
        "outputId": "f99425a0-365c-4514-edc7-ecc748f47655",
        "colab": {
          "base_uri": "https://localhost:8080/"
        }
      },
      "source": [
        "# 학습데이터 내부의 학습셋의 오차\n",
        "y_loss = history.history['loss']\n",
        "y_loss"
      ],
      "execution_count": 60,
      "outputs": [
        {
          "output_type": "execute_result",
          "data": {
            "text/plain": [
              "[0.04552548751235008,\n",
              " 0.03450155258178711,\n",
              " 0.02666482701897621,\n",
              " 0.021031806245446205,\n",
              " 0.015032338909804821,\n",
              " 0.012797974981367588,\n",
              " 0.00918259285390377,\n",
              " 0.006894802208989859,\n",
              " 0.0060746693052351475,\n",
              " 0.004196156281977892,\n",
              " 0.0032079406082630157,\n",
              " 0.0025520625058561563,\n",
              " 0.002523956820368767,\n",
              " 0.011511952616274357,\n",
              " 0.010994554497301579,\n",
              " 0.004084847401827574]"
            ]
          },
          "metadata": {
            "tags": []
          },
          "execution_count": 60
        }
      ]
    },
    {
      "cell_type": "code",
      "metadata": {
        "id": "QNJetIl81zpP",
        "outputId": "a3ac0c86-7ed9-4cfa-d861-fe2d29d6ef46",
        "colab": {
          "base_uri": "https://localhost:8080/",
          "height": 291
        }
      },
      "source": [
        "# 그래프로 표현\n",
        "from matplotlib.ticker import FormatStrFormatter\n",
        "\n",
        "fig, ax = plt.subplots()\n",
        "\n",
        "ax.yaxis.set_major_formatter(FormatStrFormatter('%.2f'))\n",
        "\n",
        "x_len = np.arange(len(y_loss))\n",
        "plt.plot(x_len, y_vloss, marker='.', c='r', label='Testset_loss')\n",
        "plt.plot(x_len, y_loss, marker='.', c='b', label='Trainset_loss')\n",
        "plt.legend()\n",
        "plt.ylabel('loss', fontsize=18)\n",
        "plt.xlabel('epochs', fontsize=18)\n",
        "plt.grid()\n",
        "plt.ylim(0, 0.2)\n",
        "plt.yticks\n",
        "plt.show()"
      ],
      "execution_count": 70,
      "outputs": [
        {
          "output_type": "display_data",
          "data": {
            "image/png": "[encoded data removed]",
            "text/plain": [
              "<Figure size 432x288 with 1 Axes>"
            ]
          },
          "metadata": {
            "tags": [],
            "needs_background": "light"
          }
        }
      ]
    },
    {
      "cell_type": "markdown",
      "metadata": {
        "id": "aSbJZgaA3D3v"
      },
      "source": [
        "- 학습 데이터에 비해 test 데이터의 loss 가 높다"
      ]
    },
    {
      "cell_type": "markdown",
      "metadata": {
        "id": "kXT85iq14PV4"
      },
      "source": [
        "## CNN(컨볼루션 신경망) 으로 동일한 문제를 풀어보자"
      ]
    },
    {
      "cell_type": "code",
      "metadata": {
        "id": "G3xxm6qZ4WOH"
      },
      "source": [
        "from keras.datasets import mnist\n",
        "from keras.utils import np_utils\n",
        "from keras.models import Sequential\n",
        "from keras.layers import Dense, Dropout, Flatten, Conv2D, MaxPool2D  # 2D : 2차원 평면 이미지 이므로\n",
        "from keras.callbacks import ModelCheckpoint, EarlyStopping"
      ],
      "execution_count": 72,
      "outputs": []
    },
    {
      "cell_type": "code",
      "metadata": {
        "id": "amd11Cob4XPn"
      },
      "source": [
        "import matplotlib.pyplot as plt\n",
        "import numpy as np\n",
        "import os\n",
        "import tensorflow as tf"
      ],
      "execution_count": 73,
      "outputs": []
    },
    {
      "cell_type": "code",
      "metadata": {
        "id": "UWQazX394Xdv"
      },
      "source": [
        "# seed 값 설정\n",
        "seed = 0\n",
        "np.random.seed(seed)\n",
        "tf.random.set_seed(seed)"
      ],
      "execution_count": 74,
      "outputs": []
    },
    {
      "cell_type": "code",
      "metadata": {
        "id": "BMakd-7v4W-g"
      },
      "source": [
        "# 데이터 로드\n",
        "(X_train, y_train),(X_test, y_test) = mnist.load_data()\n",
        "# 흑백 이미지이므로 input shpae의 마지막은 1이 되어야 한다(컬러면 3(RGB)), 4차원으로 차원 변경하기\n",
        "X_train = X_train.reshape(X_train.shape[0],28, 28,1).astype('float32') /255\n",
        "X_test = X_test.reshape(X_test.shape[0], 28, 28, 1).astype('float32')/255\n",
        "# 레이블 원핫인코딩\n",
        "y_train = np_utils.to_categorical(y_train)\n",
        "y_test = np_utils.to_categorical(y_test)"
      ],
      "execution_count": 75,
      "outputs": []
    },
    {
      "cell_type": "code",
      "metadata": {
        "id": "jQh5PZJo6c4P",
        "outputId": "108a16ba-a14a-4f1a-d8a5-150211388287",
        "colab": {
          "base_uri": "https://localhost:8080/"
        }
      },
      "source": [
        "y_train[0], y_test[0]\n",
        "# 원핫 인코딩 결과 확인"
      ],
      "execution_count": 77,
      "outputs": [
        {
          "output_type": "execute_result",
          "data": {
            "text/plain": [
              "(array([0., 0., 0., 0., 0., 1., 0., 0., 0., 0.], dtype=float32),\n",
              " array([0., 0., 0., 0., 0., 0., 0., 1., 0., 0.], dtype=float32))"
            ]
          },
          "metadata": {
            "tags": []
          },
          "execution_count": 77
        }
      ]
    },
    {
      "cell_type": "code",
      "metadata": {
        "id": "_R9PsUWA6dmg"
      },
      "source": [
        "# 컨볼루션 신경망 설정\n",
        "model = Sequential()\n",
        "# 흑백 이미지이므로 input shpae의 마지막은 1이 되어야 한다(컬러면 3(RGB))\n",
        "# 마스크 개수 32개, 마스크 사이즈 (3,3): 여러개의 마스크를 적용하면 서로 다른 컨볼루션이 여러개 나온다. 즉 여기서는 32개의 컨볼루션이 1차로 반환된다. \n",
        "model.add(Conv2D(32, kernel_size=(3,3), input_shape=(28,28,1), activation='relu'))\n",
        "# 마스크 개수 64개(필터의 개수)를 적용한 새로운 층 추가\n",
        "model.add(Conv2D(64, (3,3), activation='relu'))\n",
        "# 맥스풀링층 추가(특징점 극대화하여 추출)\n",
        "model.add(MaxPool2D(pool_size=2))   # 추출할 영역 2*2로 지정(2*2내부에서 제일 큰 값만 가져오기) => 컨볼루션 된 데이터는 원본데이터의 절반이 된다.\n",
        "# 과적합을 방지하기 위해 25%의 노드 꺼주는 dropout 층 추가\n",
        "model.add(Dropout(0.25))\n",
        "\n",
        "'''\n",
        "이제 위에서 처리된 결과로 학습을 시키기 위해 Dense() 함수를 이용해 기본층에 연결해야한다.\n",
        " => 위에서는 2D 배열인 채로 다루어야 했지만, 이제는 1차원으로 변환필요 => Flatten\n",
        "'''\n",
        "model.add(Flatten())\n",
        "model.add(Dense(128, activation='relu'))\n",
        "model.add(Dropout(0.5))\n",
        "model.add(Dense(10, activation='softmax'))  # 10개의 클래스로 구분되어 있으므로 출력층은 10개, 각 레이블당 답이 될 확률이 반환된다."
      ],
      "execution_count": 78,
      "outputs": []
    },
    {
      "cell_type": "code",
      "metadata": {
        "id": "A-L_sEqJ_8Qa"
      },
      "source": [
        "# 컴파일\n",
        "model.compile(loss='categorical_crossentropy', optimizer='adam', metrics=['accuracy'])"
      ],
      "execution_count": 79,
      "outputs": []
    },
    {
      "cell_type": "markdown",
      "metadata": {
        "id": "JWVZDVZ87y33"
      },
      "source": [
        "- 컨볼루션 층의 적용\n",
        "\n",
        "![Cap 2020-11-10 15-54-04-717.jpg](data:image/jpeg;base64,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)"
      ]
    },
    {
      "cell_type": "markdown",
      "metadata": {
        "id": "SJqRUS188ZIO"
      },
      "source": [
        "- 맥스 풀링 층 추가\n",
        "\n",
        "![Cap 2020-11-10 15-56-59-784.jpg](data:image/jpeg;base64,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)"
      ]
    },
    {
      "cell_type": "markdown",
      "metadata": {
        "id": "crl3J2mv910b"
      },
      "source": [
        "- 드롭아웃과 플래튼 추가\n",
        "\n",
        "![Cap 2020-11-10 16-03-20-713.png](data:image/png;base64,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)"
      ]
    },
    {
      "cell_type": "code",
      "metadata": {
        "id": "v4qlUZqo8XX7"
      },
      "source": [
        "# 모델 최적화 설정\n",
        "MODEL_DIR = './model/'\n",
        "if not os.path.exists(MODEL_DIR):\n",
        "  os.mkdir(MODEL_DIR)\n",
        "\n",
        "modelpath = './model/{epoch:02d}-{val_loss:.4f}.hdf5'\n",
        "checkpointer = ModelCheckpoint(filepath=modelpath, monitor='val_loss', verbose=1, save_best_only=True)\n",
        "early_stopping_callback = EarlyStopping(monitor='val_loss', patience=10)"
      ],
      "execution_count": 80,
      "outputs": []
    },
    {
      "cell_type": "code",
      "metadata": {
        "id": "q9BhJycdBtcs",
        "outputId": "ccbc68f7-957d-4926-e074-223459322c2b",
        "colab": {
          "base_uri": "https://localhost:8080/"
        }
      },
      "source": [
        "model.summary()"
      ],
      "execution_count": 82,
      "outputs": [
        {
          "output_type": "stream",
          "text": [
            "Model: \"sequential_1\"\n",
            "_________________________________________________________________\n",
            "Layer (type)                 Output Shape              Param #   \n",
            "=================================================================\n",
            "conv2d (Conv2D)              (None, 26, 26, 32)        320       \n",
            "_________________________________________________________________\n",
            "conv2d_1 (Conv2D)            (None, 24, 24, 64)        18496     \n",
            "_________________________________________________________________\n",
            "max_pooling2d (MaxPooling2D) (None, 12, 12, 64)        0         \n",
            "_________________________________________________________________\n",
            "dropout (Dropout)            (None, 12, 12, 64)        0         \n",
            "_________________________________________________________________\n",
            "flatten (Flatten)            (None, 9216)              0         \n",
            "_________________________________________________________________\n",
            "dense_2 (Dense)              (None, 128)               1179776   \n",
            "_________________________________________________________________\n",
            "dropout_1 (Dropout)          (None, 128)               0         \n",
            "_________________________________________________________________\n",
            "dense_3 (Dense)              (None, 10)                1290      \n",
            "=================================================================\n",
            "Total params: 1,199,882\n",
            "Trainable params: 1,199,882\n",
            "Non-trainable params: 0\n",
            "_________________________________________________________________\n"
          ],
          "name": "stdout"
        }
      ]
    },
    {
      "cell_type": "code",
      "metadata": {
        "id": "LTSxrPR2AMFq",
        "outputId": "74f2e5f5-9b78-493a-b3f7-48f1a4d765f0",
        "colab": {
          "base_uri": "https://localhost:8080/"
        }
      },
      "source": [
        "# 학습 시작\n",
        "history = model.fit(X_train, y_train, validation_data=(X_test, y_test), epochs=30, batch_size=200, verbose=1, callbacks=[early_stopping_callback])\n"
      ],
      "execution_count": 81,
      "outputs": [
        {
          "output_type": "stream",
          "text": [
            "Epoch 1/30\n",
            "  1/300 [..............................] - ETA: 0s - loss: 2.3204 - accuracy: 0.0700WARNING:tensorflow:Callbacks method `on_train_batch_end` is slow compared to the batch time (batch time: 0.0053s vs `on_train_batch_end` time: 0.0093s). Check your callbacks.\n",
            "300/300 [==============================] - 3s 11ms/step - loss: 0.2761 - accuracy: 0.9163 - val_loss: 0.0574 - val_accuracy: 0.9818\n",
            "Epoch 2/30\n",
            "300/300 [==============================] - 3s 10ms/step - loss: 0.0894 - accuracy: 0.9739 - val_loss: 0.0423 - val_accuracy: 0.9868\n",
            "Epoch 3/30\n",
            "300/300 [==============================] - 3s 10ms/step - loss: 0.0677 - accuracy: 0.9798 - val_loss: 0.0358 - val_accuracy: 0.9877\n",
            "Epoch 4/30\n",
            "300/300 [==============================] - 3s 10ms/step - loss: 0.0535 - accuracy: 0.9839 - val_loss: 0.0314 - val_accuracy: 0.9900\n",
            "Epoch 5/30\n",
            "300/300 [==============================] - 3s 10ms/step - loss: 0.0468 - accuracy: 0.9856 - val_loss: 0.0287 - val_accuracy: 0.9911\n",
            "Epoch 6/30\n",
            "300/300 [==============================] - 3s 10ms/step - loss: 0.0411 - accuracy: 0.9874 - val_loss: 0.0270 - val_accuracy: 0.9910\n",
            "Epoch 7/30\n",
            "300/300 [==============================] - 3s 10ms/step - loss: 0.0367 - accuracy: 0.9885 - val_loss: 0.0264 - val_accuracy: 0.9922\n",
            "Epoch 8/30\n",
            "300/300 [==============================] - 3s 10ms/step - loss: 0.0317 - accuracy: 0.9901 - val_loss: 0.0294 - val_accuracy: 0.9909\n",
            "Epoch 9/30\n",
            "300/300 [==============================] - 3s 10ms/step - loss: 0.0292 - accuracy: 0.9905 - val_loss: 0.0255 - val_accuracy: 0.9920\n",
            "Epoch 10/30\n",
            "300/300 [==============================] - 3s 10ms/step - loss: 0.0265 - accuracy: 0.9909 - val_loss: 0.0262 - val_accuracy: 0.9920\n",
            "Epoch 11/30\n",
            "300/300 [==============================] - 3s 10ms/step - loss: 0.0248 - accuracy: 0.9915 - val_loss: 0.0278 - val_accuracy: 0.9916\n",
            "Epoch 12/30\n",
            "300/300 [==============================] - 3s 10ms/step - loss: 0.0215 - accuracy: 0.9931 - val_loss: 0.0296 - val_accuracy: 0.9921\n",
            "Epoch 13/30\n",
            "300/300 [==============================] - 3s 10ms/step - loss: 0.0222 - accuracy: 0.9927 - val_loss: 0.0275 - val_accuracy: 0.9917\n",
            "Epoch 14/30\n",
            "300/300 [==============================] - 3s 10ms/step - loss: 0.0191 - accuracy: 0.9936 - val_loss: 0.0304 - val_accuracy: 0.9922\n",
            "Epoch 15/30\n",
            "300/300 [==============================] - 3s 10ms/step - loss: 0.0198 - accuracy: 0.9934 - val_loss: 0.0265 - val_accuracy: 0.9930\n",
            "Epoch 16/30\n",
            "300/300 [==============================] - 3s 11ms/step - loss: 0.0163 - accuracy: 0.9943 - val_loss: 0.0303 - val_accuracy: 0.9924\n",
            "Epoch 17/30\n",
            "300/300 [==============================] - 3s 10ms/step - loss: 0.0171 - accuracy: 0.9944 - val_loss: 0.0258 - val_accuracy: 0.9932\n",
            "Epoch 18/30\n",
            "300/300 [==============================] - 3s 11ms/step - loss: 0.0146 - accuracy: 0.9948 - val_loss: 0.0320 - val_accuracy: 0.9919\n",
            "Epoch 19/30\n",
            "300/300 [==============================] - 3s 10ms/step - loss: 0.0169 - accuracy: 0.9943 - val_loss: 0.0280 - val_accuracy: 0.9920\n"
          ],
          "name": "stdout"
        }
      ]
    },
    {
      "cell_type": "code",
      "metadata": {
        "id": "boiWrJCqBjg5",
        "outputId": "43bfe4b4-c92a-447e-ac00-603caff4bb0a",
        "colab": {
          "base_uri": "https://localhost:8080/"
        }
      },
      "source": [
        "# 테스트 정확도 출력\n",
        "model.evaluate(X_test, y_test)"
      ],
      "execution_count": 83,
      "outputs": [
        {
          "output_type": "stream",
          "text": [
            "313/313 [==============================] - 1s 3ms/step - loss: 0.0280 - accuracy: 0.9920\n"
          ],
          "name": "stdout"
        },
        {
          "output_type": "execute_result",
          "data": {
            "text/plain": [
              "[0.02799418568611145, 0.9919999837875366]"
            ]
          },
          "metadata": {
            "tags": []
          },
          "execution_count": 83
        }
      ]
    },
    {
      "cell_type": "markdown",
      "metadata": {
        "id": "XuON2JduCD3r"
      },
      "source": [
        "- 정확도 99% 로 매우 높다"
      ]
    },
    {
      "cell_type": "code",
      "metadata": {
        "id": "WFT2WXk_CCqK",
        "outputId": "1f6bfa6d-0dbc-466e-d083-fba8ec207f09",
        "colab": {
          "base_uri": "https://localhost:8080/"
        }
      },
      "source": [
        "# 학습데이터 내부의 테스트 셋의 오차 확인하기\n",
        "y_vloss = history.history['val_loss']\n",
        "y_vloss"
      ],
      "execution_count": 84,
      "outputs": [
        {
          "output_type": "execute_result",
          "data": {
            "text/plain": [
              "[0.05739422142505646,\n",
              " 0.042342640459537506,\n",
              " 0.03578146547079086,\n",
              " 0.03141506016254425,\n",
              " 0.028712747618556023,\n",
              " 0.026978284120559692,\n",
              " 0.02642851509153843,\n",
              " 0.029401272535324097,\n",
              " 0.02547430247068405,\n",
              " 0.026248440146446228,\n",
              " 0.027779271826148033,\n",
              " 0.029580391943454742,\n",
              " 0.027540920302271843,\n",
              " 0.030378269031643867,\n",
              " 0.026531314477324486,\n",
              " 0.03033333458006382,\n",
              " 0.025825414806604385,\n",
              " 0.03201230615377426,\n",
              " 0.027994176372885704]"
            ]
          },
          "metadata": {
            "tags": []
          },
          "execution_count": 84
        }
      ]
    },
    {
      "cell_type": "code",
      "metadata": {
        "id": "Y_K6j85vCNYq",
        "outputId": "c805499b-077b-496c-c0a6-8d3428d714a9",
        "colab": {
          "base_uri": "https://localhost:8080/"
        }
      },
      "source": [
        "#  학습데이터 내부의 학습셋의 오차\n",
        "y_loss = history.history['loss']\n",
        "y_loss"
      ],
      "execution_count": 85,
      "outputs": [
        {
          "output_type": "execute_result",
          "data": {
            "text/plain": [
              "[0.2761453092098236,\n",
              " 0.08941490203142166,\n",
              " 0.06773705035448074,\n",
              " 0.05350419878959656,\n",
              " 0.04675968736410141,\n",
              " 0.04108843952417374,\n",
              " 0.036709416657686234,\n",
              " 0.03167949244379997,\n",
              " 0.02919873222708702,\n",
              " 0.026466941460967064,\n",
              " 0.024830808863043785,\n",
              " 0.02151099592447281,\n",
              " 0.022200867533683777,\n",
              " 0.019146425649523735,\n",
              " 0.019765714183449745,\n",
              " 0.0163066778331995,\n",
              " 0.017116598784923553,\n",
              " 0.014611879363656044,\n",
              " 0.016894666478037834]"
            ]
          },
          "metadata": {
            "tags": []
          },
          "execution_count": 85
        }
      ]
    },
    {
      "cell_type": "code",
      "metadata": {
        "id": "sbZasNB4CSGD",
        "outputId": "04fc9c77-0787-4f46-ba93-b303b47efaac",
        "colab": {
          "base_uri": "https://localhost:8080/",
          "height": 287
        }
      },
      "source": [
        "# 위의 오차를 그래프로 표현 \n",
        "x_len = np.arange(len(y_loss))\n",
        "plt.plot(x_len, y_vloss, marker='.', c='r', label='Testset_loss')\n",
        "plt.plot(x_len, y_loss, marker='.', c='b', label='Trainset_loss')\n",
        "plt.legend()\n",
        "plt.grid()\n",
        "plt.xlabel('epoch', fontsize=18)\n",
        "plt.ylabel('loss', fontsize=18)\n",
        "plt.show()"
      ],
      "execution_count": 86,
      "outputs": [
        {
          "output_type": "display_data",
          "data": {
            "image/png": "[encoded data removed]",
            "text/plain": [
              "<Figure size 432x288 with 1 Axes>"
            ]
          },
          "metadata": {
            "tags": [],
            "needs_background": "light"
          }
        }
      ]
    },
    {
      "cell_type": "markdown",
      "metadata": {
        "id": "Hq41smbTCzyz"
      },
      "source": [
        "- 테스트 셋에서도 오차가 매우 적다. 10번정도 위치의 베스트 모델이 저장되었을듯 하다."
      ]
    },
    {
      "cell_type": "markdown",
      "metadata": {
        "id": "ZQsIU6MgDSSj"
      },
      "source": [
        "- 매우 정확하다. 100%를 다 맞히지 못한 이유는 데이터 자체의 문제 때문일수가 있다"
      ]
    }
  ]
}
