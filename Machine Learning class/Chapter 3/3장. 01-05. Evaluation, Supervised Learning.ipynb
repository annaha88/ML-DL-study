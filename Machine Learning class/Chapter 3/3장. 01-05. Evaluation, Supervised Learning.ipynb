{
 "cells": [
  {
   "cell_type": "markdown",
   "metadata": {},
   "source": [
    "### 본 장은 '지도 학습의, 분류 문제'에 대한 \"성능평가 지표\"를 학습한다."
   ]
  },
  {
   "cell_type": "markdown",
   "metadata": {},
   "source": [
    "### 01. Accuracy(정확도)"
   ]
  },
  {
   "cell_type": "code",
   "execution_count": 1,
   "metadata": {},
   "outputs": [],
   "source": [
    "import numpy as np\n",
    "import pandas as pd\n",
    "\n",
    "from sklearn.base import BaseEstimator  # 가장 기본 Estimator"
   ]
  },
  {
   "cell_type": "code",
   "execution_count": 2,
   "metadata": {},
   "outputs": [],
   "source": [
    "aa=BaseEstimator() # 파라미터가 없는 추상적인 객체"
   ]
  },
  {
   "cell_type": "code",
   "execution_count": 3,
   "metadata": {},
   "outputs": [],
   "source": [
    "# 간단한 분류 알고리즘 클래스 생성\n",
    "# 간단한 알고리즘이지만, 정확도만 성능 평가지표로 삼으면 문제가 있을 수 있다.\n",
    "class MyDummyClf(BaseEstimator):\n",
    "# pass #재사용\n",
    "    # fit()메소드를 정의(선언) : 아무것도 안한다.\n",
    "    # X: 학습 데이터, y : 학습 데이터 답\n",
    "    def fit(self, X, y=None):\n",
    "        pass\n",
    "\n",
    "    # X : 예측할 테스트데이터, 타이타닉 데이터프레임\n",
    "    # 단순 성별로만 생존여부 예측한 함수 생성\n",
    "    def predict(self, X):\n",
    "        pred = np.zeros((X.shape[0],1))  #np.zeros() => 0 으로 채워진 ndarray 생성. X를 저장할 수 있는 공간 생성\n",
    "        for i in range(X.shape[0]):\n",
    "            if X['Sex'].iloc[i]==1:\n",
    "                pred[i]=0\n",
    "            else:\n",
    "                pred[i]=1\n",
    "        return pred"
   ]
  },
  {
   "cell_type": "markdown",
   "metadata": {},
   "source": [
    "앞 장의 예제 함수 코드 가져오기"
   ]
  },
  {
   "cell_type": "code",
   "execution_count": 4,
   "metadata": {},
   "outputs": [],
   "source": [
    "# Age, Cabin, Embarked, Fare의 Null 처리 함수\n",
    "def fillna_(df):\n",
    "    '''Age=> mean()'''\n",
    "    df['Age'].fillna(df['Age'].mean(), inplace=True)\n",
    "    '''Cabin=> 'N' '''\n",
    "    df['Cabin'].fillna('N', inplace=True)\n",
    "    df['Embarked'].fillna('N', inplace=True)\n",
    "    df['Fare'].fillna(0, inplace=True)\n",
    "    \n",
    "    return df"
   ]
  },
  {
   "cell_type": "code",
   "execution_count": 5,
   "metadata": {},
   "outputs": [],
   "source": [
    "# 불필요한 컬럼 제거 함수\n",
    "def drop_feature(df): \n",
    "    df.drop(['PassengerId','Name','Ticket'], axis=1, inplace=True)\n",
    "    return df"
   ]
  },
  {
   "cell_type": "code",
   "execution_count": 6,
   "metadata": {},
   "outputs": [],
   "source": [
    "# Cabin, Sex, Embarked 레이블 인코딩 함수\n",
    "# Cabin : C85 => C => 레이블 인코딩 진행 필요\n",
    "from sklearn.preprocessing import LabelEncoder\n",
    "def format_features(df):\n",
    "    df['Cabin']=df['Cabin'].str[:1] # Cabin: C85 =>\n",
    "    features=['Cabin','Sex','Embarked']\n",
    "    for feature in features:\n",
    "        le = LabelEncoder()\n",
    "        le = le.fit(df[feature])\n",
    "        df[feature]=le.transform(df[feature])\n",
    "        \n",
    "    return df"
   ]
  },
  {
   "cell_type": "code",
   "execution_count": 7,
   "metadata": {},
   "outputs": [],
   "source": [
    "# 앞에서 선언한 함수를 다 적용하는 함수\n",
    "def transform_features(df):\n",
    "    df= fillna_(df)\n",
    "    df= drop_feature(df)\n",
    "    df= format_features(df)\n",
    "    return df"
   ]
  },
  {
   "cell_type": "markdown",
   "metadata": {},
   "source": [
    " MyDummyClf 클래스 성능평가 하기"
   ]
  },
  {
   "cell_type": "code",
   "execution_count": 8,
   "metadata": {},
   "outputs": [
    {
     "name": "stdout",
     "output_type": "stream",
     "text": [
      "정확도 : 0.8324\n"
     ]
    }
   ],
   "source": [
    "from sklearn.model_selection import train_test_split\n",
    "from sklearn.metrics import accuracy_score\n",
    "\n",
    "# 원본 데이터 로딩\n",
    "titanic_df = pd.read_csv('../data/titanic_train.csv')\n",
    "\n",
    "# 데이터와 답 분리\n",
    "y_tit_df = titanic_df['Survived']  # 답\n",
    "X_tit_df = titanic_df.drop('Survived', axis=1, inplace=False) # 데이터\n",
    "\n",
    "# 데이터 전처리 (Null 채우기, 불필요한 컬럼제거, 숫자로 인코딩)\n",
    "X_tit_df = transform_features(X_tit_df)\n",
    "\n",
    "# 학습데이터와 테스트데이터 분리\n",
    "X_train, X_test, y_train, y_test = \\\n",
    "train_test_split(\n",
    "      X_tit_df  # 분리할 데이터\n",
    "    , y_tit_df  # 분리할 답\n",
    "    , test_size = 0.2\n",
    "    , random_state = 11\n",
    ")\n",
    "\n",
    "# 1. 모델 객체 생성\n",
    "myclf= MyDummyClf()\n",
    "\n",
    "# 2. 학습\n",
    "myclf.fit(X_train, y_train)\n",
    "\n",
    "# 3. 예측값 추출\n",
    "mypred = myclf.predict(X_test)\n",
    "\n",
    "# 4. 정확도 계산\n",
    "accu = accuracy_score(y_test, mypred)\n",
    "\n",
    "print('정확도 : {0:.4f}'.format(accu))"
   ]
  },
  {
   "cell_type": "markdown",
   "metadata": {},
   "source": [
    "### 불균형한 데이터 정확도 예측, 성능 평가"
   ]
  },
  {
   "cell_type": "code",
   "execution_count": 9,
   "metadata": {},
   "outputs": [],
   "source": [
    "# load_digits :  0~9 사이 값을 임의 생성\n",
    "from sklearn.datasets import load_digits"
   ]
  },
  {
   "cell_type": "code",
   "execution_count": 10,
   "metadata": {},
   "outputs": [
    {
     "data": {
      "text/plain": [
       "(array([ 0.,  0.,  5., 13.,  9.,  1.,  0.,  0.,  0.,  0., 13., 15., 10.,\n",
       "        15.,  5.,  0.,  0.,  3., 15.,  2.,  0., 11.,  8.,  0.,  0.,  4.,\n",
       "        12.,  0.,  0.,  8.,  8.,  0.,  0.,  5.,  8.,  0.,  0.,  9.,  8.,\n",
       "         0.,  0.,  4., 11.,  0.,  1., 12.,  7.,  0.,  0.,  2., 14.,  5.,\n",
       "        10., 12.,  0.,  0.,  0.,  0.,  6., 13., 10.,  0.,  0.,  0.]),\n",
       " 0)"
      ]
     },
     "execution_count": 10,
     "metadata": {},
     "output_type": "execute_result"
    }
   ],
   "source": [
    "digits = load_digits()\n",
    "digits.data[0], digits.target[0]"
   ]
  },
  {
   "cell_type": "code",
   "execution_count": 11,
   "metadata": {},
   "outputs": [],
   "source": [
    "# 불균형 데이터 생성\n",
    "#  digit.target 값이 7인 경우를 예를 들어보겠다.\n",
    "y=(digits.target==7).astype(int)\n",
    "# digits.target ==7 => True.astype(int) =>1\n",
    "# digits.target !=7 => False.astype(int) =>0"
   ]
  },
  {
   "cell_type": "code",
   "execution_count": 12,
   "metadata": {},
   "outputs": [],
   "source": [
    "# 데이터와 답을 학습데이터와 테스트데이터로 분리\n",
    "# 데이터 : digits.data\n",
    "# 답: y (불균형 데이터)\n",
    "X_train, X_test, y_train, y_test = \\\n",
    "train_test_split(\n",
    "    digits.data  # 전체 데이터\n",
    "    ,y  # 전체 답\n",
    "    ,random_state=0\n",
    ")"
   ]
  },
  {
   "cell_type": "code",
   "execution_count": 13,
   "metadata": {},
   "outputs": [
    {
     "name": "stdout",
     "output_type": "stream",
     "text": [
      "레이블 테스트 세트 크기 (450,)\n",
      "테스트 세트의 레이블 분포값\n",
      "0    402\n",
      "1     48\n",
      "dtype: int64\n"
     ]
    }
   ],
   "source": [
    "# 불균형한 레이블 데이터 분포확인\n",
    "print('레이블 테스트 세트 크기', y_test.shape)\n",
    "print('테스트 세트의 레이블 분포값')\n",
    "print(pd.Series(y_test).value_counts())"
   ]
  },
  {
   "cell_type": "code",
   "execution_count": 14,
   "metadata": {},
   "outputs": [],
   "source": [
    "from sklearn.datasets import load_digits\n",
    "\n",
    "class MyFakeClf(BaseEstimator):\n",
    "    def fit(self, X,y):\n",
    "        pass\n",
    "    \n",
    "    def predict(self, X):\n",
    "        return np.zeros((len(X),1), dtype=bool)   # zeros 이기 때문에 모두 0이고, dtype을 bool로 주었으므로 모두 False 가 됨."
   ]
  },
  {
   "cell_type": "code",
   "execution_count": 15,
   "metadata": {},
   "outputs": [
    {
     "data": {
      "text/plain": [
       "0.8933333333333333"
      ]
     },
     "execution_count": 15,
     "metadata": {},
     "output_type": "execute_result"
    }
   ],
   "source": [
    "# 모델 생성, 학습, 예측, 평가\n",
    "fakeclf = MyFakeClf()\n",
    "fakeclf.fit(X_train, y_train)\n",
    "fakepred = fakeclf.predict(X_test)\n",
    "accuracy_score(y_test, fakepred)"
   ]
  },
  {
   "cell_type": "code",
   "execution_count": 16,
   "metadata": {},
   "outputs": [],
   "source": [
    "a = zip(y_test, fakepred)"
   ]
  },
  {
   "cell_type": "code",
   "execution_count": 17,
   "metadata": {},
   "outputs": [
    {
     "data": {
      "text/plain": [
       "(450, 450)"
      ]
     },
     "execution_count": 17,
     "metadata": {},
     "output_type": "execute_result"
    }
   ],
   "source": [
    "len(y_test), len(fakepred)"
   ]
  },
  {
   "cell_type": "markdown",
   "metadata": {},
   "source": [
    "아무런 fitting 을 하지않고, zero 값으로만 채운 predict 메서드를 사용하여도 정확도가 90% 가까이 나올수가 있다. \n",
    "즉 정확도 성능평가지표만을 고려하면, 잘못된 결과가 도출될수 있다"
   ]
  },
  {
   "cell_type": "markdown",
   "metadata": {},
   "source": [
    "### 02. Confusion Matrix (오차행렬)\n",
    "- 이진 분류(양성(Positive), 음성(Negative)을 판단)에서 중요한 성능지표"
   ]
  },
  {
   "cell_type": "code",
   "execution_count": 19,
   "metadata": {},
   "outputs": [
    {
     "data": {
      "text/plain": [
       "array([[402,   0],\n",
       "       [ 48,   0]], dtype=int64)"
      ]
     },
     "execution_count": 19,
     "metadata": {},
     "output_type": "execute_result"
    }
   ],
   "source": [
    "from sklearn.metrics import confusion_matrix\n",
    "\n",
    "# y_test : 실제 답, fakepred: 예측 답\n",
    "# 오차행렬 생성\n",
    "confusion_matrix(y_test, fakepred)"
   ]
  },
  {
   "cell_type": "markdown",
   "metadata": {},
   "source": [
    "비대칭한 데이터세트에서 정확도는 수치적 판단오류를 일으킬수 있다 =>정밀도와 재현율도 고려해야한다."
   ]
  },
  {
   "cell_type": "markdown",
   "metadata": {},
   "source": [
    "### 03. 정밀도와 재현율"
   ]
  },
  {
   "cell_type": "code",
   "execution_count": 20,
   "metadata": {},
   "outputs": [],
   "source": [
    "import numpy as np\n",
    "import pandas as pd\n",
    "from sklearn.metrics import accuracy_score\n",
    "from sklearn.metrics import precision_score\n",
    "from sklearn.metrics import recall_score\n",
    "from sklearn.metrics import confusion_matrix"
   ]
  },
  {
   "cell_type": "code",
   "execution_count": 24,
   "metadata": {},
   "outputs": [],
   "source": [
    "# 정확도, 오차행렬, 정밀도, 재현율\n",
    "# 파라미터(재료) : 원래 답(y_test), 예측값(pred)\n",
    "def get_clf_eval(y_test, pred):\n",
    "    confusion = confusion_matrix(y_test, pred) # 오차행렬\n",
    "    accu = accuracy_score(y_test, pred) # 정확도\n",
    "    precision = precision_score(y_test, pred) # 정밀도\n",
    "    recall = recall_score(y_test, pred) # 재현율\n",
    "    print('오차 행렬')\n",
    "    print(confusion)\n",
    "    result = '정확도: {0:.4f}, 정밀도 : {1:.4f}, 재현율 : {2:.4f}'\n",
    "    print(result.format(accu, precision, recall))\n"
   ]
  },
  {
   "cell_type": "code",
   "execution_count": 22,
   "metadata": {},
   "outputs": [],
   "source": [
    "# LogisticRegression (이진분류 알고리즘)\n",
    "from sklearn.model_selection import train_test_split\n",
    "from sklearn.linear_model import LogisticRegression"
   ]
  },
  {
   "cell_type": "code",
   "execution_count": 23,
   "metadata": {},
   "outputs": [],
   "source": [
    "# 타이타닉 데이터 로딩, 가공, 데이터 분리\n",
    "titanic_df = pd.read_csv('../data/titanic_train.csv')\n",
    "\n",
    "# 답 데이터 추출\n",
    "y_tit_df = titanic_df['Survived']\n",
    "\n",
    "# 답을 제외한 데이터 추출\n",
    "X_tit_df = titanic_df.drop('Survived', axis=1)\n",
    "\n",
    "# 데이터 가공(전처리)\n",
    "X_tit_df = transform_features(X_tit_df)\n",
    "\n",
    "# 데이터 분리\n",
    "X_train, X_test, y_train, y_test = \\\n",
    "train_test_split(\n",
    "     X_tit_df\n",
    "    ,y_tit_df\n",
    "    ,test_size=0.2\n",
    "    ,random_state=0\n",
    ")\n"
   ]
  },
  {
   "cell_type": "code",
   "execution_count": 26,
   "metadata": {},
   "outputs": [
    {
     "name": "stdout",
     "output_type": "stream",
     "text": [
      "오차 행렬\n",
      "[[92 18]\n",
      " [16 53]]\n",
      "정확도: 0.8101, 정밀도 : 0.7465, 재현율 : 0.7681\n"
     ]
    },
    {
     "name": "stderr",
     "output_type": "stream",
     "text": [
      "C:\\Users\\TJ\\anaconda3\\envs\\ml01-02\\lib\\site-packages\\sklearn\\linear_model\\_logistic.py:764: ConvergenceWarning: lbfgs failed to converge (status=1):\n",
      "STOP: TOTAL NO. of ITERATIONS REACHED LIMIT.\n",
      "\n",
      "Increase the number of iterations (max_iter) or scale the data as shown in:\n",
      "    https://scikit-learn.org/stable/modules/preprocessing.html\n",
      "Please also refer to the documentation for alternative solver options:\n",
      "    https://scikit-learn.org/stable/modules/linear_model.html#logistic-regression\n",
      "  extra_warning_msg=_LOGISTIC_SOLVER_CONVERGENCE_MSG)\n"
     ]
    }
   ],
   "source": [
    "# 모델 생성, 학습, 예측, 평가\n",
    "\n",
    "# 모델 생성\n",
    "lr_clf = LogisticRegression()\n",
    "\n",
    "# 학습\n",
    "lr_clf.fit(X_train, y_train)\n",
    "\n",
    "# 예측 \n",
    "pred = lr_clf.predict(X_test)\n",
    "\n",
    "# 평가\n",
    "get_clf_eval(y_test, pred)"
   ]
  },
  {
   "cell_type": "code",
   "execution_count": 27,
   "metadata": {},
   "outputs": [
    {
     "data": {
      "text/plain": [
       "0    110\n",
       "1     69\n",
       "Name: Survived, dtype: int64"
      ]
     },
     "execution_count": 27,
     "metadata": {},
     "output_type": "execute_result"
    }
   ],
   "source": [
    "y_test.value_counts()"
   ]
  },
  {
   "cell_type": "markdown",
   "metadata": {},
   "source": [
    "#### 정밀도/재현율 트레이드오프"
   ]
  },
  {
   "cell_type": "code",
   "execution_count": 28,
   "metadata": {},
   "outputs": [
    {
     "data": {
      "text/plain": [
       "179"
      ]
     },
     "execution_count": 28,
     "metadata": {},
     "output_type": "execute_result"
    }
   ],
   "source": [
    "len(X_test)"
   ]
  },
  {
   "cell_type": "code",
   "execution_count": 29,
   "metadata": {},
   "outputs": [],
   "source": [
    "# 학습한 객체 : lr_clf (LogisticRegreesion 알고리즘으로 학습)\n",
    "\n",
    "# pred_proba() : 개별 데이터별로 예측확률 얻기\n",
    "# 179 X 2(2진 분류) ndarray return\n",
    "pred_proba= lr_clf.predict_proba(X_test)"
   ]
  },
  {
   "cell_type": "code",
   "execution_count": 31,
   "metadata": {},
   "outputs": [
    {
     "data": {
      "text/html": [
       "<div>\n",
       "<style scoped>\n",
       "    .dataframe tbody tr th:only-of-type {\n",
       "        vertical-align: middle;\n",
       "    }\n",
       "\n",
       "    .dataframe tbody tr th {\n",
       "        vertical-align: top;\n",
       "    }\n",
       "\n",
       "    .dataframe thead th {\n",
       "        text-align: right;\n",
       "    }\n",
       "</style>\n",
       "<table border=\"1\" class=\"dataframe\">\n",
       "  <thead>\n",
       "    <tr style=\"text-align: right;\">\n",
       "      <th></th>\n",
       "      <th>Pclass</th>\n",
       "      <th>Sex</th>\n",
       "      <th>Age</th>\n",
       "      <th>SibSp</th>\n",
       "      <th>Parch</th>\n",
       "      <th>Fare</th>\n",
       "      <th>Cabin</th>\n",
       "      <th>Embarked</th>\n",
       "    </tr>\n",
       "  </thead>\n",
       "  <tbody>\n",
       "    <tr>\n",
       "      <th>495</th>\n",
       "      <td>3</td>\n",
       "      <td>1</td>\n",
       "      <td>29.699118</td>\n",
       "      <td>0</td>\n",
       "      <td>0</td>\n",
       "      <td>14.4583</td>\n",
       "      <td>7</td>\n",
       "      <td>0</td>\n",
       "    </tr>\n",
       "  </tbody>\n",
       "</table>\n",
       "</div>"
      ],
      "text/plain": [
       "     Pclass  Sex        Age  SibSp  Parch     Fare  Cabin  Embarked\n",
       "495       3    1  29.699118      0      0  14.4583      7         0"
      ]
     },
     "execution_count": 31,
     "metadata": {},
     "output_type": "execute_result"
    }
   ],
   "source": [
    "X_test.head(1)"
   ]
  },
  {
   "cell_type": "code",
   "execution_count": 38,
   "metadata": {},
   "outputs": [
    {
     "data": {
      "text/plain": [
       "array([0.85142564, 0.14857436])"
      ]
     },
     "execution_count": 38,
     "metadata": {},
     "output_type": "execute_result"
    }
   ],
   "source": [
    "# 첫번째 데이터의 분류클래스별 예측확률\n",
    "pred_proba[0]"
   ]
  },
  {
   "cell_type": "markdown",
   "metadata": {},
   "source": [
    "- 즉 첫번째 데이터의 답이 0이될 확률은 85%, 1이 될 확률은 15% 이고, 임계값(Threshold)이 50%로 설정되어 있으므로 답은 0(Death)으로 판정될 것이다.\n",
    "- 만약 각각 클래스의 확률의 50%에 가까운 값이 나올수록 판정의 오류 가능성이 커진다\n",
    "\n",
    "- quantum 판정과 같은 논리로 이해하기(양자역학의 Probilities의 개념으로 이해할것)"
   ]
  },
  {
   "cell_type": "code",
   "execution_count": 35,
   "metadata": {},
   "outputs": [
    {
     "data": {
      "text/plain": [
       "0"
      ]
     },
     "execution_count": 35,
     "metadata": {},
     "output_type": "execute_result"
    }
   ],
   "source": [
    "# 위 설명대로 첫번째 데이터 예측값 0\n",
    "pred[0]"
   ]
  },
  {
   "cell_type": "code",
   "execution_count": 36,
   "metadata": {},
   "outputs": [
    {
     "data": {
      "text/plain": [
       "495    0\n",
       "Name: Survived, dtype: int64"
      ]
     },
     "execution_count": 36,
     "metadata": {},
     "output_type": "execute_result"
    }
   ],
   "source": [
    "# 첫번째 답은 0 \n",
    "y_test.head(1)"
   ]
  },
  {
   "cell_type": "markdown",
   "metadata": {},
   "source": [
    "즉 예측과 답이 일치"
   ]
  },
  {
   "cell_type": "markdown",
   "metadata": {},
   "source": [
    "예측확률이 50% 에 가까운 경우를 보자. 즉 이 경우 판정 오류 가능성이 커질 것이다"
   ]
  },
  {
   "cell_type": "code",
   "execution_count": 44,
   "metadata": {},
   "outputs": [
    {
     "data": {
      "text/plain": [
       "array([0.48989002, 0.51010998])"
      ]
     },
     "execution_count": 44,
     "metadata": {},
     "output_type": "execute_result"
    }
   ],
   "source": [
    "pred_proba[5]"
   ]
  },
  {
   "cell_type": "code",
   "execution_count": 45,
   "metadata": {},
   "outputs": [
    {
     "data": {
      "text/plain": [
       "1"
      ]
     },
     "execution_count": 45,
     "metadata": {},
     "output_type": "execute_result"
    }
   ],
   "source": [
    "pred[5]"
   ]
  },
  {
   "cell_type": "code",
   "execution_count": 46,
   "metadata": {},
   "outputs": [
    {
     "data": {
      "text/plain": [
       "0"
      ]
     },
     "execution_count": 46,
     "metadata": {},
     "output_type": "execute_result"
    }
   ],
   "source": [
    "y_test[5]"
   ]
  },
  {
   "cell_type": "markdown",
   "metadata": {},
   "source": [
    "이 경우 1의 예측확율이 51% 이기 때문에 1(Alive)라고 판정했지만, 실제는 0(Death)로 예측에 실패했다."
   ]
  },
  {
   "cell_type": "code",
   "execution_count": 48,
   "metadata": {},
   "outputs": [
    {
     "data": {
      "text/plain": [
       "array([[0.85142564, 0.14857436, 0.        ],\n",
       "       [0.89229418, 0.10770582, 0.        ],\n",
       "       [0.93337015, 0.06662985, 0.        ],\n",
       "       [0.05348106, 0.94651894, 1.        ],\n",
       "       [0.31397445, 0.68602555, 1.        ],\n",
       "       [0.48989002, 0.51010998, 1.        ],\n",
       "       [0.082082  , 0.917918  , 1.        ],\n",
       "       [0.06469936, 0.93530064, 1.        ],\n",
       "       [0.41245641, 0.58754359, 1.        ],\n",
       "       [0.29162866, 0.70837134, 1.        ]])"
      ]
     },
     "execution_count": 48,
     "metadata": {},
     "output_type": "execute_result"
    }
   ],
   "source": [
    "# 예측확률과 예측값 이어붙여서(concatenate) 한번에 보기\n",
    "pred_proba_result = \\\n",
    "np.concatenate([pred_proba, pred.reshape(-1,1)], axis=1)\n",
    "pred_proba_result[:10]"
   ]
  },
  {
   "cell_type": "code",
   "execution_count": 53,
   "metadata": {},
   "outputs": [
    {
     "data": {
      "text/plain": [
       "array([[0., 0., 1.],\n",
       "       [1., 0., 0.],\n",
       "       [0., 0., 1.]])"
      ]
     },
     "execution_count": 53,
     "metadata": {},
     "output_type": "execute_result"
    }
   ],
   "source": [
    "from sklearn.preprocessing import Binarizer\n",
    "\n",
    "# 이진판정 클래스 Binarizer(threshold= )\n",
    "bina = Binarizer(threshold=1.1)\n",
    "\n",
    "X=[\n",
    "     [1, -1, 2]\n",
    "    ,[2, 0, 0]\n",
    "    ,[0, 1.1, 1.2]\n",
    "]\n",
    "\n",
    "bina.fit_transform(X)"
   ]
  },
  {
   "cell_type": "code",
   "execution_count": 55,
   "metadata": {},
   "outputs": [
    {
     "data": {
      "text/plain": [
       "array([[0., 0., 1.],\n",
       "       [0., 0., 0.],\n",
       "       [0., 0., 0.]])"
      ]
     },
     "execution_count": 55,
     "metadata": {},
     "output_type": "execute_result"
    }
   ],
   "source": [
    "# 온도 판정 예제\n",
    "bina = Binarizer(threshold=38)\n",
    "\n",
    "X=[\n",
    "     [36.5, 36, 39]\n",
    "    ,[36.5, 36, 37]\n",
    "    ,[36.5, 36, 36]\n",
    "]\n",
    "\n",
    "bina.fit_transform(X)"
   ]
  },
  {
   "cell_type": "code",
   "execution_count": 59,
   "metadata": {},
   "outputs": [
    {
     "data": {
      "text/plain": [
       "array([0.85142564, 0.14857436])"
      ]
     },
     "execution_count": 59,
     "metadata": {},
     "output_type": "execute_result"
    }
   ],
   "source": [
    "pred_proba[0]"
   ]
  },
  {
   "cell_type": "code",
   "execution_count": 75,
   "metadata": {},
   "outputs": [
    {
     "data": {
      "text/plain": [
       "array([[0.14857436],\n",
       "       [0.10770582],\n",
       "       [0.06662985],\n",
       "       [0.94651894],\n",
       "       [0.68602555],\n",
       "       [0.51010998],\n",
       "       [0.917918  ],\n",
       "       [0.93530064],\n",
       "       [0.58754359],\n",
       "       [0.70837134]])"
      ]
     },
     "execution_count": 75,
     "metadata": {},
     "output_type": "execute_result"
    }
   ],
   "source": [
    "\n",
    "# 임계값 설정\n",
    "custom_threshold = 0.5\n",
    "\n",
    "# [행,열] => [:,1] : 모든 행의 1번 열만 가져와라.\n",
    "# positive가 될 확률만 추출하여 2차원 ndarray 로 변경하기\n",
    "pred_proba_1 = pred_proba[:,1].reshape(-1, 1)\n",
    "pred_proba_1[:10]"
   ]
  },
  {
   "cell_type": "code",
   "execution_count": 76,
   "metadata": {},
   "outputs": [],
   "source": [
    "# 학습\n",
    " # fit 메서드의 파라미터는 배열이 되어야 한다.(위에서 2차원으로 변경한이유)\n",
    "bina = Binarizer(threshold=custom_threshold).fit(pred_proba_1)\n",
    "# 변경\n",
    "cust_pred = bina.transform(pred_proba_1)\n"
   ]
  },
  {
   "cell_type": "code",
   "execution_count": 77,
   "metadata": {},
   "outputs": [
    {
     "name": "stdout",
     "output_type": "stream",
     "text": [
      "[[0.]\n",
      " [0.]\n",
      " [0.]\n",
      " [1.]\n",
      " [1.]]\n"
     ]
    }
   ],
   "source": [
    "print(cust_pred[:5])"
   ]
  },
  {
   "cell_type": "code",
   "execution_count": 78,
   "metadata": {},
   "outputs": [
    {
     "name": "stdout",
     "output_type": "stream",
     "text": [
      "오차 행렬\n",
      "[[92 18]\n",
      " [16 53]]\n",
      "정확도: 0.8101, 정밀도 : 0.7465, 재현율 : 0.7681\n"
     ]
    }
   ],
   "source": [
    "get_clf_eval(y_test, cust_pred)"
   ]
  },
  {
   "cell_type": "code",
   "execution_count": 87,
   "metadata": {},
   "outputs": [],
   "source": [
    "# Threshold를 파라미터로 갖는 함수 만들기\n",
    "def get_clf_eval_by_threshold(y_test, pred_proba_p, thresholds):\n",
    "    '''\n",
    "    y_test : 원래 답\n",
    "    pred_proba_p: 결과 확률값\n",
    "    thresholds : 임계값 리스트\n",
    "    '''\n",
    "    for cust_th in thresholds:\n",
    "        bina=Binarizer(threshold=cust_th).fit(pred_proba_p)\n",
    "        cust_pred = bina.transform(pred_proba_p)\n",
    "        print('현재 임계값: ' , cust_th)\n",
    "        get_clf_eval(y_test, cust_pred)"
   ]
  },
  {
   "cell_type": "code",
   "execution_count": 88,
   "metadata": {},
   "outputs": [
    {
     "name": "stdout",
     "output_type": "stream",
     "text": [
      "현재 임계값:  0.4\n",
      "오차 행렬\n",
      "[[86 24]\n",
      " [13 56]]\n",
      "정확도: 0.7933, 정밀도 : 0.7000, 재현율 : 0.8116\n",
      "현재 임계값:  0.45\n",
      "오차 행렬\n",
      "[[91 19]\n",
      " [14 55]]\n",
      "정확도: 0.8156, 정밀도 : 0.7432, 재현율 : 0.7971\n",
      "현재 임계값:  0.5\n",
      "오차 행렬\n",
      "[[92 18]\n",
      " [16 53]]\n",
      "정확도: 0.8101, 정밀도 : 0.7465, 재현율 : 0.7681\n",
      "현재 임계값:  0.55\n",
      "오차 행렬\n",
      "[[97 13]\n",
      " [18 51]]\n",
      "정확도: 0.8268, 정밀도 : 0.7969, 재현율 : 0.7391\n",
      "현재 임계값:  0.6\n",
      "오차 행렬\n",
      "[[99 11]\n",
      " [25 44]]\n",
      "정확도: 0.7989, 정밀도 : 0.8000, 재현율 : 0.6377\n"
     ]
    }
   ],
   "source": [
    "# 테스트를 수행할 임계값을 리스트 객체에 저장\n",
    "thresholds = [0.4,0.45,0.50,0.55,0.60]\n",
    "pred_proba_2 = pred_proba[:,1].reshape(-1, 1)\n",
    "\n",
    "get_clf_eval_by_threshold(y_test, pred_proba_2, thresholds)"
   ]
  },
  {
   "cell_type": "code",
   "execution_count": 89,
   "metadata": {},
   "outputs": [],
   "source": [
    "from sklearn.metrics import precision_recall_curve\n",
    "\n",
    "# 답이 1일때의 예측 확률 추출\n",
    "pred_proba_v = lr_clf.predict_proba(X_test)[:,1]\n",
    "\n",
    "# precision_recall_curve() : 1.정밀도와, 2.재현율, 3.적용된 threshold 를 튜플형태로 반환하는 메소드(threshold: 0.11~0.95사이)\n",
    "# 테스트데이터의 답(y_test), 예측확률(pred_proba_v)을 파라미터로 입력\n",
    "precisions, recalls, thresholds = precision_recall_curve(y_test, pred_proba_v)"
   ]
  },
  {
   "cell_type": "code",
   "execution_count": 92,
   "metadata": {},
   "outputs": [
    {
     "data": {
      "text/plain": [
       "(179, 166)"
      ]
     },
     "execution_count": 92,
     "metadata": {},
     "output_type": "execute_result"
    }
   ],
   "source": [
    "len(y_test), len(thresholds)"
   ]
  },
  {
   "cell_type": "code",
   "execution_count": 96,
   "metadata": {},
   "outputs": [
    {
     "data": {
      "text/plain": [
       "(166,)"
      ]
     },
     "execution_count": 96,
     "metadata": {},
     "output_type": "execute_result"
    }
   ],
   "source": [
    "thresholds.shape"
   ]
  },
  {
   "cell_type": "code",
   "execution_count": 98,
   "metadata": {},
   "outputs": [
    {
     "data": {
      "text/plain": [
       "array([  0,  16,  32,  48,  64,  80,  96, 112, 128, 144, 160])"
      ]
     },
     "execution_count": 98,
     "metadata": {},
     "output_type": "execute_result"
    }
   ],
   "source": [
    "# 반환된 임계값이 166건 => 10건만 추출하기\n",
    "thr_index = np.arange(0, thresholds.shape[0], 16)\n",
    "thr_index  # 해당 임계값들로만 적용해서 정밀도와 재현율을 확인할 것이다."
   ]
  },
  {
   "cell_type": "code",
   "execution_count": 99,
   "metadata": {},
   "outputs": [
    {
     "data": {
      "text/plain": [
       "array([0.39884393, 0.42038217, 0.47058824, 0.53781513, 0.61764706,\n",
       "       0.6744186 , 0.74285714, 0.81481481, 0.89473684, 1.        ,\n",
       "       1.        ])"
      ]
     },
     "execution_count": 99,
     "metadata": {},
     "output_type": "execute_result"
    }
   ],
   "source": [
    "# 정밀도: precisions, 팬시 인덱싱\n",
    "precisions[thr_index]"
   ]
  },
  {
   "cell_type": "code",
   "execution_count": 100,
   "metadata": {},
   "outputs": [
    {
     "data": {
      "text/plain": [
       "array([1.        , 0.95652174, 0.92753623, 0.92753623, 0.91304348,\n",
       "       0.84057971, 0.75362319, 0.63768116, 0.49275362, 0.31884058,\n",
       "       0.08695652])"
      ]
     },
     "execution_count": 100,
     "metadata": {},
     "output_type": "execute_result"
    }
   ],
   "source": [
    "recalls[thr_index]"
   ]
  },
  {
   "cell_type": "code",
   "execution_count": 102,
   "metadata": {},
   "outputs": [],
   "source": [
    "import matplotlib.pyplot as plt\n",
    "import matplotlib.ticker as ticker\n",
    "%matplotlib inline"
   ]
  },
  {
   "cell_type": "code",
   "execution_count": 123,
   "metadata": {},
   "outputs": [],
   "source": [
    "# precision_recall_curve 함수를 시각화하는 함수 만들기\n",
    "# y_test : 테스트데이터 답, pred_proba_p : 예측확률\n",
    "def precision_recall_curve_plot(y_test, pred_proba_p):\n",
    "    precisions, recalls, thresholds = precision_recall_curve(y_test, pred_proba_p)\n",
    "    \n",
    "    # x축을 threshold값, Y축은 정밀도, 재현율 값\n",
    "    # 정밀도 : 점선으로 표시\n",
    "    \n",
    "    plt.figure(figsize=(8,6))\n",
    "    thres_boundary = thresholds.shape[0]\n",
    "    \n",
    "    # 정밀도\n",
    "    plt.plot(\n",
    "          thresholds  # X 축에 들어갈 값: 임계값\n",
    "        , precisions[0:thres_boundary] # y축에 들어갈 값\n",
    "        , linestyle='--'  # 점선\n",
    "        , label='precision' # 범례\n",
    "    )\n",
    "    \n",
    "    # 재현율\n",
    "    plt.plot(\n",
    "          thresholds  # X 축에 들어갈 값: 임계값\n",
    "        , recalls[0:thres_boundary] # y축에 들어갈 값\n",
    "        #, linestyle='--'  # 점선\n",
    "        , label='recall' # 범례\n",
    "    )\n",
    "    # X축의 scale을 0.1 단위로 변경\n",
    "    # X축의 범위값 조정 함수 : xlim()\n",
    "    start, end = plt.xlim()\n",
    "    plt.xticks(np.round(np.arange(start, end, 0.1), 2))\n",
    "    \n",
    "    # y축 라벨, x축 라벨\n",
    "    plt.xlabel('Threshold value')\n",
    "    plt.ylabel('Precision/Recall value')\n",
    "    \n",
    "    # 범례 표시\n",
    "    plt.legend()\n",
    "    # 그리드 표시\n",
    "    plt.grid()\n",
    "    \n",
    "    plt.show()"
   ]
  },
  {
   "cell_type": "code",
   "execution_count": 113,
   "metadata": {},
   "outputs": [
    {
     "data": {
      "image/png": "[encoded data removed]",
      "text/plain": [
       "<Figure size 576x432 with 1 Axes>"
      ]
     },
     "metadata": {
      "needs_background": "light"
     },
     "output_type": "display_data"
    }
   ],
   "source": [
    "precision_recall_curve_plot(y_test, lr_clf.predict_proba(X_test)[:,1])"
   ]
  },
  {
   "cell_type": "code",
   "execution_count": 115,
   "metadata": {},
   "outputs": [
    {
     "data": {
      "image/png": "[encoded data removed]",
      "text/plain": [
       "<Figure size 576x432 with 1 Axes>"
      ]
     },
     "metadata": {
      "needs_background": "light"
     },
     "output_type": "display_data"
    }
   ],
   "source": [
    "precision_recall_curve_plot(y_test, lr_clf.predict_proba(X_test)[:,1])"
   ]
  },
  {
   "cell_type": "code",
   "execution_count": 124,
   "metadata": {},
   "outputs": [
    {
     "data": {
      "image/png": "[encoded data removed]",
      "text/plain": [
       "<Figure size 576x432 with 1 Axes>"
      ]
     },
     "metadata": {
      "needs_background": "light"
     },
     "output_type": "display_data"
    }
   ],
   "source": [
    "precision_recall_curve_plot(y_test, lr_clf.predict_proba(X_test)[:,1])"
   ]
  },
  {
   "cell_type": "markdown",
   "metadata": {},
   "source": [
    "### 04. F1 스코어"
   ]
  },
  {
   "cell_type": "code",
   "execution_count": 126,
   "metadata": {},
   "outputs": [
    {
     "data": {
      "text/plain": [
       "0.7571428571428571"
      ]
     },
     "execution_count": 126,
     "metadata": {},
     "output_type": "execute_result"
    }
   ],
   "source": [
    "from sklearn.metrics import f1_score\n",
    "\n",
    "f1 = f1_score(y_test, pred)\n",
    "# 정밀도, 재현율 조합 평균\n",
    "f1"
   ]
  },
  {
   "cell_type": "code",
   "execution_count": 129,
   "metadata": {},
   "outputs": [],
   "source": [
    "# 정확도, 오차행렬, 정밀도, 재현율, F1 스코어\n",
    "# 파라미터(재료) : 원래 답(y_test), 예측값(pred)\n",
    "def get_clf_eval(y_test, pred):\n",
    "    confusion = confusion_matrix(y_test, pred) # 오차행렬\n",
    "    accu = accuracy_score(y_test, pred) # 정확도\n",
    "    precision = precision_score(y_test, pred) # 정밀도\n",
    "    recall = recall_score(y_test, pred) # 재현율\n",
    "    \n",
    "    #F1-Score \n",
    "    f1 = f1_score(y_test, pred)\n",
    "    print('오차 행렬')\n",
    "    print(confusion)\n",
    "    result = '정확도: {0:.4f}, 정밀도 : {1:.4f}, 재현율 : {2:.4f}, F1:{3:.4f}'\n",
    "    print(result.format(accu, precision, recall, f1))\n"
   ]
  },
  {
   "cell_type": "code",
   "execution_count": 130,
   "metadata": {},
   "outputs": [
    {
     "name": "stdout",
     "output_type": "stream",
     "text": [
      "현재 임계값:  0.4\n",
      "오차 행렬\n",
      "[[86 24]\n",
      " [13 56]]\n",
      "정확도: 0.7933, 정밀도 : 0.7000, 재현율 : 0.8116, F1:0.7517\n",
      "현재 임계값:  0.45\n",
      "오차 행렬\n",
      "[[91 19]\n",
      " [14 55]]\n",
      "정확도: 0.8156, 정밀도 : 0.7432, 재현율 : 0.7971, F1:0.7692\n",
      "현재 임계값:  0.5\n",
      "오차 행렬\n",
      "[[92 18]\n",
      " [16 53]]\n",
      "정확도: 0.8101, 정밀도 : 0.7465, 재현율 : 0.7681, F1:0.7571\n",
      "현재 임계값:  0.55\n",
      "오차 행렬\n",
      "[[97 13]\n",
      " [18 51]]\n",
      "정확도: 0.8268, 정밀도 : 0.7969, 재현율 : 0.7391, F1:0.7669\n",
      "현재 임계값:  0.6\n",
      "오차 행렬\n",
      "[[99 11]\n",
      " [25 44]]\n",
      "정확도: 0.7989, 정밀도 : 0.8000, 재현율 : 0.6377, F1:0.7097\n"
     ]
    }
   ],
   "source": [
    "# 테스트를 수행할 임계값을 리스트 객체에 저장\n",
    "thresholds = [0.4,0.45,0.50,0.55,0.60]\n",
    "pred_proba = lr_clf.predict_proba(X_test)[:,1].reshape(-1,1)\n",
    "\n",
    "get_clf_eval_by_threshold(y_test, pred_proba, thresholds)"
   ]
  },
  {
   "cell_type": "markdown",
   "metadata": {},
   "source": [
    "### 05. ROC Curve 와 AUC 점수\n",
    "- 이진 분류의 예측 성능 측정에서 중요한 성능지표\n",
    "- 모든 분류 임계값에서 분류 모델의 성능을 보여주는 그래프"
   ]
  },
  {
   "cell_type": "code",
   "execution_count": 131,
   "metadata": {},
   "outputs": [],
   "source": [
    "# roc_curve()\n",
    "from sklearn.metrics import roc_curve"
   ]
  },
  {
   "cell_type": "code",
   "execution_count": 135,
   "metadata": {},
   "outputs": [],
   "source": [
    "# 1의 예측 확률\n",
    "pred_proba_v = lr_clf.predict_proba(X_test)[:,1]\n",
    "\n",
    "fprs, tprs, ths = roc_curve(\n",
    "      y_test\n",
    "    , pred_proba_v\n",
    ")"
   ]
  },
  {
   "cell_type": "code",
   "execution_count": 140,
   "metadata": {},
   "outputs": [
    {
     "data": {
      "text/plain": [
       "52"
      ]
     },
     "execution_count": 140,
     "metadata": {},
     "output_type": "execute_result"
    }
   ],
   "source": [
    "len(ths)"
   ]
  },
  {
   "cell_type": "code",
   "execution_count": 144,
   "metadata": {},
   "outputs": [],
   "source": [
    "# ROC Curve Chart function\n",
    "def roc_curve_plot(y_test, pred_proba_p):\n",
    "    fprs, tprs, ths = roc_curve(y_test, pred_proba_p)\n",
    "    \n",
    "    plt.plot(fprs, tprs, label='ROC')\n",
    "    plt.legend()\n",
    "    plt.grid()\n",
    "    plt.show()"
   ]
  },
  {
   "cell_type": "code",
   "execution_count": 145,
   "metadata": {},
   "outputs": [
    {
     "data": {
      "image/png": "[encoded data removed]",
      "text/plain": [
       "<Figure size 432x288 with 1 Axes>"
      ]
     },
     "metadata": {
      "needs_background": "light"
     },
     "output_type": "display_data"
    }
   ],
   "source": [
    "roc_curve_plot(y_test, pred_proba_v)"
   ]
  },
  {
   "cell_type": "code",
   "execution_count": 147,
   "metadata": {},
   "outputs": [
    {
     "data": {
      "text/plain": [
       "0.8022397891963109"
      ]
     },
     "execution_count": 147,
     "metadata": {},
     "output_type": "execute_result"
    }
   ],
   "source": [
    "# AUC score\n",
    "from sklearn.metrics import roc_auc_score\n",
    "\n",
    "pred = lr_clf.predict(X_test)\n",
    "roc_score = roc_auc_score(y_test, pred)\n",
    "roc_score"
   ]
  }
 ],
 "metadata": {
  "kernelspec": {
   "display_name": "ml01-02",
   "language": "python",
   "name": "ml01-02"
  },
  "language_info": {
   "codemirror_mode": {
    "name": "ipython",
    "version": 3
   },
   "file_extension": ".py",
   "mimetype": "text/x-python",
   "name": "python",
   "nbconvert_exporter": "python",
   "pygments_lexer": "ipython3",
   "version": "3.7.7"
  }
 },
 "nbformat": 4,
 "nbformat_minor": 4
}
