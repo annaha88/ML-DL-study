{
 "cells": [
  {
   "cell_type": "markdown",
   "metadata": {},
   "source": [
    "### 기본 스태킹 모델 p.280~"
   ]
  },
  {
   "cell_type": "code",
   "execution_count": 3,
   "metadata": {},
   "outputs": [],
   "source": [
    "import numpy as np\n",
    "import pandas as pd\n",
    "\n",
    "# 알고리즘 5개 import\n",
    "from sklearn.neighbors import KNeighborsClassifier\n",
    "from sklearn.ensemble import RandomForestClassifier\n",
    "from sklearn.ensemble import AdaBoostClassifier\n",
    "from sklearn.tree import DecisionTreeClassifier\n",
    "from sklearn.linear_model import LogisticRegression\n",
    "\n",
    "import warnings\n",
    "warnings.filterwarnings('ignore')"
   ]
  },
  {
   "cell_type": "code",
   "execution_count": 4,
   "metadata": {},
   "outputs": [],
   "source": [
    "# 데이터 : 위스콘신 유방암 데이터 로딩\n",
    "from sklearn.datasets import load_breast_cancer\n",
    "from sklearn.model_selection import train_test_split\n",
    "# 성능 지표: 정확도\n",
    "from sklearn.metrics import accuracy_score"
   ]
  },
  {
   "cell_type": "code",
   "execution_count": 5,
   "metadata": {},
   "outputs": [],
   "source": [
    "# 데이터 로딩 / 분리\n",
    "cancer_data = load_breast_cancer()\n",
    "\n",
    "X_data = cancer_data.data\n",
    "y_label = cancer_data.target\n",
    "\n",
    "X_train, X_test, y_train, y_test = train_test_split(\n",
    "    X_data, y_label, test_size = 0.2, random_state = 0\n",
    ")"
   ]
  },
  {
   "cell_type": "code",
   "execution_count": 24,
   "metadata": {},
   "outputs": [],
   "source": [
    "# 앙상블에 사용할 알고리즘 객체 생성\n",
    "knn_clf= KNeighborsClassifier(n_neighbors=4)\n",
    "rf_clf = RandomForestClassifier(n_estimators=100, random_state=0)\n",
    "dt_clf= DecisionTreeClassifier() # 기본트리, 파라미터 지정없이 일단 생성(과적합 될것임)\n",
    "ada_clf = AdaBoostClassifier(n_estimators=100)"
   ]
  },
  {
   "cell_type": "code",
   "execution_count": 26,
   "metadata": {},
   "outputs": [],
   "source": [
    "# 스태킹에 사용할 객체 생성(최종 메타모델에 사용될 객체)\n",
    "lr_clf= LogisticRegression(C=10)  # C : 규제"
   ]
  },
  {
   "cell_type": "code",
   "execution_count": 27,
   "metadata": {},
   "outputs": [
    {
     "data": {
      "text/plain": [
       "AdaBoostClassifier(n_estimators=100)"
      ]
     },
     "execution_count": 27,
     "metadata": {},
     "output_type": "execute_result"
    }
   ],
   "source": [
    "# 개별 학습 진행\n",
    "knn_clf.fit(X_train, y_train)\n",
    "rf_clf.fit(X_train,y_train)\n",
    "dt_clf.fit(X_train,y_train)\n",
    "ada_clf.fit(X_train,y_train)"
   ]
  },
  {
   "cell_type": "code",
   "execution_count": 32,
   "metadata": {},
   "outputs": [
    {
     "data": {
      "text/plain": [
       "((114,), (114,), (114,), (114,))"
      ]
     },
     "execution_count": 32,
     "metadata": {},
     "output_type": "execute_result"
    }
   ],
   "source": [
    "# 각 모델의 예측값 추출\n",
    "knn_pred = knn_clf.predict(X_test)\n",
    "rf_pred = rf_clf.predict(X_test)\n",
    "dt_pred = dt_clf.predict(X_test)\n",
    "ada_pred = ada_clf.predict(X_test)\n",
    "knn_pred.shape, rf_pred.shape, dt_pred.shape, ada_pred.shape\n",
    "# 스태킹을 하려면, 쌓을 데이터의 차원이 모두 같아야 한다."
   ]
  },
  {
   "cell_type": "code",
   "execution_count": 33,
   "metadata": {},
   "outputs": [
    {
     "name": "stdout",
     "output_type": "stream",
     "text": [
      "KNN 정확도 : 0.9211\n",
      "랜덤포레스트 정확도 : 0.9649\n",
      "DecisionTree 정확도 : 0.9123\n",
      "Adaboost 정확도 : 0.9561\n"
     ]
    }
   ],
   "source": [
    "# 각각의 예측 정확도 출력\n",
    "print('KNN 정확도 : {0:.4f}'.format(accuracy_score(y_test,knn_pred)))\n",
    "print('랜덤포레스트 정확도 : {0:.4f}'.format(accuracy_score(y_test,rf_pred)))\n",
    "print('DecisionTree 정확도 : {0:.4f}'.format(accuracy_score(y_test,dt_pred)))\n",
    "print('Adaboost 정확도 : {0:.4f}'.format(accuracy_score(y_test,ada_pred)))"
   ]
  },
  {
   "cell_type": "code",
   "execution_count": 34,
   "metadata": {},
   "outputs": [],
   "source": [
    "# 각 모델의 예측 결과를 합치기\n",
    "pred = np.array([knn_pred, rf_pred, dt_pred, ada_pred])"
   ]
  },
  {
   "cell_type": "code",
   "execution_count": 36,
   "metadata": {},
   "outputs": [
    {
     "data": {
      "text/plain": [
       "(4, 114)"
      ]
     },
     "execution_count": 36,
     "metadata": {},
     "output_type": "execute_result"
    }
   ],
   "source": [
    "pred.shape"
   ]
  },
  {
   "cell_type": "code",
   "execution_count": 41,
   "metadata": {},
   "outputs": [
    {
     "data": {
      "text/plain": [
       "(114, 4)"
      ]
     },
     "execution_count": 41,
     "metadata": {},
     "output_type": "execute_result"
    }
   ],
   "source": [
    "# 예측결과 행열 위치교환 : np.transpose()\n",
    "pred = np.transpose(pred)\n",
    "pred.shape"
   ]
  },
  {
   "cell_type": "code",
   "execution_count": 50,
   "metadata": {},
   "outputs": [
    {
     "name": "stdout",
     "output_type": "stream",
     "text": [
      "최종 정확도:  0.9736842105263158\n"
     ]
    }
   ],
   "source": [
    "# 최종 스태킹 진행 (학습)\n",
    "lr_clf.fit(pred, y_test)\n",
    "# 예측/평가\n",
    "final = lr_clf.predict(pred)\n",
    "print('최종 정확도: ', accuracy_score(y_test, final))"
   ]
  },
  {
   "cell_type": "code",
   "execution_count": 43,
   "metadata": {
    "collapsed": true
   },
   "outputs": [
    {
     "data": {
      "text/plain": [
       "array([[0, 0, 0, 0],\n",
       "       [1, 1, 1, 1],\n",
       "       [1, 1, 1, 1],\n",
       "       [0, 1, 1, 1],\n",
       "       [1, 1, 1, 1],\n",
       "       [1, 1, 1, 1],\n",
       "       [1, 1, 1, 1],\n",
       "       [1, 1, 1, 1],\n",
       "       [1, 1, 1, 1],\n",
       "       [1, 1, 1, 1],\n",
       "       [0, 0, 0, 1],\n",
       "       [1, 1, 1, 1],\n",
       "       [1, 1, 1, 1],\n",
       "       [0, 0, 0, 0],\n",
       "       [0, 0, 1, 1],\n",
       "       [0, 0, 0, 0],\n",
       "       [1, 1, 1, 1],\n",
       "       [0, 0, 0, 0],\n",
       "       [0, 0, 0, 0],\n",
       "       [0, 0, 0, 0],\n",
       "       [0, 0, 0, 0],\n",
       "       [0, 0, 0, 0],\n",
       "       [1, 1, 1, 1],\n",
       "       [1, 1, 1, 1],\n",
       "       [0, 0, 0, 0],\n",
       "       [1, 1, 1, 1],\n",
       "       [1, 1, 1, 1],\n",
       "       [1, 0, 0, 0],\n",
       "       [1, 1, 1, 1],\n",
       "       [0, 0, 0, 0],\n",
       "       [1, 1, 1, 1],\n",
       "       [0, 0, 0, 0],\n",
       "       [1, 1, 1, 1],\n",
       "       [0, 0, 0, 0],\n",
       "       [1, 1, 1, 1],\n",
       "       [0, 0, 0, 0],\n",
       "       [1, 1, 1, 1],\n",
       "       [0, 0, 0, 0],\n",
       "       [1, 1, 1, 1],\n",
       "       [0, 0, 0, 0],\n",
       "       [0, 0, 1, 0],\n",
       "       [1, 1, 1, 1],\n",
       "       [0, 0, 0, 0],\n",
       "       [1, 1, 1, 1],\n",
       "       [0, 1, 0, 1],\n",
       "       [0, 0, 0, 0],\n",
       "       [1, 1, 1, 1],\n",
       "       [1, 1, 1, 1],\n",
       "       [1, 1, 1, 1],\n",
       "       [0, 0, 0, 0],\n",
       "       [0, 0, 0, 0],\n",
       "       [1, 0, 0, 0],\n",
       "       [0, 0, 0, 0],\n",
       "       [1, 1, 1, 1],\n",
       "       [1, 1, 1, 1],\n",
       "       [1, 1, 1, 1],\n",
       "       [1, 1, 0, 1],\n",
       "       [1, 1, 1, 1],\n",
       "       [1, 1, 0, 1],\n",
       "       [0, 0, 0, 0],\n",
       "       [0, 0, 0, 0],\n",
       "       [0, 0, 0, 0],\n",
       "       [1, 1, 1, 1],\n",
       "       [1, 1, 1, 1],\n",
       "       [0, 0, 0, 0],\n",
       "       [1, 1, 0, 0],\n",
       "       [0, 0, 0, 0],\n",
       "       [0, 0, 0, 0],\n",
       "       [0, 0, 0, 0],\n",
       "       [1, 1, 1, 1],\n",
       "       [1, 1, 1, 1],\n",
       "       [0, 0, 0, 0],\n",
       "       [1, 1, 1, 1],\n",
       "       [1, 1, 1, 1],\n",
       "       [0, 0, 0, 0],\n",
       "       [1, 1, 1, 1],\n",
       "       [1, 1, 1, 1],\n",
       "       [1, 1, 1, 1],\n",
       "       [1, 1, 1, 1],\n",
       "       [1, 1, 1, 1],\n",
       "       [0, 0, 0, 0],\n",
       "       [0, 0, 0, 0],\n",
       "       [0, 0, 0, 0],\n",
       "       [1, 1, 1, 1],\n",
       "       [0, 0, 0, 0],\n",
       "       [1, 1, 1, 1],\n",
       "       [1, 1, 1, 1],\n",
       "       [1, 1, 1, 1],\n",
       "       [0, 0, 0, 0],\n",
       "       [0, 0, 0, 0],\n",
       "       [1, 1, 1, 1],\n",
       "       [0, 0, 0, 1],\n",
       "       [1, 1, 1, 1],\n",
       "       [0, 0, 0, 0],\n",
       "       [1, 1, 1, 1],\n",
       "       [1, 1, 1, 1],\n",
       "       [0, 0, 0, 0],\n",
       "       [1, 1, 1, 1],\n",
       "       [1, 1, 1, 1],\n",
       "       [1, 1, 1, 1],\n",
       "       [1, 1, 1, 1],\n",
       "       [1, 1, 1, 1],\n",
       "       [1, 1, 1, 1],\n",
       "       [1, 1, 0, 1],\n",
       "       [0, 0, 0, 0],\n",
       "       [1, 1, 1, 1],\n",
       "       [0, 0, 0, 0],\n",
       "       [0, 1, 1, 1],\n",
       "       [0, 0, 0, 1],\n",
       "       [0, 0, 1, 0],\n",
       "       [1, 1, 1, 1],\n",
       "       [0, 0, 0, 0],\n",
       "       [0, 0, 0, 0],\n",
       "       [1, 1, 1, 1]])"
      ]
     },
     "execution_count": 43,
     "metadata": {},
     "output_type": "execute_result"
    }
   ],
   "source": [
    "pred"
   ]
  },
  {
   "cell_type": "code",
   "execution_count": 44,
   "metadata": {
    "collapsed": true
   },
   "outputs": [
    {
     "data": {
      "text/plain": [
       "array([0, 1, 1, 1, 1, 1, 1, 1, 1, 1, 1, 1, 1, 1, 1, 0, 1, 0, 0, 0, 0, 0,\n",
       "       1, 1, 0, 1, 1, 0, 1, 0, 1, 0, 1, 0, 1, 0, 1, 0, 1, 0, 0, 1, 0, 1,\n",
       "       1, 0, 1, 1, 1, 0, 0, 0, 0, 1, 1, 1, 1, 1, 1, 0, 0, 0, 1, 1, 0, 1,\n",
       "       0, 0, 0, 1, 1, 0, 1, 0, 0, 1, 1, 1, 1, 1, 0, 0, 0, 1, 0, 1, 1, 1,\n",
       "       0, 0, 1, 0, 1, 0, 1, 1, 0, 1, 1, 1, 1, 1, 1, 1, 0, 1, 0, 1, 0, 0,\n",
       "       1, 0, 0, 1])"
      ]
     },
     "execution_count": 44,
     "metadata": {},
     "output_type": "execute_result"
    }
   ],
   "source": [
    "y_test"
   ]
  },
  {
   "cell_type": "code",
   "execution_count": 45,
   "metadata": {},
   "outputs": [
    {
     "data": {
      "text/plain": [
       "((114, 4), (114,))"
      ]
     },
     "execution_count": 45,
     "metadata": {},
     "output_type": "execute_result"
    }
   ],
   "source": [
    "pred.shape, y_test.shape"
   ]
  },
  {
   "cell_type": "markdown",
   "metadata": {},
   "source": [
    "- 위에서 수행한 기본 스태킹에서는, 학습시킨 pred 데이터로 동일하게 예측을 했기 때문에 과적합 가능성이 높다.\n",
    "- CV 를 이용해 위 문제를 해결해보겠다"
   ]
  },
  {
   "cell_type": "markdown",
   "metadata": {},
   "source": [
    "### 교차검증(비복원 추출)"
   ]
  },
  {
   "cell_type": "code",
   "execution_count": 51,
   "metadata": {},
   "outputs": [],
   "source": [
    "from sklearn.model_selection import KFold\n",
    "# 평균 절대값 오차 (MAE) : 절대값을 이용 오차를 구하는 함수\n",
    "# 평균 제곱 오차 (MSE): Root mean squre 방법으로 오차를 구하는 함수\n",
    "from sklearn.metrics import mean_absolute_error"
   ]
  },
  {
   "cell_type": "code",
   "execution_count": 103,
   "metadata": {},
   "outputs": [],
   "source": [
    "# 개별 기반 모델에서 최종 메타 모델이 사용할 학습 및 테스트 데이터 생성\n",
    "# 파라미터 : 1.개별 기반 모델, 2. 학습데이터, 3. 학습답, 4.테스트 데이터, 5.폴드 개수  (테스트 답은 나중에 예측에만 쓰이므로 여기서 제외)\n",
    "def get_stacking_base_datasets(model, X_train_p, y_train_p, X_test_p, folds_p):\n",
    "    # 지정된 folds_p 값으로 KFold 객체 생성\n",
    "    kf= KFold(\n",
    "          n_splits=folds_p\n",
    "        , shuffle=False\n",
    "        , random_state=0\n",
    "    )\n",
    "    \n",
    "    # 최종 메타 모델이 사용할 학습/테스트 데이터 저장 배열 생성\n",
    "#   학습데이터 공간확보 : train_fold_pred = np.zeros((행, 열))\n",
    "    train_fold_pred = np.zeros((X_train_p.shape[0],1))\n",
    "#     테스트 데이터 공간 확보\n",
    "    test_pred = np.zeros((X_test_p.shape[0],folds_p))\n",
    "    \n",
    "    print(model.__class__.__name__, 'model 시작')\n",
    "    # (train_index, valid_index) : fold.split()\n",
    "    # folder_counter : 폴드의 반복 개수 저장\n",
    "    for folder_counter, (train_index, valid_index) in enumerate(kf.split(X_train_p)):  #split 함수 의 결과값이 인덱스들로 반환된다.\n",
    "        print('\\t 폴드 세트 : ', folder_counter, '시작')\n",
    "        # 입력된 학습데이터에서 기반 모델이 학습/예측할 폴드 데이터 세트 추출\n",
    "        # 학습 데이터 세트 추출\n",
    "        X_train_v = X_train_p[train_index]\n",
    "        y_train_v = y_train_p[train_index]   # 데이터든 답이든 어차피 그 위치의 인덱스는 같을테니까\n",
    "        # 테스트에 사용할 데이터 추출\n",
    "        X_test_v = X_train_p[valid_index]\n",
    "        \n",
    "        # 학습진행\n",
    "        model.fit(X_train_v, y_train_v)\n",
    "        \n",
    "        # 예측값 추출(Train 데이터 안의 validation(내부 테스트 데이터)을 기반으로. )\n",
    "        train_fold_pred[valid_index, :] = model.predict(X_test_v).reshape(-1,1)\n",
    "        \n",
    "        # 테스트 데이터에 대한 예측값 저장\n",
    "        # 예측값이 폴드 개수만큼 추출됨.( 각 폴드 세트마다 val 이 하나씩 존재하므로)\n",
    "        test_pred[:, folder_counter] = model.predict(X_test_p)\n",
    "    # 위 for문에서 나온 총 결과(3개의 결과)의 평균\n",
    "    test_pred_mean = np.mean(test_pred, axis=1).reshape(-1,1)\n",
    "    \n",
    "    return train_fold_pred, test_pred_mean\n",
    "    "
   ]
  },
  {
   "cell_type": "code",
   "execution_count": 104,
   "metadata": {},
   "outputs": [
    {
     "name": "stdout",
     "output_type": "stream",
     "text": [
      "KNeighborsClassifier model 시작\n",
      "\t 폴드 세트 :  0 시작\n",
      "\t 폴드 세트 :  1 시작\n",
      "\t 폴드 세트 :  2 시작\n",
      "\t 폴드 세트 :  3 시작\n",
      "\t 폴드 세트 :  4 시작\n",
      "\t 폴드 세트 :  5 시작\n",
      "\t 폴드 세트 :  6 시작\n"
     ]
    }
   ],
   "source": [
    "# knn\n",
    "knn_train, knn_test = get_stacking_base_datasets(\n",
    "    knn_clf, X_train, y_train, X_test, 7\n",
    ")\n",
    "\n",
    "# knn_test 는 결과의 평균값이다."
   ]
  },
  {
   "cell_type": "code",
   "execution_count": 106,
   "metadata": {},
   "outputs": [
    {
     "data": {
      "text/plain": [
       "numpy.ndarray"
      ]
     },
     "execution_count": 106,
     "metadata": {},
     "output_type": "execute_result"
    }
   ],
   "source": [
    "knn_train"
   ]
  },
  {
   "cell_type": "code",
   "execution_count": 107,
   "metadata": {},
   "outputs": [
    {
     "name": "stdout",
     "output_type": "stream",
     "text": [
      "RandomForestClassifier model 시작\n",
      "\t 폴드 세트 :  0 시작\n",
      "\t 폴드 세트 :  1 시작\n",
      "\t 폴드 세트 :  2 시작\n",
      "\t 폴드 세트 :  3 시작\n",
      "\t 폴드 세트 :  4 시작\n",
      "\t 폴드 세트 :  5 시작\n",
      "\t 폴드 세트 :  6 시작\n"
     ]
    }
   ],
   "source": [
    "# Random Forest\n",
    "rf_train, rf_test = get_stacking_base_datasets(\n",
    "    rf_clf, X_train, y_train, X_test, 7\n",
    ")"
   ]
  },
  {
   "cell_type": "code",
   "execution_count": 108,
   "metadata": {},
   "outputs": [
    {
     "name": "stdout",
     "output_type": "stream",
     "text": [
      "DecisionTreeClassifier model 시작\n",
      "\t 폴드 세트 :  0 시작\n",
      "\t 폴드 세트 :  1 시작\n",
      "\t 폴드 세트 :  2 시작\n",
      "\t 폴드 세트 :  3 시작\n",
      "\t 폴드 세트 :  4 시작\n",
      "\t 폴드 세트 :  5 시작\n",
      "\t 폴드 세트 :  6 시작\n"
     ]
    }
   ],
   "source": [
    "# Decision Tree\n",
    "dt_train, dt_test = get_stacking_base_datasets(\n",
    "    dt_clf, X_train, y_train, X_test, 7\n",
    ")"
   ]
  },
  {
   "cell_type": "code",
   "execution_count": 109,
   "metadata": {},
   "outputs": [
    {
     "name": "stdout",
     "output_type": "stream",
     "text": [
      "AdaBoostClassifier model 시작\n",
      "\t 폴드 세트 :  0 시작\n",
      "\t 폴드 세트 :  1 시작\n",
      "\t 폴드 세트 :  2 시작\n",
      "\t 폴드 세트 :  3 시작\n",
      "\t 폴드 세트 :  4 시작\n",
      "\t 폴드 세트 :  5 시작\n",
      "\t 폴드 세트 :  6 시작\n"
     ]
    }
   ],
   "source": [
    "# Adaboost\n",
    "ada_train, ada_test = get_stacking_base_datasets(\n",
    "    ada_clf, X_train, y_train, X_test, 7\n",
    ")"
   ]
  },
  {
   "cell_type": "code",
   "execution_count": 110,
   "metadata": {},
   "outputs": [],
   "source": [
    "# knn, rf, dt, ada 데이터 하나로 Stacking: concat으로 이어붙이기\n",
    "stack_X_train = np.concatenate((knn_train, rf_train, dt_train, ada_train) ,axis=1)\n",
    "stack_X_test = np.concatenate((knn_test, rf_test, dt_test, ada_test), axis=1)"
   ]
  },
  {
   "cell_type": "code",
   "execution_count": 114,
   "metadata": {},
   "outputs": [
    {
     "data": {
      "text/plain": [
       "((455, 30), (114, 30))"
      ]
     },
     "execution_count": 114,
     "metadata": {},
     "output_type": "execute_result"
    }
   ],
   "source": [
    "# 원래 학습 데이터 : X_train, 원래 테스트 데이터 : X_test\n",
    "X_train.shape, X_test.shape"
   ]
  },
  {
   "cell_type": "code",
   "execution_count": 115,
   "metadata": {},
   "outputs": [
    {
     "data": {
      "text/plain": [
       "((455, 4), (114, 4))"
      ]
     },
     "execution_count": 115,
     "metadata": {},
     "output_type": "execute_result"
    }
   ],
   "source": [
    "# 스태킹 처리된 학습데이터 /테스트데이터\n",
    "stack_X_train.shape, stack_X_test.shape\n",
    "# 4개의 모델을 썼으므로, 각 모델당 예측 결과값이 들어가게 됨."
   ]
  },
  {
   "cell_type": "code",
   "execution_count": 116,
   "metadata": {},
   "outputs": [
    {
     "name": "stdout",
     "output_type": "stream",
     "text": [
      "최종 정확도 : 0.973684\n"
     ]
    }
   ],
   "source": [
    "# 최종 모델 학습\n",
    "lr_clf.fit(stack_X_train, y_train)\n",
    "# 예측값 추출\n",
    "stack_pred = lr_clf.predict(stack_X_test)\n",
    "\n",
    "stack_accu = accuracy_score(y_test, stack_pred)\n",
    "print('최종 정확도 : {0:.6f}'.format(stack_accu))"
   ]
  },
  {
   "cell_type": "markdown",
   "metadata": {},
   "source": [
    "정확도가 이전과 동일"
   ]
  }
 ],
 "metadata": {
  "kernelspec": {
   "display_name": "ml01-02",
   "language": "python",
   "name": "ml01-02"
  },
  "language_info": {
   "codemirror_mode": {
    "name": "ipython",
    "version": 3
   },
   "file_extension": ".py",
   "mimetype": "text/x-python",
   "name": "python",
   "nbconvert_exporter": "python",
   "pygments_lexer": "ipython3",
   "version": "3.7.7"
  }
 },
 "nbformat": 4,
 "nbformat_minor": 4
}
