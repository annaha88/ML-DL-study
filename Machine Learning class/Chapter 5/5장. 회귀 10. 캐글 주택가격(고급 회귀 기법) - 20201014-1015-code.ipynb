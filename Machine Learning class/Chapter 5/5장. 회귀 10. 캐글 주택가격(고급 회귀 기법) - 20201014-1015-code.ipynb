{
 "cells": [
  {
   "cell_type": "markdown",
   "metadata": {},
   "source": [
    "## 캐글 주택가격 데이터 세트,  Regression 실습\n",
    "- https://www.kaggle.com/c/house-prices-advanced-regression-techniques/\n",
    "- evaluation 방법 : Submissions are evaluated on Root-Mean-Squared-Error (RMSE) between the logarithm of the predicted value and the logarithm of the observed sales price. => 즉 RMSLE로 평가\n",
    "- Data description : https://www.kaggle.com/c/house-prices-advanced-regression-techniques/data\n",
    "\n",
    "- Good example notebook : https://www.kaggle.com/pmarcelino/comprehensive-data-exploration-with-python"
   ]
  },
  {
   "cell_type": "code",
   "execution_count": 1,
   "metadata": {},
   "outputs": [],
   "source": [
    "import numpy as np\n",
    "import pandas as pd\n",
    "import warnings\n",
    "warnings.filterwarnings('ignore')\n",
    "\n",
    "# 시각화 import\n",
    "import matplotlib.pyplot as plt\n",
    "import seaborn as sns\n",
    "%matplotlib inline"
   ]
  },
  {
   "cell_type": "markdown",
   "metadata": {},
   "source": [
    "### 1. 데이터 전처리"
   ]
  },
  {
   "cell_type": "code",
   "execution_count": 4,
   "metadata": {},
   "outputs": [
    {
     "data": {
      "text/html": [
       "<div>\n",
       "<style scoped>\n",
       "    .dataframe tbody tr th:only-of-type {\n",
       "        vertical-align: middle;\n",
       "    }\n",
       "\n",
       "    .dataframe tbody tr th {\n",
       "        vertical-align: top;\n",
       "    }\n",
       "\n",
       "    .dataframe thead th {\n",
       "        text-align: right;\n",
       "    }\n",
       "</style>\n",
       "<table border=\"1\" class=\"dataframe\">\n",
       "  <thead>\n",
       "    <tr style=\"text-align: right;\">\n",
       "      <th></th>\n",
       "      <th>Id</th>\n",
       "      <th>MSSubClass</th>\n",
       "      <th>MSZoning</th>\n",
       "      <th>LotFrontage</th>\n",
       "      <th>LotArea</th>\n",
       "      <th>Street</th>\n",
       "      <th>Alley</th>\n",
       "      <th>LotShape</th>\n",
       "      <th>LandContour</th>\n",
       "      <th>Utilities</th>\n",
       "      <th>...</th>\n",
       "      <th>PoolArea</th>\n",
       "      <th>PoolQC</th>\n",
       "      <th>Fence</th>\n",
       "      <th>MiscFeature</th>\n",
       "      <th>MiscVal</th>\n",
       "      <th>MoSold</th>\n",
       "      <th>YrSold</th>\n",
       "      <th>SaleType</th>\n",
       "      <th>SaleCondition</th>\n",
       "      <th>SalePrice</th>\n",
       "    </tr>\n",
       "  </thead>\n",
       "  <tbody>\n",
       "    <tr>\n",
       "      <th>0</th>\n",
       "      <td>1</td>\n",
       "      <td>60</td>\n",
       "      <td>RL</td>\n",
       "      <td>65.0</td>\n",
       "      <td>8450</td>\n",
       "      <td>Pave</td>\n",
       "      <td>NaN</td>\n",
       "      <td>Reg</td>\n",
       "      <td>Lvl</td>\n",
       "      <td>AllPub</td>\n",
       "      <td>...</td>\n",
       "      <td>0</td>\n",
       "      <td>NaN</td>\n",
       "      <td>NaN</td>\n",
       "      <td>NaN</td>\n",
       "      <td>0</td>\n",
       "      <td>2</td>\n",
       "      <td>2008</td>\n",
       "      <td>WD</td>\n",
       "      <td>Normal</td>\n",
       "      <td>208500</td>\n",
       "    </tr>\n",
       "    <tr>\n",
       "      <th>1</th>\n",
       "      <td>2</td>\n",
       "      <td>20</td>\n",
       "      <td>RL</td>\n",
       "      <td>80.0</td>\n",
       "      <td>9600</td>\n",
       "      <td>Pave</td>\n",
       "      <td>NaN</td>\n",
       "      <td>Reg</td>\n",
       "      <td>Lvl</td>\n",
       "      <td>AllPub</td>\n",
       "      <td>...</td>\n",
       "      <td>0</td>\n",
       "      <td>NaN</td>\n",
       "      <td>NaN</td>\n",
       "      <td>NaN</td>\n",
       "      <td>0</td>\n",
       "      <td>5</td>\n",
       "      <td>2007</td>\n",
       "      <td>WD</td>\n",
       "      <td>Normal</td>\n",
       "      <td>181500</td>\n",
       "    </tr>\n",
       "    <tr>\n",
       "      <th>2</th>\n",
       "      <td>3</td>\n",
       "      <td>60</td>\n",
       "      <td>RL</td>\n",
       "      <td>68.0</td>\n",
       "      <td>11250</td>\n",
       "      <td>Pave</td>\n",
       "      <td>NaN</td>\n",
       "      <td>IR1</td>\n",
       "      <td>Lvl</td>\n",
       "      <td>AllPub</td>\n",
       "      <td>...</td>\n",
       "      <td>0</td>\n",
       "      <td>NaN</td>\n",
       "      <td>NaN</td>\n",
       "      <td>NaN</td>\n",
       "      <td>0</td>\n",
       "      <td>9</td>\n",
       "      <td>2008</td>\n",
       "      <td>WD</td>\n",
       "      <td>Normal</td>\n",
       "      <td>223500</td>\n",
       "    </tr>\n",
       "  </tbody>\n",
       "</table>\n",
       "<p>3 rows × 81 columns</p>\n",
       "</div>"
      ],
      "text/plain": [
       "   Id  MSSubClass MSZoning  LotFrontage  LotArea Street Alley LotShape  \\\n",
       "0   1          60       RL         65.0     8450   Pave   NaN      Reg   \n",
       "1   2          20       RL         80.0     9600   Pave   NaN      Reg   \n",
       "2   3          60       RL         68.0    11250   Pave   NaN      IR1   \n",
       "\n",
       "  LandContour Utilities  ... PoolArea PoolQC Fence MiscFeature MiscVal MoSold  \\\n",
       "0         Lvl    AllPub  ...        0    NaN   NaN         NaN       0      2   \n",
       "1         Lvl    AllPub  ...        0    NaN   NaN         NaN       0      5   \n",
       "2         Lvl    AllPub  ...        0    NaN   NaN         NaN       0      9   \n",
       "\n",
       "  YrSold  SaleType  SaleCondition  SalePrice  \n",
       "0   2008        WD         Normal     208500  \n",
       "1   2007        WD         Normal     181500  \n",
       "2   2008        WD         Normal     223500  \n",
       "\n",
       "[3 rows x 81 columns]"
      ]
     },
     "execution_count": 4,
     "metadata": {},
     "output_type": "execute_result"
    }
   ],
   "source": [
    "# 데이터 로딩 => 원본 DataFrame 생성  => 복사해서 전처리\n",
    "house_df_org = pd.read_csv('./data/house/train.csv')\n",
    "house_df = house_df_org.copy()\n",
    "house_df.head(3)"
   ]
  },
  {
   "cell_type": "code",
   "execution_count": 5,
   "metadata": {},
   "outputs": [
    {
     "name": "stdout",
     "output_type": "stream",
     "text": [
      "<class 'pandas.core.frame.DataFrame'>\n",
      "RangeIndex: 1460 entries, 0 to 1459\n",
      "Data columns (total 81 columns):\n",
      " #   Column         Non-Null Count  Dtype  \n",
      "---  ------         --------------  -----  \n",
      " 0   Id             1460 non-null   int64  \n",
      " 1   MSSubClass     1460 non-null   int64  \n",
      " 2   MSZoning       1460 non-null   object \n",
      " 3   LotFrontage    1201 non-null   float64\n",
      " 4   LotArea        1460 non-null   int64  \n",
      " 5   Street         1460 non-null   object \n",
      " 6   Alley          91 non-null     object \n",
      " 7   LotShape       1460 non-null   object \n",
      " 8   LandContour    1460 non-null   object \n",
      " 9   Utilities      1460 non-null   object \n",
      " 10  LotConfig      1460 non-null   object \n",
      " 11  LandSlope      1460 non-null   object \n",
      " 12  Neighborhood   1460 non-null   object \n",
      " 13  Condition1     1460 non-null   object \n",
      " 14  Condition2     1460 non-null   object \n",
      " 15  BldgType       1460 non-null   object \n",
      " 16  HouseStyle     1460 non-null   object \n",
      " 17  OverallQual    1460 non-null   int64  \n",
      " 18  OverallCond    1460 non-null   int64  \n",
      " 19  YearBuilt      1460 non-null   int64  \n",
      " 20  YearRemodAdd   1460 non-null   int64  \n",
      " 21  RoofStyle      1460 non-null   object \n",
      " 22  RoofMatl       1460 non-null   object \n",
      " 23  Exterior1st    1460 non-null   object \n",
      " 24  Exterior2nd    1460 non-null   object \n",
      " 25  MasVnrType     1452 non-null   object \n",
      " 26  MasVnrArea     1452 non-null   float64\n",
      " 27  ExterQual      1460 non-null   object \n",
      " 28  ExterCond      1460 non-null   object \n",
      " 29  Foundation     1460 non-null   object \n",
      " 30  BsmtQual       1423 non-null   object \n",
      " 31  BsmtCond       1423 non-null   object \n",
      " 32  BsmtExposure   1422 non-null   object \n",
      " 33  BsmtFinType1   1423 non-null   object \n",
      " 34  BsmtFinSF1     1460 non-null   int64  \n",
      " 35  BsmtFinType2   1422 non-null   object \n",
      " 36  BsmtFinSF2     1460 non-null   int64  \n",
      " 37  BsmtUnfSF      1460 non-null   int64  \n",
      " 38  TotalBsmtSF    1460 non-null   int64  \n",
      " 39  Heating        1460 non-null   object \n",
      " 40  HeatingQC      1460 non-null   object \n",
      " 41  CentralAir     1460 non-null   object \n",
      " 42  Electrical     1459 non-null   object \n",
      " 43  1stFlrSF       1460 non-null   int64  \n",
      " 44  2ndFlrSF       1460 non-null   int64  \n",
      " 45  LowQualFinSF   1460 non-null   int64  \n",
      " 46  GrLivArea      1460 non-null   int64  \n",
      " 47  BsmtFullBath   1460 non-null   int64  \n",
      " 48  BsmtHalfBath   1460 non-null   int64  \n",
      " 49  FullBath       1460 non-null   int64  \n",
      " 50  HalfBath       1460 non-null   int64  \n",
      " 51  BedroomAbvGr   1460 non-null   int64  \n",
      " 52  KitchenAbvGr   1460 non-null   int64  \n",
      " 53  KitchenQual    1460 non-null   object \n",
      " 54  TotRmsAbvGrd   1460 non-null   int64  \n",
      " 55  Functional     1460 non-null   object \n",
      " 56  Fireplaces     1460 non-null   int64  \n",
      " 57  FireplaceQu    770 non-null    object \n",
      " 58  GarageType     1379 non-null   object \n",
      " 59  GarageYrBlt    1379 non-null   float64\n",
      " 60  GarageFinish   1379 non-null   object \n",
      " 61  GarageCars     1460 non-null   int64  \n",
      " 62  GarageArea     1460 non-null   int64  \n",
      " 63  GarageQual     1379 non-null   object \n",
      " 64  GarageCond     1379 non-null   object \n",
      " 65  PavedDrive     1460 non-null   object \n",
      " 66  WoodDeckSF     1460 non-null   int64  \n",
      " 67  OpenPorchSF    1460 non-null   int64  \n",
      " 68  EnclosedPorch  1460 non-null   int64  \n",
      " 69  3SsnPorch      1460 non-null   int64  \n",
      " 70  ScreenPorch    1460 non-null   int64  \n",
      " 71  PoolArea       1460 non-null   int64  \n",
      " 72  PoolQC         7 non-null      object \n",
      " 73  Fence          281 non-null    object \n",
      " 74  MiscFeature    54 non-null     object \n",
      " 75  MiscVal        1460 non-null   int64  \n",
      " 76  MoSold         1460 non-null   int64  \n",
      " 77  YrSold         1460 non-null   int64  \n",
      " 78  SaleType       1460 non-null   object \n",
      " 79  SaleCondition  1460 non-null   object \n",
      " 80  SalePrice      1460 non-null   int64  \n",
      "dtypes: float64(3), int64(35), object(43)\n",
      "memory usage: 924.0+ KB\n"
     ]
    }
   ],
   "source": [
    "# 데이터 구조 확인\n",
    "house_df_org.info()"
   ]
  },
  {
   "cell_type": "code",
   "execution_count": 6,
   "metadata": {},
   "outputs": [
    {
     "data": {
      "text/html": [
       "<div>\n",
       "<style scoped>\n",
       "    .dataframe tbody tr th:only-of-type {\n",
       "        vertical-align: middle;\n",
       "    }\n",
       "\n",
       "    .dataframe tbody tr th {\n",
       "        vertical-align: top;\n",
       "    }\n",
       "\n",
       "    .dataframe thead th {\n",
       "        text-align: right;\n",
       "    }\n",
       "</style>\n",
       "<table border=\"1\" class=\"dataframe\">\n",
       "  <thead>\n",
       "    <tr style=\"text-align: right;\">\n",
       "      <th></th>\n",
       "      <th>Id</th>\n",
       "      <th>MSSubClass</th>\n",
       "      <th>LotFrontage</th>\n",
       "      <th>LotArea</th>\n",
       "      <th>OverallQual</th>\n",
       "      <th>OverallCond</th>\n",
       "      <th>YearBuilt</th>\n",
       "      <th>YearRemodAdd</th>\n",
       "      <th>MasVnrArea</th>\n",
       "      <th>BsmtFinSF1</th>\n",
       "      <th>...</th>\n",
       "      <th>WoodDeckSF</th>\n",
       "      <th>OpenPorchSF</th>\n",
       "      <th>EnclosedPorch</th>\n",
       "      <th>3SsnPorch</th>\n",
       "      <th>ScreenPorch</th>\n",
       "      <th>PoolArea</th>\n",
       "      <th>MiscVal</th>\n",
       "      <th>MoSold</th>\n",
       "      <th>YrSold</th>\n",
       "      <th>SalePrice</th>\n",
       "    </tr>\n",
       "  </thead>\n",
       "  <tbody>\n",
       "    <tr>\n",
       "      <th>count</th>\n",
       "      <td>1460.000000</td>\n",
       "      <td>1460.000000</td>\n",
       "      <td>1201.000000</td>\n",
       "      <td>1460.000000</td>\n",
       "      <td>1460.000000</td>\n",
       "      <td>1460.000000</td>\n",
       "      <td>1460.000000</td>\n",
       "      <td>1460.000000</td>\n",
       "      <td>1452.000000</td>\n",
       "      <td>1460.000000</td>\n",
       "      <td>...</td>\n",
       "      <td>1460.000000</td>\n",
       "      <td>1460.000000</td>\n",
       "      <td>1460.000000</td>\n",
       "      <td>1460.000000</td>\n",
       "      <td>1460.000000</td>\n",
       "      <td>1460.000000</td>\n",
       "      <td>1460.000000</td>\n",
       "      <td>1460.000000</td>\n",
       "      <td>1460.000000</td>\n",
       "      <td>1460.000000</td>\n",
       "    </tr>\n",
       "    <tr>\n",
       "      <th>mean</th>\n",
       "      <td>730.500000</td>\n",
       "      <td>56.897260</td>\n",
       "      <td>70.049958</td>\n",
       "      <td>10516.828082</td>\n",
       "      <td>6.099315</td>\n",
       "      <td>5.575342</td>\n",
       "      <td>1971.267808</td>\n",
       "      <td>1984.865753</td>\n",
       "      <td>103.685262</td>\n",
       "      <td>443.639726</td>\n",
       "      <td>...</td>\n",
       "      <td>94.244521</td>\n",
       "      <td>46.660274</td>\n",
       "      <td>21.954110</td>\n",
       "      <td>3.409589</td>\n",
       "      <td>15.060959</td>\n",
       "      <td>2.758904</td>\n",
       "      <td>43.489041</td>\n",
       "      <td>6.321918</td>\n",
       "      <td>2007.815753</td>\n",
       "      <td>180921.195890</td>\n",
       "    </tr>\n",
       "    <tr>\n",
       "      <th>std</th>\n",
       "      <td>421.610009</td>\n",
       "      <td>42.300571</td>\n",
       "      <td>24.284752</td>\n",
       "      <td>9981.264932</td>\n",
       "      <td>1.382997</td>\n",
       "      <td>1.112799</td>\n",
       "      <td>30.202904</td>\n",
       "      <td>20.645407</td>\n",
       "      <td>181.066207</td>\n",
       "      <td>456.098091</td>\n",
       "      <td>...</td>\n",
       "      <td>125.338794</td>\n",
       "      <td>66.256028</td>\n",
       "      <td>61.119149</td>\n",
       "      <td>29.317331</td>\n",
       "      <td>55.757415</td>\n",
       "      <td>40.177307</td>\n",
       "      <td>496.123024</td>\n",
       "      <td>2.703626</td>\n",
       "      <td>1.328095</td>\n",
       "      <td>79442.502883</td>\n",
       "    </tr>\n",
       "    <tr>\n",
       "      <th>min</th>\n",
       "      <td>1.000000</td>\n",
       "      <td>20.000000</td>\n",
       "      <td>21.000000</td>\n",
       "      <td>1300.000000</td>\n",
       "      <td>1.000000</td>\n",
       "      <td>1.000000</td>\n",
       "      <td>1872.000000</td>\n",
       "      <td>1950.000000</td>\n",
       "      <td>0.000000</td>\n",
       "      <td>0.000000</td>\n",
       "      <td>...</td>\n",
       "      <td>0.000000</td>\n",
       "      <td>0.000000</td>\n",
       "      <td>0.000000</td>\n",
       "      <td>0.000000</td>\n",
       "      <td>0.000000</td>\n",
       "      <td>0.000000</td>\n",
       "      <td>0.000000</td>\n",
       "      <td>1.000000</td>\n",
       "      <td>2006.000000</td>\n",
       "      <td>34900.000000</td>\n",
       "    </tr>\n",
       "    <tr>\n",
       "      <th>25%</th>\n",
       "      <td>365.750000</td>\n",
       "      <td>20.000000</td>\n",
       "      <td>59.000000</td>\n",
       "      <td>7553.500000</td>\n",
       "      <td>5.000000</td>\n",
       "      <td>5.000000</td>\n",
       "      <td>1954.000000</td>\n",
       "      <td>1967.000000</td>\n",
       "      <td>0.000000</td>\n",
       "      <td>0.000000</td>\n",
       "      <td>...</td>\n",
       "      <td>0.000000</td>\n",
       "      <td>0.000000</td>\n",
       "      <td>0.000000</td>\n",
       "      <td>0.000000</td>\n",
       "      <td>0.000000</td>\n",
       "      <td>0.000000</td>\n",
       "      <td>0.000000</td>\n",
       "      <td>5.000000</td>\n",
       "      <td>2007.000000</td>\n",
       "      <td>129975.000000</td>\n",
       "    </tr>\n",
       "    <tr>\n",
       "      <th>50%</th>\n",
       "      <td>730.500000</td>\n",
       "      <td>50.000000</td>\n",
       "      <td>69.000000</td>\n",
       "      <td>9478.500000</td>\n",
       "      <td>6.000000</td>\n",
       "      <td>5.000000</td>\n",
       "      <td>1973.000000</td>\n",
       "      <td>1994.000000</td>\n",
       "      <td>0.000000</td>\n",
       "      <td>383.500000</td>\n",
       "      <td>...</td>\n",
       "      <td>0.000000</td>\n",
       "      <td>25.000000</td>\n",
       "      <td>0.000000</td>\n",
       "      <td>0.000000</td>\n",
       "      <td>0.000000</td>\n",
       "      <td>0.000000</td>\n",
       "      <td>0.000000</td>\n",
       "      <td>6.000000</td>\n",
       "      <td>2008.000000</td>\n",
       "      <td>163000.000000</td>\n",
       "    </tr>\n",
       "    <tr>\n",
       "      <th>75%</th>\n",
       "      <td>1095.250000</td>\n",
       "      <td>70.000000</td>\n",
       "      <td>80.000000</td>\n",
       "      <td>11601.500000</td>\n",
       "      <td>7.000000</td>\n",
       "      <td>6.000000</td>\n",
       "      <td>2000.000000</td>\n",
       "      <td>2004.000000</td>\n",
       "      <td>166.000000</td>\n",
       "      <td>712.250000</td>\n",
       "      <td>...</td>\n",
       "      <td>168.000000</td>\n",
       "      <td>68.000000</td>\n",
       "      <td>0.000000</td>\n",
       "      <td>0.000000</td>\n",
       "      <td>0.000000</td>\n",
       "      <td>0.000000</td>\n",
       "      <td>0.000000</td>\n",
       "      <td>8.000000</td>\n",
       "      <td>2009.000000</td>\n",
       "      <td>214000.000000</td>\n",
       "    </tr>\n",
       "    <tr>\n",
       "      <th>max</th>\n",
       "      <td>1460.000000</td>\n",
       "      <td>190.000000</td>\n",
       "      <td>313.000000</td>\n",
       "      <td>215245.000000</td>\n",
       "      <td>10.000000</td>\n",
       "      <td>9.000000</td>\n",
       "      <td>2010.000000</td>\n",
       "      <td>2010.000000</td>\n",
       "      <td>1600.000000</td>\n",
       "      <td>5644.000000</td>\n",
       "      <td>...</td>\n",
       "      <td>857.000000</td>\n",
       "      <td>547.000000</td>\n",
       "      <td>552.000000</td>\n",
       "      <td>508.000000</td>\n",
       "      <td>480.000000</td>\n",
       "      <td>738.000000</td>\n",
       "      <td>15500.000000</td>\n",
       "      <td>12.000000</td>\n",
       "      <td>2010.000000</td>\n",
       "      <td>755000.000000</td>\n",
       "    </tr>\n",
       "  </tbody>\n",
       "</table>\n",
       "<p>8 rows × 38 columns</p>\n",
       "</div>"
      ],
      "text/plain": [
       "                Id   MSSubClass  LotFrontage        LotArea  OverallQual  \\\n",
       "count  1460.000000  1460.000000  1201.000000    1460.000000  1460.000000   \n",
       "mean    730.500000    56.897260    70.049958   10516.828082     6.099315   \n",
       "std     421.610009    42.300571    24.284752    9981.264932     1.382997   \n",
       "min       1.000000    20.000000    21.000000    1300.000000     1.000000   \n",
       "25%     365.750000    20.000000    59.000000    7553.500000     5.000000   \n",
       "50%     730.500000    50.000000    69.000000    9478.500000     6.000000   \n",
       "75%    1095.250000    70.000000    80.000000   11601.500000     7.000000   \n",
       "max    1460.000000   190.000000   313.000000  215245.000000    10.000000   \n",
       "\n",
       "       OverallCond    YearBuilt  YearRemodAdd   MasVnrArea   BsmtFinSF1  ...  \\\n",
       "count  1460.000000  1460.000000   1460.000000  1452.000000  1460.000000  ...   \n",
       "mean      5.575342  1971.267808   1984.865753   103.685262   443.639726  ...   \n",
       "std       1.112799    30.202904     20.645407   181.066207   456.098091  ...   \n",
       "min       1.000000  1872.000000   1950.000000     0.000000     0.000000  ...   \n",
       "25%       5.000000  1954.000000   1967.000000     0.000000     0.000000  ...   \n",
       "50%       5.000000  1973.000000   1994.000000     0.000000   383.500000  ...   \n",
       "75%       6.000000  2000.000000   2004.000000   166.000000   712.250000  ...   \n",
       "max       9.000000  2010.000000   2010.000000  1600.000000  5644.000000  ...   \n",
       "\n",
       "        WoodDeckSF  OpenPorchSF  EnclosedPorch    3SsnPorch  ScreenPorch  \\\n",
       "count  1460.000000  1460.000000    1460.000000  1460.000000  1460.000000   \n",
       "mean     94.244521    46.660274      21.954110     3.409589    15.060959   \n",
       "std     125.338794    66.256028      61.119149    29.317331    55.757415   \n",
       "min       0.000000     0.000000       0.000000     0.000000     0.000000   \n",
       "25%       0.000000     0.000000       0.000000     0.000000     0.000000   \n",
       "50%       0.000000    25.000000       0.000000     0.000000     0.000000   \n",
       "75%     168.000000    68.000000       0.000000     0.000000     0.000000   \n",
       "max     857.000000   547.000000     552.000000   508.000000   480.000000   \n",
       "\n",
       "          PoolArea       MiscVal       MoSold       YrSold      SalePrice  \n",
       "count  1460.000000   1460.000000  1460.000000  1460.000000    1460.000000  \n",
       "mean      2.758904     43.489041     6.321918  2007.815753  180921.195890  \n",
       "std      40.177307    496.123024     2.703626     1.328095   79442.502883  \n",
       "min       0.000000      0.000000     1.000000  2006.000000   34900.000000  \n",
       "25%       0.000000      0.000000     5.000000  2007.000000  129975.000000  \n",
       "50%       0.000000      0.000000     6.000000  2008.000000  163000.000000  \n",
       "75%       0.000000      0.000000     8.000000  2009.000000  214000.000000  \n",
       "max     738.000000  15500.000000    12.000000  2010.000000  755000.000000  \n",
       "\n",
       "[8 rows x 38 columns]"
      ]
     },
     "execution_count": 6,
     "metadata": {},
     "output_type": "execute_result"
    }
   ],
   "source": [
    "house_df.describe()"
   ]
  },
  {
   "cell_type": "code",
   "execution_count": 7,
   "metadata": {},
   "outputs": [
    {
     "name": "stdout",
     "output_type": "stream",
     "text": [
      "데이터셋의 shape :  (1460, 81)\n"
     ]
    }
   ],
   "source": [
    "print('데이터셋의 shape : ', house_df.shape)"
   ]
  },
  {
   "cell_type": "code",
   "execution_count": 8,
   "metadata": {},
   "outputs": [
    {
     "name": "stdout",
     "output_type": "stream",
     "text": [
      "피처들의 타입별 갯수 :\n",
      "  object     43\n",
      "int64      35\n",
      "float64     3\n",
      "dtype: int64\n"
     ]
    }
   ],
   "source": [
    "print('피처들의 타입별 갯수 :\\n ', house_df.dtypes.value_counts())"
   ]
  },
  {
   "cell_type": "markdown",
   "metadata": {},
   "source": [
    "object type(string) 은 주로 카테고리컬 할것 이다.라고 예측하고 진행하겠다"
   ]
  },
  {
   "cell_type": "code",
   "execution_count": 16,
   "metadata": {},
   "outputs": [
    {
     "data": {
      "text/plain": [
       "Id                 int64\n",
       "MSSubClass         int64\n",
       "MSZoning          object\n",
       "LotFrontage      float64\n",
       "LotArea            int64\n",
       "                  ...   \n",
       "MoSold             int64\n",
       "YrSold             int64\n",
       "SaleType          object\n",
       "SaleCondition     object\n",
       "SalePrice          int64\n",
       "Length: 81, dtype: object"
      ]
     },
     "execution_count": 16,
     "metadata": {},
     "output_type": "execute_result"
    }
   ],
   "source": [
    "house_df.dtypes"
   ]
  },
  {
   "cell_type": "code",
   "execution_count": 9,
   "metadata": {},
   "outputs": [
    {
     "data": {
      "text/plain": [
       "Id                 0\n",
       "MSSubClass         0\n",
       "MSZoning           0\n",
       "LotFrontage      259\n",
       "LotArea            0\n",
       "                ... \n",
       "MoSold             0\n",
       "YrSold             0\n",
       "SaleType           0\n",
       "SaleCondition      0\n",
       "SalePrice          0\n",
       "Length: 81, dtype: int64"
      ]
     },
     "execution_count": 9,
     "metadata": {},
     "output_type": "execute_result"
    }
   ],
   "source": [
    "# 결측치 개수 \n",
    "isnull_ser = house_df.isnull().sum()\n",
    "isnull_ser"
   ]
  },
  {
   "cell_type": "code",
   "execution_count": 10,
   "metadata": {},
   "outputs": [
    {
     "data": {
      "text/plain": [
       "PoolQC          1453\n",
       "MiscFeature     1406\n",
       "Alley           1369\n",
       "Fence           1179\n",
       "FireplaceQu      690\n",
       "LotFrontage      259\n",
       "GarageYrBlt       81\n",
       "GarageType        81\n",
       "GarageFinish      81\n",
       "GarageQual        81\n",
       "GarageCond        81\n",
       "BsmtFinType2      38\n",
       "BsmtExposure      38\n",
       "BsmtFinType1      37\n",
       "BsmtCond          37\n",
       "BsmtQual          37\n",
       "MasVnrArea         8\n",
       "MasVnrType         8\n",
       "Electrical         1\n",
       "dtype: int64"
      ]
     },
     "execution_count": 10,
     "metadata": {},
     "output_type": "execute_result"
    }
   ],
   "source": [
    "# Null 을 포함하는 컬럼만 추출한 후, Null개수에 따른 내림차순 정렬\n",
    "isnull_ser[isnull_ser>0].sort_values(ascending=False)"
   ]
  },
  {
   "cell_type": "code",
   "execution_count": 11,
   "metadata": {},
   "outputs": [
    {
     "data": {
      "text/plain": [
       "<matplotlib.axes._subplots.AxesSubplot at 0x223ec20ec88>"
      ]
     },
     "execution_count": 11,
     "metadata": {},
     "output_type": "execute_result"
    },
    {
     "data": {
      "image/png": "[encoded data removed]",
      "text/plain": [
       "<Figure size 432x288 with 1 Axes>"
      ]
     },
     "metadata": {
      "needs_background": "light"
     },
     "output_type": "display_data"
    }
   ],
   "source": [
    "# 타깃 분포 시각화\n",
    "sns.distplot(house_df['SalePrice'])"
   ]
  },
  {
   "cell_type": "markdown",
   "metadata": {},
   "source": [
    "타겟값이 약간 쏠려있다. (Left skew)"
   ]
  },
  {
   "cell_type": "code",
   "execution_count": 12,
   "metadata": {},
   "outputs": [
    {
     "data": {
      "text/plain": [
       "<matplotlib.axes._subplots.AxesSubplot at 0x223eb3c6108>"
      ]
     },
     "execution_count": 12,
     "metadata": {},
     "output_type": "execute_result"
    },
    {
     "data": {
      "image/png": "[encoded data removed]",
      "text/plain": [
       "<Figure size 432x288 with 1 Axes>"
      ]
     },
     "metadata": {
      "needs_background": "light"
     },
     "output_type": "display_data"
    }
   ],
   "source": [
    "# log() 변환\n",
    "log_SalePrice = np.log1p(house_df['SalePrice'])\n",
    "sns.distplot(log_SalePrice)"
   ]
  },
  {
   "cell_type": "markdown",
   "metadata": {},
   "source": [
    "정규분포에 약간 가까워 졌다"
   ]
  },
  {
   "cell_type": "code",
   "execution_count": 13,
   "metadata": {},
   "outputs": [],
   "source": [
    "# SalePrice 로그 변환\n",
    "original_SalePrice = house_df['SalePrice']  # 원래값은 다른 변수에 저장해두기\n",
    "house_df['SalePrice']=np.log1p(original_SalePrice) # 로그변환해서 원래컬럼에 치환"
   ]
  },
  {
   "cell_type": "code",
   "execution_count": 14,
   "metadata": {},
   "outputs": [],
   "source": [
    "# Null 1000 개 이상인 컬럼들과 불필요한 컬럼 삭제\n",
    "drop_cols=['Id','PoolQC','MiscFeature','Alley','Fence','FireplaceQu']\n",
    "house_df.drop(drop_cols, axis=1, inplace=True)\n",
    "\n",
    "# 드롭하지 않은 숫자형 Null 값들은 각 컬럼의 평균값으로 대체\n",
    "house_df.fillna(house_df.mean(), inplace=True)"
   ]
  },
  {
   "cell_type": "code",
   "execution_count": 15,
   "metadata": {},
   "outputs": [],
   "source": [
    "isnull_ser = house_df.isnull().sum()\n",
    "null_cols = isnull_ser[isnull_ser>0].sort_values(ascending=False).index"
   ]
  },
  {
   "cell_type": "markdown",
   "metadata": {},
   "source": [
    "위 칼럼들은 숫자형이 아니기 때문에, 평균값으로 대체되지 않았고, 여전히 Null 값을 가지고 있다."
   ]
  },
  {
   "cell_type": "code",
   "execution_count": 16,
   "metadata": {},
   "outputs": [
    {
     "data": {
      "text/plain": [
       "(37, 75)"
      ]
     },
     "execution_count": 16,
     "metadata": {},
     "output_type": "execute_result"
    }
   ],
   "source": [
    "len(house_df.mean()), len(house_df.columns)\n",
    "# 즉 75개의 컬럼중 37개가 숫자형 데이터가 아니다"
   ]
  },
  {
   "cell_type": "code",
   "execution_count": 17,
   "metadata": {},
   "outputs": [
    {
     "data": {
      "text/plain": [
       "GarageCond      object\n",
       "GarageQual      object\n",
       "GarageFinish    object\n",
       "GarageType      object\n",
       "BsmtFinType2    object\n",
       "BsmtExposure    object\n",
       "BsmtFinType1    object\n",
       "BsmtCond        object\n",
       "BsmtQual        object\n",
       "MasVnrType      object\n",
       "Electrical      object\n",
       "dtype: object"
      ]
     },
     "execution_count": 17,
     "metadata": {},
     "output_type": "execute_result"
    }
   ],
   "source": [
    "# null 인 컬럼은 object 밖에 없다. -> 즉 데이터타입 string\n",
    "# 숫자인 컬럼은 평균치로 결측치를 채웠다.\n",
    "house_df.dtypes[null_cols]"
   ]
  },
  {
   "cell_type": "code",
   "execution_count": 18,
   "metadata": {},
   "outputs": [
    {
     "name": "stdout",
     "output_type": "stream",
     "text": [
      "수행전 shape: (1460, 75)\n",
      "수행 후 shape: (1460, 271)\n"
     ]
    }
   ],
   "source": [
    "# 원 핫 처리 후, 널 여부 확인\n",
    "print('수행전 shape:', house_df.shape)\n",
    "house_df_ohe = pd.get_dummies(house_df)\n",
    "print('수행 후 shape:', house_df_ohe.shape)"
   ]
  },
  {
   "cell_type": "code",
   "execution_count": 19,
   "metadata": {},
   "outputs": [
    {
     "data": {
      "text/plain": [
       "Index([], dtype='object')"
      ]
     },
     "execution_count": 19,
     "metadata": {},
     "output_type": "execute_result"
    }
   ],
   "source": [
    "isnull_ser = house_df_ohe.isnull().sum()\n",
    "null_cols = isnull_ser[isnull_ser>0].sort_values(ascending=False).index\n",
    "# 여기서 이미 Null 값을 가진 컬럼이 없어졌음을 확인할 수 있다. (원핫인코딩을 하면 Null 은 그냥 0,0, 0... 처리되니까.)\n",
    "null_cols"
   ]
  },
  {
   "cell_type": "code",
   "execution_count": 20,
   "metadata": {},
   "outputs": [
    {
     "data": {
      "text/plain": [
       "Series([], dtype: object)"
      ]
     },
     "execution_count": 20,
     "metadata": {},
     "output_type": "execute_result"
    }
   ],
   "source": [
    "# Null 여부 확인\n",
    "house_df_ohe.dtypes[null_cols]"
   ]
  },
  {
   "cell_type": "markdown",
   "metadata": {},
   "source": [
    "결측치 모두 채웠다."
   ]
  },
  {
   "cell_type": "markdown",
   "metadata": {},
   "source": [
    "### 선형회귀 모델 학습/예측/평가"
   ]
  },
  {
   "cell_type": "code",
   "execution_count": 88,
   "metadata": {},
   "outputs": [],
   "source": [
    "from sklearn.metrics import mean_absolute_error\n",
    "from sklearn.metrics import mean_squared_error"
   ]
  },
  {
   "cell_type": "code",
   "execution_count": 21,
   "metadata": {},
   "outputs": [],
   "source": [
    "# 단일 모델 처리 함수\n",
    "# 파라미터 model : 이미 fitting 된 모델\n",
    "def get_rmse(model):\n",
    "    pred = model.predict(X_test)\n",
    "    mse = mean_squared_error(y_test, pred)\n",
    "    rmse = np.sqrt(mse)\n",
    "    out_str = '{0} 로그 변환된 RMSE: {1}'\n",
    "    print(out_str.format(model.__class__.__name__, np.round(rmse,3)))\n",
    "    \n",
    "    return rmse\n",
    "\n",
    "# 다중 모델 처리 함수\n",
    "def get_rmses(models):\n",
    "    rmses =[]\n",
    "    for model in models:\n",
    "        rmse = get_rmse(model)\n",
    "        rmses.append(rmse)\n",
    "    return rmses"
   ]
  },
  {
   "cell_type": "code",
   "execution_count": 22,
   "metadata": {},
   "outputs": [],
   "source": [
    "from sklearn.linear_model import LinearRegression, Ridge, Lasso\n",
    "from sklearn.model_selection import train_test_split\n",
    "from sklearn.metrics import mean_squared_error"
   ]
  },
  {
   "cell_type": "code",
   "execution_count": 23,
   "metadata": {},
   "outputs": [],
   "source": [
    "# 데이터/ 답 분리\n",
    "y_target = house_df_ohe['SalePrice']\n",
    "X_featrues = house_df_ohe.drop('SalePrice', axis=1, inplace=False)\n",
    "\n",
    "# 학습/테스트 데이터 분리\n",
    "X_train, X_test, y_train, y_test = train_test_split(\n",
    "    X_featrues, y_target, test_size=0.2, random_state=0\n",
    ")"
   ]
  },
  {
   "cell_type": "code",
   "execution_count": 24,
   "metadata": {},
   "outputs": [],
   "source": [
    "# 다중모델 처리.\n",
    "# 객체 생성\n",
    "lr_reg = LinearRegression()\n",
    "lr_reg.fit(X_train, y_train)\n",
    "ridge_reg = Ridge()\n",
    "ridge_reg.fit(X_train, y_train)\n",
    "lasso_reg = Lasso()\n",
    "lasso_reg.fit(X_train, y_train)\n",
    "\n",
    "models = [lr_reg, ridge_reg, lasso_reg]"
   ]
  },
  {
   "cell_type": "code",
   "execution_count": 25,
   "metadata": {},
   "outputs": [
    {
     "name": "stdout",
     "output_type": "stream",
     "text": [
      "LinearRegression 로그 변환된 RMSE: 0.237\n",
      "Ridge 로그 변환된 RMSE: 0.203\n",
      "Lasso 로그 변환된 RMSE: 0.265\n"
     ]
    },
    {
     "data": {
      "text/plain": [
       "[0.23654762711418975, 0.20264744779250782, 0.2654391397907449]"
      ]
     },
     "execution_count": 25,
     "metadata": {},
     "output_type": "execute_result"
    }
   ],
   "source": [
    "get_rmses(models)"
   ]
  },
  {
   "cell_type": "markdown",
   "metadata": {},
   "source": [
    "- 위의 결과 좋지 않음.-> 회귀계수 시각화해서 문제 확인하기 \n",
    "## 스스로 해보기"
   ]
  },
  {
   "cell_type": "code",
   "execution_count": null,
   "metadata": {},
   "outputs": [],
   "source": [
    "def get_top_bottom_coef()"
   ]
  },
  {
   "cell_type": "markdown",
   "metadata": {},
   "source": [
    "-  교차검증을 통해 개선되는지 확인하기 -> cross_val"
   ]
  },
  {
   "cell_type": "code",
   "execution_count": 26,
   "metadata": {},
   "outputs": [],
   "source": [
    "from sklearn.model_selection import cross_val_score\n",
    "\n",
    "def get_avg_rmse_cv(models):\n",
    "    for model in models:\n",
    "        rmse_list = np.sqrt(-cross_val_score(model, X_featrues, y_target, scoring='neg_mean_squared_error', cv = 5))\n",
    "        rmse_avg = np.mean(rmse_list)\n",
    "        class_name = model.__class__.__name__\n",
    "        print('\\n{0} RMSE 값 리스트 : {1}'.format(class_name, np.round(rmse_list, 3)))\n",
    "        print('{0} 평균 RMSE 값 : {1}'.format(class_name, np.round(rmse_avg, 3)))      "
   ]
  },
  {
   "cell_type": "code",
   "execution_count": 27,
   "metadata": {},
   "outputs": [
    {
     "name": "stdout",
     "output_type": "stream",
     "text": [
      "\n",
      "LinearRegression RMSE 값 리스트 : [0.135 0.165 0.168 0.111 0.198]\n",
      "LinearRegression 평균 RMSE 값 : 0.155\n",
      "\n",
      "Ridge RMSE 값 리스트 : [0.117 0.154 0.142 0.117 0.189]\n",
      "Ridge 평균 RMSE 값 : 0.144\n",
      "\n",
      "Lasso RMSE 값 리스트 : [0.161 0.204 0.177 0.181 0.265]\n",
      "Lasso 평균 RMSE 값 : 0.198\n"
     ]
    }
   ],
   "source": [
    "get_avg_rmse_cv(models)"
   ]
  },
  {
   "cell_type": "markdown",
   "metadata": {},
   "source": [
    "- 교차검증을 통해서 약간 향상되었음\n",
    "- 그러나 아직 성능이 부족하기에 하이퍼 파라미터 튜닝을 통해 개선해보겠음 -> GridSearchCV"
   ]
  },
  {
   "cell_type": "code",
   "execution_count": 28,
   "metadata": {},
   "outputs": [],
   "source": [
    "from sklearn.model_selection import GridSearchCV\n",
    "\n",
    "# 최적화 파라미터로 학습된 베스트 모델 반환하는 함수 생성\n",
    "def get_best_estimator(model, params_p):\n",
    "    grid_model = GridSearchCV(\n",
    "        model, param_grid=params_p, scoring='neg_mean_squared_error', cv=5\n",
    "    )\n",
    "    grid_model.fit(X_featrues, y_target)  # 베스트 리턴\n",
    "    rmse = np.sqrt(-1 * grid_model.best_score_)\n",
    "    out_str = '{0} 5 CV 시 최적 평균 RMSE 값 : {1}, 최적 alpha:{2}'\n",
    "    print(out_str.format(model.__class__.__name__, np.round(rmse, 4), grid_model.best_params_))\n",
    "    return grid_model.best_estimator_"
   ]
  },
  {
   "cell_type": "code",
   "execution_count": 29,
   "metadata": {},
   "outputs": [],
   "source": [
    "ridge_params = { 'alpha':[0.05, 0.1, 1, 5, 8, 10, 12, 15, 20] }\n",
    "lasso_params = { 'alpha':[0.001, 0.005, 0.008, 0.05, 0.03, 0.1, 0.5, 1,5, 10] }"
   ]
  },
  {
   "cell_type": "code",
   "execution_count": 30,
   "metadata": {},
   "outputs": [
    {
     "name": "stdout",
     "output_type": "stream",
     "text": [
      "Ridge 5 CV 시 최적 평균 RMSE 값 : 0.1418, 최적 alpha:{'alpha': 12}\n",
      "Lasso 5 CV 시 최적 평균 RMSE 값 : 0.142, 최적 alpha:{'alpha': 0.001}\n"
     ]
    }
   ],
   "source": [
    "best_ridge = get_best_estimator(ridge_reg, ridge_params)\n",
    "best_lasso = get_best_estimator(lasso_reg, lasso_params)"
   ]
  },
  {
   "cell_type": "markdown",
   "metadata": {},
   "source": [
    "하이퍼 파라미터 튜닝 후 라쏘의 성능이 약간 향상되었다"
   ]
  },
  {
   "cell_type": "markdown",
   "metadata": {},
   "source": [
    "## 10/15 여기부터~"
   ]
  },
  {
   "cell_type": "markdown",
   "metadata": {},
   "source": [
    "### 데이터 왜곡(Skew) 확인 -> 전처리(로그변환) -> 성능평가"
   ]
  },
  {
   "cell_type": "code",
   "execution_count": 31,
   "metadata": {},
   "outputs": [],
   "source": [
    "# 왜곡도 확인 모듈\n",
    "from scipy.stats import skew"
   ]
  },
  {
   "cell_type": "code",
   "execution_count": 37,
   "metadata": {
    "collapsed": true
   },
   "outputs": [
    {
     "name": "stdout",
     "output_type": "stream",
     "text": [
      "<class 'pandas.core.frame.DataFrame'>\n",
      "RangeIndex: 1460 entries, 0 to 1459\n",
      "Data columns (total 75 columns):\n",
      " #   Column         Non-Null Count  Dtype  \n",
      "---  ------         --------------  -----  \n",
      " 0   MSSubClass     1460 non-null   int64  \n",
      " 1   MSZoning       1460 non-null   object \n",
      " 2   LotFrontage    1460 non-null   float64\n",
      " 3   LotArea        1460 non-null   int64  \n",
      " 4   Street         1460 non-null   object \n",
      " 5   LotShape       1460 non-null   object \n",
      " 6   LandContour    1460 non-null   object \n",
      " 7   Utilities      1460 non-null   object \n",
      " 8   LotConfig      1460 non-null   object \n",
      " 9   LandSlope      1460 non-null   object \n",
      " 10  Neighborhood   1460 non-null   object \n",
      " 11  Condition1     1460 non-null   object \n",
      " 12  Condition2     1460 non-null   object \n",
      " 13  BldgType       1460 non-null   object \n",
      " 14  HouseStyle     1460 non-null   object \n",
      " 15  OverallQual    1460 non-null   int64  \n",
      " 16  OverallCond    1460 non-null   int64  \n",
      " 17  YearBuilt      1460 non-null   int64  \n",
      " 18  YearRemodAdd   1460 non-null   int64  \n",
      " 19  RoofStyle      1460 non-null   object \n",
      " 20  RoofMatl       1460 non-null   object \n",
      " 21  Exterior1st    1460 non-null   object \n",
      " 22  Exterior2nd    1460 non-null   object \n",
      " 23  MasVnrType     1452 non-null   object \n",
      " 24  MasVnrArea     1460 non-null   float64\n",
      " 25  ExterQual      1460 non-null   object \n",
      " 26  ExterCond      1460 non-null   object \n",
      " 27  Foundation     1460 non-null   object \n",
      " 28  BsmtQual       1423 non-null   object \n",
      " 29  BsmtCond       1423 non-null   object \n",
      " 30  BsmtExposure   1422 non-null   object \n",
      " 31  BsmtFinType1   1423 non-null   object \n",
      " 32  BsmtFinSF1     1460 non-null   int64  \n",
      " 33  BsmtFinType2   1422 non-null   object \n",
      " 34  BsmtFinSF2     1460 non-null   int64  \n",
      " 35  BsmtUnfSF      1460 non-null   int64  \n",
      " 36  TotalBsmtSF    1460 non-null   int64  \n",
      " 37  Heating        1460 non-null   object \n",
      " 38  HeatingQC      1460 non-null   object \n",
      " 39  CentralAir     1460 non-null   object \n",
      " 40  Electrical     1459 non-null   object \n",
      " 41  1stFlrSF       1460 non-null   int64  \n",
      " 42  2ndFlrSF       1460 non-null   int64  \n",
      " 43  LowQualFinSF   1460 non-null   int64  \n",
      " 44  GrLivArea      1460 non-null   int64  \n",
      " 45  BsmtFullBath   1460 non-null   int64  \n",
      " 46  BsmtHalfBath   1460 non-null   int64  \n",
      " 47  FullBath       1460 non-null   int64  \n",
      " 48  HalfBath       1460 non-null   int64  \n",
      " 49  BedroomAbvGr   1460 non-null   int64  \n",
      " 50  KitchenAbvGr   1460 non-null   int64  \n",
      " 51  KitchenQual    1460 non-null   object \n",
      " 52  TotRmsAbvGrd   1460 non-null   int64  \n",
      " 53  Functional     1460 non-null   object \n",
      " 54  Fireplaces     1460 non-null   int64  \n",
      " 55  GarageType     1379 non-null   object \n",
      " 56  GarageYrBlt    1460 non-null   float64\n",
      " 57  GarageFinish   1379 non-null   object \n",
      " 58  GarageCars     1460 non-null   int64  \n",
      " 59  GarageArea     1460 non-null   int64  \n",
      " 60  GarageQual     1379 non-null   object \n",
      " 61  GarageCond     1379 non-null   object \n",
      " 62  PavedDrive     1460 non-null   object \n",
      " 63  WoodDeckSF     1460 non-null   int64  \n",
      " 64  OpenPorchSF    1460 non-null   int64  \n",
      " 65  EnclosedPorch  1460 non-null   int64  \n",
      " 66  3SsnPorch      1460 non-null   int64  \n",
      " 67  ScreenPorch    1460 non-null   int64  \n",
      " 68  PoolArea       1460 non-null   int64  \n",
      " 69  MiscVal        1460 non-null   int64  \n",
      " 70  MoSold         1460 non-null   int64  \n",
      " 71  YrSold         1460 non-null   int64  \n",
      " 72  SaleType       1460 non-null   object \n",
      " 73  SaleCondition  1460 non-null   object \n",
      " 74  SalePrice      1460 non-null   float64\n",
      "dtypes: float64(4), int64(33), object(38)\n",
      "memory usage: 855.6+ KB\n"
     ]
    }
   ],
   "source": [
    "# 슷자데이터 추출\n",
    "house_df.info()"
   ]
  },
  {
   "cell_type": "code",
   "execution_count": 51,
   "metadata": {},
   "outputs": [
    {
     "data": {
      "text/plain": [
       "MSSubClass      1.406210\n",
       "LotFrontage     2.382499\n",
       "LotArea        12.195142\n",
       "OverallQual     0.216721\n",
       "OverallCond     0.692355\n",
       "dtype: float64"
      ]
     },
     "execution_count": 51,
     "metadata": {},
     "output_type": "execute_result"
    }
   ],
   "source": [
    "# 숫자 데이터의 왜곡도 확인\n",
    "# 숫자 데이터 추출 -> 숫자형 컬럼 선택(dtype이 obj 아닌 컬럼 선택) -> 시리즈 타입 반환 -> index 추출( 즉 컬럼명 추출) \n",
    "features_index = house_df.dtypes[house_df.dtypes != 'object'].index\n",
    "# 왜곡도 확인\n",
    "skew_features = house_df[features_index].apply(lambda x :skew(x) )\n",
    "skew_features[:5]"
   ]
  },
  {
   "cell_type": "markdown",
   "metadata": {},
   "source": [
    "####  로그 변환(로그는 마이너스인애들은 처리할수가 없다.)=> 처리하기 위해 -1*x +1 처리해주기도 함."
   ]
  },
  {
   "cell_type": "code",
   "execution_count": 54,
   "metadata": {},
   "outputs": [
    {
     "data": {
      "text/plain": [
       "(MSSubClass        1.406210\n",
       " LotFrontage       2.382499\n",
       " LotArea          12.195142\n",
       " MasVnrArea        2.673661\n",
       " BsmtFinSF1        1.683771\n",
       " BsmtFinSF2        4.250888\n",
       " TotalBsmtSF       1.522688\n",
       " 1stFlrSF          1.375342\n",
       " LowQualFinSF      9.002080\n",
       " GrLivArea         1.365156\n",
       " BsmtHalfBath      4.099186\n",
       " KitchenAbvGr      4.483784\n",
       " WoodDeckSF        1.539792\n",
       " OpenPorchSF       2.361912\n",
       " EnclosedPorch     3.086696\n",
       " 3SsnPorch        10.293752\n",
       " ScreenPorch       4.117977\n",
       " PoolArea         14.813135\n",
       " MiscVal          24.451640\n",
       " dtype: float64,\n",
       " pandas.core.series.Series)"
      ]
     },
     "execution_count": 54,
     "metadata": {},
     "output_type": "execute_result"
    }
   ],
   "source": [
    "# skew 정도가 1이상인 컬럼들만 추출하기 -> 로그 변환\n",
    "skew_features_top = skew_features[skew_features>1]\n",
    "skew_features_top, type(skew_features_top)"
   ]
  },
  {
   "cell_type": "code",
   "execution_count": 55,
   "metadata": {},
   "outputs": [
    {
     "data": {
      "text/plain": [
       "MiscVal          24.451640\n",
       "PoolArea         14.813135\n",
       "LotArea          12.195142\n",
       "3SsnPorch        10.293752\n",
       "LowQualFinSF      9.002080\n",
       "KitchenAbvGr      4.483784\n",
       "BsmtFinSF2        4.250888\n",
       "ScreenPorch       4.117977\n",
       "BsmtHalfBath      4.099186\n",
       "EnclosedPorch     3.086696\n",
       "MasVnrArea        2.673661\n",
       "LotFrontage       2.382499\n",
       "OpenPorchSF       2.361912\n",
       "BsmtFinSF1        1.683771\n",
       "WoodDeckSF        1.539792\n",
       "TotalBsmtSF       1.522688\n",
       "MSSubClass        1.406210\n",
       "1stFlrSF          1.375342\n",
       "GrLivArea         1.365156\n",
       "dtype: float64"
      ]
     },
     "execution_count": 55,
     "metadata": {},
     "output_type": "execute_result"
    }
   ],
   "source": [
    "skew_features_top.sort_values(ascending=False)"
   ]
  },
  {
   "cell_type": "markdown",
   "metadata": {},
   "source": [
    "- 숫자가 높을수록 왼쪽으로 쏠림 정도가 심하다\n",
    "- 왜곡이 심한 애들 -> 로그 변환"
   ]
  },
  {
   "cell_type": "code",
   "execution_count": 59,
   "metadata": {},
   "outputs": [
    {
     "data": {
      "text/plain": [
       "MSSubClass        0.248997\n",
       "LotFrontage      -0.891977\n",
       "LotArea          -0.137404\n",
       "MasVnrArea        0.481120\n",
       "BsmtFinSF1       -0.618410\n",
       "BsmtFinSF2        2.523694\n",
       "TotalBsmtSF      -5.154670\n",
       "1stFlrSF          0.080114\n",
       "LowQualFinSF      7.460317\n",
       "GrLivArea        -0.006140\n",
       "BsmtHalfBath      3.933064\n",
       "KitchenAbvGr      3.869414\n",
       "WoodDeckSF        0.153537\n",
       "OpenPorchSF      -0.023397\n",
       "EnclosedPorch     2.112275\n",
       "3SsnPorch         7.734975\n",
       "ScreenPorch       3.150409\n",
       "PoolArea         14.363102\n",
       "MiscVal           5.170704\n",
       "dtype: float64"
      ]
     },
     "execution_count": 59,
     "metadata": {},
     "output_type": "execute_result"
    }
   ],
   "source": [
    "# 로그 변환\n",
    "skew_features_log = np.log1p(house_df[skew_features_top.index])\n",
    "skew_features_log.skew()\n",
    "#로그 처리한 후 skew() 줄어듬 확인"
   ]
  },
  {
   "cell_type": "code",
   "execution_count": 60,
   "metadata": {},
   "outputs": [],
   "source": [
    "# 원래 df에 로그변환한 애들로 치환하기\n",
    "house_df[skew_features_top.index] = skew_features_log"
   ]
  },
  {
   "cell_type": "markdown",
   "metadata": {},
   "source": [
    "- 이제 숫자형 데이터는 로그변환하여 왜곡도 보정 완료 (답인 salesprice 까지 로그처리되었음을 인지!)\n",
    "- 보정된 데이터로 원핫인코딩하기"
   ]
  },
  {
   "cell_type": "code",
   "execution_count": 63,
   "metadata": {},
   "outputs": [
    {
     "name": "stdout",
     "output_type": "stream",
     "text": [
      "<class 'pandas.core.frame.DataFrame'>\n",
      "RangeIndex: 1460 entries, 0 to 1459\n",
      "Columns: 271 entries, MSSubClass to SaleCondition_Partial\n",
      "dtypes: float64(21), int64(16), uint8(234)\n",
      "memory usage: 755.8 KB\n"
     ]
    }
   ],
   "source": [
    "# house_df => 원핫인코딩하기(컬럼 파라미터 따로 지정해주지 않으면, obj 타입만 원핫 인코딩 적용됨)\n",
    "house_df_ohe = pd.get_dummies(house_df)\n",
    "house_df_ohe.info()\n",
    "# 전처리 완료(로그변환, 원핫인코딩(카테고라이징 + 자동 Null 제거))"
   ]
  },
  {
   "cell_type": "code",
   "execution_count": 64,
   "metadata": {},
   "outputs": [],
   "source": [
    "# 데이터/답 분리\n",
    "y_target = house_df_ohe['SalePrice']\n",
    "X_features = house_df_ohe.drop('SalePrice', axis=1, inplace=False)\n",
    "\n",
    "# 학습/ 테스트 데이터 분리\n",
    "X_train, X_test, y_train, y_test = train_test_split(\n",
    "    X_features, y_target, test_size=0.3, random_state=0\n",
    ")"
   ]
  },
  {
   "cell_type": "code",
   "execution_count": 68,
   "metadata": {},
   "outputs": [],
   "source": [
    "# 학습 \n",
    "# 모델 객체 생성: Ridge, Lasso\n",
    "# 하이퍼 파라미터 튜닝 : alpha\n",
    "lr_reg = LinearRegression()\n",
    "ridge_reg = Ridge()\n",
    "lasso_reg = Lasso()\n",
    "\n",
    "ridge_params = { 'alpha':[0.05, 0.1, 1, 5, 8, 10, 12, 15, 20] }\n",
    "lasso_params = { 'alpha':[0.001, 0.005, 0.008, 0.05, 0.03, 0.1, 0.5, 1,5, 10] }"
   ]
  },
  {
   "cell_type": "code",
   "execution_count": 72,
   "metadata": {},
   "outputs": [],
   "source": [
    "def get_best_estimator(model, params_p):\n",
    "    grid_model = GridSearchCV(\n",
    "        model, param_grid=params_p, scoring='neg_mean_squared_error', cv=5\n",
    "    )\n",
    "    grid_model.fit(X_features, y_target)  # 베스트 리턴\n",
    "    rmse = np.sqrt(-1 * grid_model.best_score_)\n",
    "    out_str = '{0} 5 CV 시 최적 평균 RMSE 값 : {1}, 최적 alpha:{2}'\n",
    "    print(out_str.format(model.__class__.__name__, np.round(rmse, 4), grid_model.best_params_))\n",
    "    return grid_model.best_estimator_"
   ]
  },
  {
   "cell_type": "code",
   "execution_count": 73,
   "metadata": {},
   "outputs": [
    {
     "name": "stdout",
     "output_type": "stream",
     "text": [
      "Ridge 5 CV 시 최적 평균 RMSE 값 : 0.1275, 최적 alpha:{'alpha': 10}\n",
      "Lasso 5 CV 시 최적 평균 RMSE 값 : 0.1252, 최적 alpha:{'alpha': 0.001}\n"
     ]
    }
   ],
   "source": [
    "# 성능 평가 get_best_estimator(model, params_p):\n",
    "\n",
    "best_ridge = get_best_estimator(ridge_reg, ridge_params)\n",
    "best_lasso = get_best_estimator(lasso_reg, lasso_params)"
   ]
  },
  {
   "cell_type": "markdown",
   "metadata": {},
   "source": [
    "- 로그 처리한후 학습시킨 모델의 성능이 더 향상되었다."
   ]
  },
  {
   "cell_type": "code",
   "execution_count": null,
   "metadata": {},
   "outputs": [],
   "source": [
    "# 단일 모델 처리 함수\n",
    "# 파라미터 model : 이미 fitting 된 모델\n",
    "def get_rmse(model):\n",
    "    pred = model.predict(X_test)\n",
    "    mse = mean_squared_error(y_test, pred)\n",
    "    rmse = np.sqrt(mse)\n",
    "    out_str = '{0} 로그 변환된 RMSE: {1}'\n",
    "    print(out_str.format(model.__class__.__name__, np.round(rmse,3)))\n",
    "    \n",
    "    return rmse\n",
    "\n",
    "# 다중 모델 처리 함수\n",
    "def get_rmses(models):\n",
    "    rmses =[]\n",
    "    for model in models:\n",
    "        rmse = get_rmse(model)\n",
    "        rmses.append(rmse)\n",
    "    return rmses"
   ]
  },
  {
   "cell_type": "code",
   "execution_count": 74,
   "metadata": {},
   "outputs": [
    {
     "name": "stdout",
     "output_type": "stream",
     "text": [
      "LinearRegression 로그 변환된 RMSE: 0.17\n",
      "Ridge 로그 변환된 RMSE: 0.137\n",
      "Lasso 로그 변환된 RMSE: 0.133\n"
     ]
    },
    {
     "data": {
      "text/plain": [
       "[0.17006116990369377, 0.13653127970065895, 0.13318053764688703]"
      ]
     },
     "execution_count": 74,
     "metadata": {},
     "output_type": "execute_result"
    }
   ],
   "source": [
    "# get_rmses function : 여러개 모델(피팅 완료된) 입력, 각 모델의 RMSE 값 출력하는 함수\n",
    "# parameter : models \n",
    "# models : lr_reg, ridge_reg, lasso_reg\n",
    "\n",
    "# 모델 객체 생성\n",
    "lr_reg = LinearRegression()\n",
    "lr_reg.fit(X_train, y_train)\n",
    "ridge_reg = Ridge(alpha=10)\n",
    "ridge_reg.fit(X_train, y_train)\n",
    "lasso_reg = Lasso(alpha=0.001)\n",
    "lasso_reg.fit(X_train, y_train)\n",
    "\n",
    "models =[lr_reg, ridge_reg, lasso_reg]\n",
    "\n",
    "# 함수 사용하여 RMSE 값 출력\n",
    "get_rmses(models)\n"
   ]
  },
  {
   "cell_type": "code",
   "execution_count": 77,
   "metadata": {},
   "outputs": [
    {
     "data": {
      "text/plain": [
       "0.4386911349411564"
      ]
     },
     "execution_count": 77,
     "metadata": {},
     "output_type": "execute_result"
    }
   ],
   "source": [
    "y_test.skew()"
   ]
  },
  {
   "cell_type": "markdown",
   "metadata": {},
   "source": [
    "### 이상치 처리"
   ]
  },
  {
   "cell_type": "code",
   "execution_count": 92,
   "metadata": {},
   "outputs": [
    {
     "data": {
      "image/png": "[encoded data removed]",
      "text/plain": [
       "<Figure size 432x288 with 1 Axes>"
      ]
     },
     "metadata": {
      "needs_background": "light"
     },
     "output_type": "display_data"
    }
   ],
   "source": [
    "# 전체 데이터 이상치 처리 \n",
    "# 가격 상관관계가 높은 피처 : GrLivArea: Above grade (ground) living area square feet\n",
    "# 원데이터(house_df_org)의 데이터 분포 산점도로 확인\n",
    "plt.scatter(house_df_org['GrLivArea']\n",
    "            , house_df_org['SalePrice'], c = 'darkblue' \n",
    "           )\n",
    "plt.xlabel('Grade Living Area')\n",
    "plt.ylabel('Sale Price')\n",
    "\n",
    "plt.show()"
   ]
  },
  {
   "cell_type": "markdown",
   "metadata": {},
   "source": [
    "- 위에서 이상치 포인트 시각적으로 확인-> 이상치 처리할 범위를 가늠할수 있다\n",
    "- condition 1. GrLivArea > 4000 \n",
    "- condition 2. SalePrice < 500000\n",
    "\n",
    "위 조건에 해당하면 이상치"
   ]
  },
  {
   "cell_type": "code",
   "execution_count": 95,
   "metadata": {},
   "outputs": [
    {
     "data": {
      "text/plain": [
       "Int64Index([523, 1298], dtype='int64')"
      ]
     },
     "execution_count": 95,
     "metadata": {},
     "output_type": "execute_result"
    }
   ],
   "source": [
    "# GrLivArea, SalePrice 조건 생성\n",
    "# cond1 => GrLivArea 조건, cond2 : SalePrice조건\n",
    "cond1 = house_df_ohe['GrLivArea']> np.log1p(4000)\n",
    "cond2 = house_df_ohe['SalePrice']< np.log1p(500000)\n",
    "\n",
    "# 이상치의 로우인덱스 추출\n",
    "outlier_index = house_df_ohe[cond1 & cond2].index\n",
    "outlier_index"
   ]
  },
  {
   "cell_type": "code",
   "execution_count": 97,
   "metadata": {},
   "outputs": [
    {
     "data": {
      "text/plain": [
       "GrLivArea      4676\n",
       "SalePrice    184750\n",
       "Name: 523, dtype: object"
      ]
     },
     "execution_count": 97,
     "metadata": {},
     "output_type": "execute_result"
    }
   ],
   "source": [
    "house_df_org.iloc[523, :][['GrLivArea','SalePrice']]"
   ]
  },
  {
   "cell_type": "code",
   "execution_count": 98,
   "metadata": {},
   "outputs": [
    {
     "data": {
      "text/plain": [
       "GrLivArea      5642\n",
       "SalePrice    160000\n",
       "Name: 1298, dtype: object"
      ]
     },
     "execution_count": 98,
     "metadata": {},
     "output_type": "execute_result"
    }
   ],
   "source": [
    "house_df_org.iloc[1298, :][['GrLivArea','SalePrice']]"
   ]
  },
  {
   "cell_type": "code",
   "execution_count": 99,
   "metadata": {},
   "outputs": [
    {
     "name": "stdout",
     "output_type": "stream",
     "text": [
      "이상치 삭제전 데이터 shape: (1460, 271)\n",
      "이상치 삭제 후 데이터 shape: (1458, 271)\n"
     ]
    }
   ],
   "source": [
    "print('이상치 삭제전 데이터 shape:', house_df_ohe.shape)\n",
    "\n",
    "house_df_ohe.drop(outlier_index, axis=0, inplace=True)\n",
    "\n",
    "print('이상치 삭제 후 데이터 shape:', house_df_ohe.shape)"
   ]
  },
  {
   "cell_type": "code",
   "execution_count": 100,
   "metadata": {},
   "outputs": [],
   "source": [
    "# 바뀐 데이터 / 답 분리\n",
    "y_target = house_df_ohe['SalePrice']\n",
    "X_features = house_df_ohe.drop('SalePrice', axis=1, inplace=False)\n",
    "\n",
    "# 학습/테스트 데이터 분리\n",
    "X_train, X_test, y_train, y_test = train_test_split(\n",
    "    X_features, y_target, test_size=0.3, random_state=0\n",
    ")"
   ]
  },
  {
   "cell_type": "code",
   "execution_count": 101,
   "metadata": {},
   "outputs": [
    {
     "name": "stdout",
     "output_type": "stream",
     "text": [
      "Ridge 5 CV 시 최적 평균 RMSE 값 : 0.1125, 최적 alpha:{'alpha': 8}\n",
      "Lasso 5 CV 시 최적 평균 RMSE 값 : 0.1122, 최적 alpha:{'alpha': 0.001}\n"
     ]
    }
   ],
   "source": [
    "# 학습 \n",
    "# 모델 객체 생성: Ridge, Lasso\n",
    "# 하이퍼 파라미터 튜닝 : alpha\n",
    "ridge_reg = Ridge()\n",
    "lasso_reg = Lasso()\n",
    "\n",
    "ridge_params = { 'alpha':[0.05, 0.1, 1, 5, 8, 10, 12, 15, 20] }\n",
    "lasso_params = { 'alpha':[0.001, 0.005, 0.008, 0.05, 0.03, 0.1, 0.5, 1,5, 10] }\n",
    "\n",
    "# 성능 평가 get_best_estimator(model, params_p):\n",
    "best_ridge = get_best_estimator(ridge_reg, ridge_params)\n",
    "best_lasso = get_best_estimator(lasso_reg, lasso_params)"
   ]
  },
  {
   "cell_type": "code",
   "execution_count": 102,
   "metadata": {},
   "outputs": [
    {
     "name": "stdout",
     "output_type": "stream",
     "text": [
      "LinearRegression 로그 변환된 RMSE: 0.12\n",
      "Ridge 로그 변환된 RMSE: 0.111\n",
      "Lasso 로그 변환된 RMSE: 0.109\n"
     ]
    },
    {
     "data": {
      "text/plain": [
       "[0.11981529787948779, 0.11119887669130378, 0.1085925992784495]"
      ]
     },
     "execution_count": 102,
     "metadata": {},
     "output_type": "execute_result"
    }
   ],
   "source": [
    "# get_rmses function : 여러개 모델(피팅 완료된) 입력, 각 모델의 RMSE 값 출력하는 함수\n",
    "# parameter : models \n",
    "# models : lr_reg, ridge_reg, lasso_reg\n",
    "\n",
    "# 모델 객체 생성\n",
    "lr_reg = LinearRegression()\n",
    "lr_reg.fit(X_train, y_train)\n",
    "ridge_reg = Ridge(alpha=8)\n",
    "ridge_reg.fit(X_train, y_train)\n",
    "lasso_reg = Lasso(alpha=0.001)\n",
    "lasso_reg.fit(X_train, y_train)\n",
    "\n",
    "models =[lr_reg, ridge_reg, lasso_reg]\n",
    "\n",
    "# 함수 사용하여 RMSE 값 출력\n",
    "get_rmses(models)"
   ]
  },
  {
   "cell_type": "markdown",
   "metadata": {},
   "source": [
    "이상치 처리하기 전\n",
    "- LinearRegression 로그 변환된 RMSE: 0.17\n",
    "- Ridge 로그 변환된 RMSE: 0.137\n",
    "- Lasso 로그 변환된 RMSE: 0.133\n",
    "[0.17006116990369377, 0.13653127970065895, 0.13318053764688703]\n",
    "\n",
    "\n",
    "- 이전 결과 대비 성능 향상 큼 -> 이상치의 영향도가 매우 큼을 알수있음(이상치를 가지는 단 2개의 데이터만 지워도 성능향상이 크다)\n"
   ]
  },
  {
   "cell_type": "markdown",
   "metadata": {},
   "source": [
    "### 지금까지는 기본적인 회귀모델인 Linear Regression, Ridge, Lasso 알고리즘으로만 예측했다\n",
    "### 추가적인 성능향상을 위해 앙상블(트리계열 회귀) 알고리즘을 적용해보겠다 p.370~"
   ]
  },
  {
   "cell_type": "code",
   "execution_count": 103,
   "metadata": {},
   "outputs": [],
   "source": [
    "# 앙상블 (트리계열) 회귀 트리 적용\n",
    "from xgboost import XGBRegressor\n",
    "from lightgbm import LGBMRegressor"
   ]
  },
  {
   "cell_type": "code",
   "execution_count": 104,
   "metadata": {},
   "outputs": [
    {
     "name": "stdout",
     "output_type": "stream",
     "text": [
      "[12:19:19] WARNING: src/objective/regression_obj.cu:152: reg:linear is now deprecated in favor of reg:squarederror.\n",
      "[12:19:22] WARNING: src/objective/regression_obj.cu:152: reg:linear is now deprecated in favor of reg:squarederror.\n",
      "[12:19:26] WARNING: src/objective/regression_obj.cu:152: reg:linear is now deprecated in favor of reg:squarederror.\n",
      "[12:19:29] WARNING: src/objective/regression_obj.cu:152: reg:linear is now deprecated in favor of reg:squarederror.\n",
      "[12:19:33] WARNING: src/objective/regression_obj.cu:152: reg:linear is now deprecated in favor of reg:squarederror.\n",
      "[12:19:36] WARNING: src/objective/regression_obj.cu:152: reg:linear is now deprecated in favor of reg:squarederror.\n",
      "XGBRegressor 5 CV 시 최적 평균 RMSE 값 : 0.115, 최적 alpha:{'n_estimators': 1000}\n"
     ]
    },
    {
     "data": {
      "text/plain": [
       "XGBRegressor(colsample_bytree=0.5, learning_rate=0.05, n_estimators=1000,\n",
       "             subsample=0.8)"
      ]
     },
     "execution_count": 104,
     "metadata": {},
     "output_type": "execute_result"
    }
   ],
   "source": [
    "# get_best_estimator(model, params_p) 사용: gridsearchCV 사용된 함수다.\n",
    "# 출력 : RMSE를 출력하고, return 으로 best 모델을 반환하다.\n",
    "\n",
    "xgb_param = {\n",
    "     'n_estimators' :[1000]\n",
    "}\n",
    "\n",
    "xgb_reg = XGBRegressor(\n",
    "    n_estimators=1000\n",
    "    , learning_rate=0.05\n",
    "    , colsample_bytree=0.5  # 50% 의 컬럼만 갖다 쓴다.column 단위 (오버피팅 방지)\n",
    "    , subsample=0.8    # 총 데이터에서 80% 만 갖다 쓴다.row 단위 (오버피팅 방지)\n",
    ")\n",
    "\n",
    "best_xgb = get_best_estimator(xgb_reg,xgb_param)\n",
    "best_xgb"
   ]
  },
  {
   "cell_type": "code",
   "execution_count": 105,
   "metadata": {},
   "outputs": [
    {
     "name": "stdout",
     "output_type": "stream",
     "text": [
      "LGBMRegressor 5 CV 시 최적 평균 RMSE 값 : 0.1163, 최적 alpha:{'n_estimators': 1000}\n"
     ]
    }
   ],
   "source": [
    "#LGBM 확인\n",
    "lgbm_param = { 'n_estimators':[1000]\n",
    "}\n",
    "\n",
    "lgbm_reg = LGBMRegressor(\n",
    "    n_estimators=1000\n",
    "    , learning_rate=0.05\n",
    "    , num_leaves=4   # lgbm 은 균등분할 방식이 아니므로, num_leaves 이 중요\n",
    "    , subsample=0.6\n",
    "    , colsample_bytree=0.4\n",
    "    , reg_lambda=10\n",
    "    , n_jobs= -1\n",
    ")\n",
    "\n",
    "best_lgbm = get_best_estimator(lgbm_reg, lgbm_param)"
   ]
  },
  {
   "cell_type": "code",
   "execution_count": null,
   "metadata": {},
   "outputs": [],
   "source": [
    "def get_best_estimator(model, params_p):\n",
    "    grid_model = GridSearchCV(\n",
    "        model, param_grid=params_p, scoring='neg_mean_squared_error', cv=5\n",
    "    )\n",
    "    grid_model.fit(X_features, y_target)  # 베스트 리턴\n",
    "    rmse = np.sqrt(-1 * grid_model.best_score_)\n",
    "    out_str = '{0} 5 CV 시 최적 평균 RMSE 값 : {1}, 최적 alpha:{2}'\n",
    "    print(out_str.format(model.__class__.__name__, np.round(rmse, 4), grid_model.best_params_))\n",
    "    return grid_model.best_estimator_"
   ]
  },
  {
   "cell_type": "code",
   "execution_count": 147,
   "metadata": {},
   "outputs": [
    {
     "data": {
      "text/plain": [
       "<zip at 0x223f9bb1508>"
      ]
     },
     "execution_count": 147,
     "metadata": {},
     "output_type": "execute_result"
    }
   ],
   "source": [
    "best_ = zip(best_lgbm.feature_importances_, best_lgbm.feature_name_)\n",
    "best_"
   ]
  },
  {
   "cell_type": "code",
   "execution_count": 148,
   "metadata": {
    "collapsed": true
   },
   "outputs": [
    {
     "data": {
      "text/plain": [
       "[(19, 'MSSubClass'),\n",
       " (78, 'LotFrontage'),\n",
       " (162, 'LotArea'),\n",
       " (174, 'OverallQual'),\n",
       " (113, 'OverallCond'),\n",
       " (134, 'YearBuilt'),\n",
       " (59, 'YearRemodAdd'),\n",
       " (18, 'MasVnrArea'),\n",
       " (84, 'BsmtFinSF1'),\n",
       " (21, 'BsmtFinSF2'),\n",
       " (47, 'BsmtUnfSF'),\n",
       " (133, 'TotalBsmtSF'),\n",
       " (113, '1stFlrSF'),\n",
       " (48, '2ndFlrSF'),\n",
       " (12, 'LowQualFinSF'),\n",
       " (165, 'GrLivArea'),\n",
       " (16, 'BsmtFullBath'),\n",
       " (0, 'BsmtHalfBath'),\n",
       " (27, 'FullBath'),\n",
       " (12, 'HalfBath'),\n",
       " (15, 'BedroomAbvGr'),\n",
       " (40, 'KitchenAbvGr'),\n",
       " (16, 'TotRmsAbvGrd'),\n",
       " (24, 'Fireplaces'),\n",
       " (112, 'GarageYrBlt'),\n",
       " (22, 'GarageCars'),\n",
       " (100, 'GarageArea'),\n",
       " (48, 'WoodDeckSF'),\n",
       " (50, 'OpenPorchSF'),\n",
       " (81, 'EnclosedPorch'),\n",
       " (12, '3SsnPorch'),\n",
       " (41, 'ScreenPorch'),\n",
       " (0, 'PoolArea'),\n",
       " (1, 'MiscVal'),\n",
       " (52, 'MoSold'),\n",
       " (45, 'YrSold'),\n",
       " (0, 'MSZoning_C_(all)'),\n",
       " (20, 'MSZoning_FV'),\n",
       " (0, 'MSZoning_RH'),\n",
       " (13, 'MSZoning_RL'),\n",
       " (4, 'MSZoning_RM'),\n",
       " (0, 'Street_Grvl'),\n",
       " (0, 'Street_Pave'),\n",
       " (2, 'LotShape_IR1'),\n",
       " (1, 'LotShape_IR2'),\n",
       " (0, 'LotShape_IR3'),\n",
       " (6, 'LotShape_Reg'),\n",
       " (0, 'LandContour_Bnk'),\n",
       " (0, 'LandContour_HLS'),\n",
       " (0, 'LandContour_Low'),\n",
       " (2, 'LandContour_Lvl'),\n",
       " (0, 'Utilities_AllPub'),\n",
       " (0, 'Utilities_NoSeWa'),\n",
       " (20, 'LotConfig_Corner'),\n",
       " (29, 'LotConfig_CulDSac'),\n",
       " (10, 'LotConfig_FR2'),\n",
       " (0, 'LotConfig_FR3'),\n",
       " (3, 'LotConfig_Inside'),\n",
       " (0, 'LandSlope_Gtl'),\n",
       " (1, 'LandSlope_Mod'),\n",
       " (0, 'LandSlope_Sev'),\n",
       " (0, 'Neighborhood_Blmngtn'),\n",
       " (0, 'Neighborhood_Blueste'),\n",
       " (0, 'Neighborhood_BrDale'),\n",
       " (28, 'Neighborhood_BrkSide'),\n",
       " (15, 'Neighborhood_ClearCr'),\n",
       " (0, 'Neighborhood_CollgCr'),\n",
       " (34, 'Neighborhood_Crawfor'),\n",
       " (13, 'Neighborhood_Edwards'),\n",
       " (0, 'Neighborhood_Gilbert'),\n",
       " (15, 'Neighborhood_IDOTRR'),\n",
       " (0, 'Neighborhood_MeadowV'),\n",
       " (13, 'Neighborhood_Mitchel'),\n",
       " (4, 'Neighborhood_NAmes'),\n",
       " (0, 'Neighborhood_NPkVill'),\n",
       " (2, 'Neighborhood_NWAmes'),\n",
       " (17, 'Neighborhood_NoRidge'),\n",
       " (4, 'Neighborhood_NridgHt'),\n",
       " (8, 'Neighborhood_OldTown'),\n",
       " (0, 'Neighborhood_SWISU'),\n",
       " (1, 'Neighborhood_Sawyer'),\n",
       " (0, 'Neighborhood_SawyerW'),\n",
       " (1, 'Neighborhood_Somerst'),\n",
       " (34, 'Neighborhood_StoneBr'),\n",
       " (0, 'Neighborhood_Timber'),\n",
       " (0, 'Neighborhood_Veenker'),\n",
       " (19, 'Condition1_Artery'),\n",
       " (0, 'Condition1_Feedr'),\n",
       " (28, 'Condition1_Norm'),\n",
       " (0, 'Condition1_PosA'),\n",
       " (0, 'Condition1_PosN'),\n",
       " (0, 'Condition1_RRAe'),\n",
       " (0, 'Condition1_RRAn'),\n",
       " (0, 'Condition1_RRNe'),\n",
       " (0, 'Condition1_RRNn'),\n",
       " (0, 'Condition2_Artery'),\n",
       " (0, 'Condition2_Feedr'),\n",
       " (0, 'Condition2_Norm'),\n",
       " (0, 'Condition2_PosA'),\n",
       " (0, 'Condition2_PosN'),\n",
       " (0, 'Condition2_RRAe'),\n",
       " (0, 'Condition2_RRAn'),\n",
       " (0, 'Condition2_RRNn'),\n",
       " (0, 'BldgType_1Fam'),\n",
       " (0, 'BldgType_2fmCon'),\n",
       " (0, 'BldgType_Duplex'),\n",
       " (0, 'BldgType_Twnhs'),\n",
       " (0, 'BldgType_TwnhsE'),\n",
       " (4, 'HouseStyle_1.5Fin'),\n",
       " (0, 'HouseStyle_1.5Unf'),\n",
       " (15, 'HouseStyle_1Story'),\n",
       " (0, 'HouseStyle_2.5Fin'),\n",
       " (0, 'HouseStyle_2.5Unf'),\n",
       " (0, 'HouseStyle_2Story'),\n",
       " (0, 'HouseStyle_SFoyer'),\n",
       " (9, 'HouseStyle_SLvl'),\n",
       " (0, 'RoofStyle_Flat'),\n",
       " (1, 'RoofStyle_Gable'),\n",
       " (0, 'RoofStyle_Gambrel'),\n",
       " (1, 'RoofStyle_Hip'),\n",
       " (0, 'RoofStyle_Mansard'),\n",
       " (0, 'RoofStyle_Shed'),\n",
       " (0, 'RoofMatl_ClyTile'),\n",
       " (1, 'RoofMatl_CompShg'),\n",
       " (0, 'RoofMatl_Membran'),\n",
       " (0, 'RoofMatl_Metal'),\n",
       " (0, 'RoofMatl_Roll'),\n",
       " (0, 'RoofMatl_Tar&Grv'),\n",
       " (0, 'RoofMatl_WdShake'),\n",
       " (0, 'RoofMatl_WdShngl'),\n",
       " (0, 'Exterior1st_AsbShng'),\n",
       " (0, 'Exterior1st_AsphShn'),\n",
       " (0, 'Exterior1st_BrkComm'),\n",
       " (35, 'Exterior1st_BrkFace'),\n",
       " (0, 'Exterior1st_CBlock'),\n",
       " (0, 'Exterior1st_CemntBd'),\n",
       " (1, 'Exterior1st_HdBoard'),\n",
       " (0, 'Exterior1st_ImStucc'),\n",
       " (8, 'Exterior1st_MetalSd'),\n",
       " (3, 'Exterior1st_Plywood'),\n",
       " (0, 'Exterior1st_Stone'),\n",
       " (0, 'Exterior1st_Stucco'),\n",
       " (1, 'Exterior1st_VinylSd'),\n",
       " (16, 'Exterior1st_Wd_Sdng'),\n",
       " (0, 'Exterior1st_WdShing'),\n",
       " (0, 'Exterior2nd_AsbShng'),\n",
       " (0, 'Exterior2nd_AsphShn'),\n",
       " (0, 'Exterior2nd_Brk_Cmn'),\n",
       " (0, 'Exterior2nd_BrkFace'),\n",
       " (0, 'Exterior2nd_CBlock'),\n",
       " (0, 'Exterior2nd_CmentBd'),\n",
       " (0, 'Exterior2nd_HdBoard'),\n",
       " (0, 'Exterior2nd_ImStucc'),\n",
       " (1, 'Exterior2nd_MetalSd'),\n",
       " (0, 'Exterior2nd_Other'),\n",
       " (1, 'Exterior2nd_Plywood'),\n",
       " (0, 'Exterior2nd_Stone'),\n",
       " (12, 'Exterior2nd_Stucco'),\n",
       " (0, 'Exterior2nd_VinylSd'),\n",
       " (0, 'Exterior2nd_Wd_Sdng'),\n",
       " (0, 'Exterior2nd_Wd_Shng'),\n",
       " (0, 'MasVnrType_BrkCmn'),\n",
       " (1, 'MasVnrType_BrkFace'),\n",
       " (0, 'MasVnrType_None'),\n",
       " (1, 'MasVnrType_Stone'),\n",
       " (0, 'ExterQual_Ex'),\n",
       " (0, 'ExterQual_Fa'),\n",
       " (2, 'ExterQual_Gd'),\n",
       " (5, 'ExterQual_TA'),\n",
       " (0, 'ExterCond_Ex'),\n",
       " (11, 'ExterCond_Fa'),\n",
       " (3, 'ExterCond_Gd'),\n",
       " (0, 'ExterCond_Po'),\n",
       " (12, 'ExterCond_TA'),\n",
       " (12, 'Foundation_BrkTil'),\n",
       " (1, 'Foundation_CBlock'),\n",
       " (11, 'Foundation_PConc'),\n",
       " (0, 'Foundation_Slab'),\n",
       " (0, 'Foundation_Stone'),\n",
       " (0, 'Foundation_Wood'),\n",
       " (4, 'BsmtQual_Ex'),\n",
       " (9, 'BsmtQual_Fa'),\n",
       " (1, 'BsmtQual_Gd'),\n",
       " (0, 'BsmtQual_TA'),\n",
       " (11, 'BsmtCond_Fa'),\n",
       " (0, 'BsmtCond_Gd'),\n",
       " (0, 'BsmtCond_Po'),\n",
       " (0, 'BsmtCond_TA'),\n",
       " (0, 'BsmtExposure_Av'),\n",
       " (16, 'BsmtExposure_Gd'),\n",
       " (0, 'BsmtExposure_Mn'),\n",
       " (15, 'BsmtExposure_No'),\n",
       " (24, 'BsmtFinType1_ALQ'),\n",
       " (0, 'BsmtFinType1_BLQ'),\n",
       " (4, 'BsmtFinType1_GLQ'),\n",
       " (0, 'BsmtFinType1_LwQ'),\n",
       " (2, 'BsmtFinType1_Rec'),\n",
       " (7, 'BsmtFinType1_Unf'),\n",
       " (0, 'BsmtFinType2_ALQ'),\n",
       " (7, 'BsmtFinType2_BLQ'),\n",
       " (0, 'BsmtFinType2_GLQ'),\n",
       " (0, 'BsmtFinType2_LwQ'),\n",
       " (0, 'BsmtFinType2_Rec'),\n",
       " (0, 'BsmtFinType2_Unf'),\n",
       " (0, 'Heating_Floor'),\n",
       " (0, 'Heating_GasA'),\n",
       " (0, 'Heating_GasW'),\n",
       " (0, 'Heating_Grav'),\n",
       " (0, 'Heating_OthW'),\n",
       " (0, 'Heating_Wall'),\n",
       " (10, 'HeatingQC_Ex'),\n",
       " (0, 'HeatingQC_Fa'),\n",
       " (0, 'HeatingQC_Gd'),\n",
       " (0, 'HeatingQC_Po'),\n",
       " (3, 'HeatingQC_TA'),\n",
       " (24, 'CentralAir_N'),\n",
       " (13, 'CentralAir_Y'),\n",
       " (1, 'Electrical_FuseA'),\n",
       " (5, 'Electrical_FuseF'),\n",
       " (0, 'Electrical_FuseP'),\n",
       " (0, 'Electrical_Mix'),\n",
       " (4, 'Electrical_SBrkr'),\n",
       " (9, 'KitchenQual_Ex'),\n",
       " (2, 'KitchenQual_Fa'),\n",
       " (12, 'KitchenQual_Gd'),\n",
       " (2, 'KitchenQual_TA'),\n",
       " (0, 'Functional_Maj1'),\n",
       " (0, 'Functional_Maj2'),\n",
       " (1, 'Functional_Min1'),\n",
       " (3, 'Functional_Min2'),\n",
       " (0, 'Functional_Mod'),\n",
       " (0, 'Functional_Sev'),\n",
       " (39, 'Functional_Typ'),\n",
       " (0, 'GarageType_2Types'),\n",
       " (8, 'GarageType_Attchd'),\n",
       " (0, 'GarageType_Basment'),\n",
       " (0, 'GarageType_BuiltIn'),\n",
       " (0, 'GarageType_CarPort'),\n",
       " (21, 'GarageType_Detchd'),\n",
       " (4, 'GarageFinish_Fin'),\n",
       " (4, 'GarageFinish_RFn'),\n",
       " (7, 'GarageFinish_Unf'),\n",
       " (0, 'GarageQual_Ex'),\n",
       " (1, 'GarageQual_Fa'),\n",
       " (0, 'GarageQual_Gd'),\n",
       " (0, 'GarageQual_Po'),\n",
       " (0, 'GarageQual_TA'),\n",
       " (0, 'GarageCond_Ex'),\n",
       " (0, 'GarageCond_Fa'),\n",
       " (0, 'GarageCond_Gd'),\n",
       " (0, 'GarageCond_Po'),\n",
       " (16, 'GarageCond_TA'),\n",
       " (6, 'PavedDrive_N'),\n",
       " (0, 'PavedDrive_P'),\n",
       " (10, 'PavedDrive_Y'),\n",
       " (0, 'SaleType_COD'),\n",
       " (0, 'SaleType_CWD'),\n",
       " (0, 'SaleType_Con'),\n",
       " (0, 'SaleType_ConLD'),\n",
       " (0, 'SaleType_ConLI'),\n",
       " (0, 'SaleType_ConLw'),\n",
       " (10, 'SaleType_New'),\n",
       " (0, 'SaleType_Oth'),\n",
       " (8, 'SaleType_WD'),\n",
       " (25, 'SaleCondition_Abnorml'),\n",
       " (0, 'SaleCondition_AdjLand'),\n",
       " (0, 'SaleCondition_Alloca'),\n",
       " (19, 'SaleCondition_Family'),\n",
       " (18, 'SaleCondition_Normal'),\n",
       " (6, 'SaleCondition_Partial')]"
      ]
     },
     "execution_count": 148,
     "metadata": {},
     "output_type": "execute_result"
    }
   ],
   "source": [
    "a = list(best_)"
   ]
  },
  {
   "cell_type": "code",
   "execution_count": 156,
   "metadata": {
    "collapsed": true
   },
   "outputs": [
    {
     "data": {
      "text/plain": [
       "[(174, 'OverallQual'),\n",
       " (165, 'GrLivArea'),\n",
       " (162, 'LotArea'),\n",
       " (134, 'YearBuilt'),\n",
       " (133, 'TotalBsmtSF'),\n",
       " (113, 'OverallCond'),\n",
       " (113, '1stFlrSF'),\n",
       " (112, 'GarageYrBlt'),\n",
       " (100, 'GarageArea'),\n",
       " (84, 'BsmtFinSF1'),\n",
       " (81, 'EnclosedPorch'),\n",
       " (78, 'LotFrontage'),\n",
       " (59, 'YearRemodAdd'),\n",
       " (52, 'MoSold'),\n",
       " (50, 'OpenPorchSF'),\n",
       " (48, '2ndFlrSF'),\n",
       " (48, 'WoodDeckSF'),\n",
       " (47, 'BsmtUnfSF'),\n",
       " (45, 'YrSold'),\n",
       " (41, 'ScreenPorch')]"
      ]
     },
     "execution_count": 156,
     "metadata": {},
     "output_type": "execute_result"
    }
   ],
   "source": [
    "b =sorted(a, key=lambda x : x[0], reverse=True)\n"
   ]
  },
  {
   "cell_type": "code",
   "execution_count": 162,
   "metadata": {},
   "outputs": [],
   "source": [
    "x = [i[0] for i in b]\n",
    "y = [i[1] for i in b]"
   ]
  },
  {
   "cell_type": "code",
   "execution_count": 163,
   "metadata": {},
   "outputs": [
    {
     "data": {
      "text/plain": [
       "<matplotlib.axes._subplots.AxesSubplot at 0x223facb9148>"
      ]
     },
     "execution_count": 163,
     "metadata": {},
     "output_type": "execute_result"
    },
    {
     "data": {
      "image/png": "[encoded data removed]",
      "text/plain": [
       "<Figure size 432x288 with 1 Axes>"
      ]
     },
     "metadata": {
      "needs_background": "light"
     },
     "output_type": "display_data"
    }
   ],
   "source": [
    "# 생성된 최적 lgbm 모델에서의 피처 중요도 시각화(상위 20개)ㅐ\n",
    "sns.barplot(x=x[:20], y = y[:20])"
   ]
  },
  {
   "cell_type": "markdown",
   "metadata": {},
   "source": [
    "## 혼합 모델의 성능 확인해보기 (책보고 해보기) p.371~"
   ]
  },
  {
   "cell_type": "code",
   "execution_count": null,
   "metadata": {},
   "outputs": [],
   "source": []
  },
  {
   "cell_type": "markdown",
   "metadata": {},
   "source": [
    "## 스태킹 모델을 통한 회귀 예측 (책보고 해보기)  p. 373~\n",
    "- 스태킹 모델은 분류뿐아니라 회귀에서 특히 효과적으로 사용된다"
   ]
  },
  {
   "cell_type": "code",
   "execution_count": null,
   "metadata": {},
   "outputs": [],
   "source": []
  }
 ],
 "metadata": {
  "kernelspec": {
   "display_name": "ml01-02",
   "language": "python",
   "name": "ml01-02"
  },
  "language_info": {
   "codemirror_mode": {
    "name": "ipython",
    "version": 3
   },
   "file_extension": ".py",
   "mimetype": "text/x-python",
   "name": "python",
   "nbconvert_exporter": "python",
   "pygments_lexer": "ipython3",
   "version": "3.7.7"
  }
 },
 "nbformat": 4,
 "nbformat_minor": 4
}
