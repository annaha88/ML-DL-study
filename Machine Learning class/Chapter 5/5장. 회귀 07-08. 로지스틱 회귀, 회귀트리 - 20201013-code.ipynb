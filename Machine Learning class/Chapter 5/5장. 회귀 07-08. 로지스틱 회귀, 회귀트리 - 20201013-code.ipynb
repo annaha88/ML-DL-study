{
 "cells": [
  {
   "cell_type": "markdown",
   "metadata": {},
   "source": [
    "## Logistic Regression"
   ]
  },
  {
   "cell_type": "code",
   "execution_count": 2,
   "metadata": {},
   "outputs": [],
   "source": [
    "import numpy as np\n",
    "import pandas as pd\n",
    "import matplotlib.pyplot as plt\n",
    "%matplotlib inline\n",
    "\n",
    "from sklearn.linear_model import LogisticRegression\n",
    "from sklearn.datasets import load_breast_cancer"
   ]
  },
  {
   "cell_type": "code",
   "execution_count": 3,
   "metadata": {},
   "outputs": [],
   "source": [
    "# 유방암 데이터 로딩\n",
    "cancer = load_breast_cancer()"
   ]
  },
  {
   "cell_type": "code",
   "execution_count": 5,
   "metadata": {
    "collapsed": true
   },
   "outputs": [
    {
     "data": {
      "text/plain": [
       "{'data': array([[1.799e+01, 1.038e+01, 1.228e+02, ..., 2.654e-01, 4.601e-01,\n",
       "         1.189e-01],\n",
       "        [2.057e+01, 1.777e+01, 1.329e+02, ..., 1.860e-01, 2.750e-01,\n",
       "         8.902e-02],\n",
       "        [1.969e+01, 2.125e+01, 1.300e+02, ..., 2.430e-01, 3.613e-01,\n",
       "         8.758e-02],\n",
       "        ...,\n",
       "        [1.660e+01, 2.808e+01, 1.083e+02, ..., 1.418e-01, 2.218e-01,\n",
       "         7.820e-02],\n",
       "        [2.060e+01, 2.933e+01, 1.401e+02, ..., 2.650e-01, 4.087e-01,\n",
       "         1.240e-01],\n",
       "        [7.760e+00, 2.454e+01, 4.792e+01, ..., 0.000e+00, 2.871e-01,\n",
       "         7.039e-02]]),\n",
       " 'target': array([0, 0, 0, 0, 0, 0, 0, 0, 0, 0, 0, 0, 0, 0, 0, 0, 0, 0, 0, 1, 1, 1,\n",
       "        0, 0, 0, 0, 0, 0, 0, 0, 0, 0, 0, 0, 0, 0, 0, 1, 0, 0, 0, 0, 0, 0,\n",
       "        0, 0, 1, 0, 1, 1, 1, 1, 1, 0, 0, 1, 0, 0, 1, 1, 1, 1, 0, 1, 0, 0,\n",
       "        1, 1, 1, 1, 0, 1, 0, 0, 1, 0, 1, 0, 0, 1, 1, 1, 0, 0, 1, 0, 0, 0,\n",
       "        1, 1, 1, 0, 1, 1, 0, 0, 1, 1, 1, 0, 0, 1, 1, 1, 1, 0, 1, 1, 0, 1,\n",
       "        1, 1, 1, 1, 1, 1, 1, 0, 0, 0, 1, 0, 0, 1, 1, 1, 0, 0, 1, 0, 1, 0,\n",
       "        0, 1, 0, 0, 1, 1, 0, 1, 1, 0, 1, 1, 1, 1, 0, 1, 1, 1, 1, 1, 1, 1,\n",
       "        1, 1, 0, 1, 1, 1, 1, 0, 0, 1, 0, 1, 1, 0, 0, 1, 1, 0, 0, 1, 1, 1,\n",
       "        1, 0, 1, 1, 0, 0, 0, 1, 0, 1, 0, 1, 1, 1, 0, 1, 1, 0, 0, 1, 0, 0,\n",
       "        0, 0, 1, 0, 0, 0, 1, 0, 1, 0, 1, 1, 0, 1, 0, 0, 0, 0, 1, 1, 0, 0,\n",
       "        1, 1, 1, 0, 1, 1, 1, 1, 1, 0, 0, 1, 1, 0, 1, 1, 0, 0, 1, 0, 1, 1,\n",
       "        1, 1, 0, 1, 1, 1, 1, 1, 0, 1, 0, 0, 0, 0, 0, 0, 0, 0, 0, 0, 0, 0,\n",
       "        0, 0, 1, 1, 1, 1, 1, 1, 0, 1, 0, 1, 1, 0, 1, 1, 0, 1, 0, 0, 1, 1,\n",
       "        1, 1, 1, 1, 1, 1, 1, 1, 1, 1, 1, 0, 1, 1, 0, 1, 0, 1, 1, 1, 1, 1,\n",
       "        1, 1, 1, 1, 1, 1, 1, 1, 1, 0, 1, 1, 1, 0, 1, 0, 1, 1, 1, 1, 0, 0,\n",
       "        0, 1, 1, 1, 1, 0, 1, 0, 1, 0, 1, 1, 1, 0, 1, 1, 1, 1, 1, 1, 1, 0,\n",
       "        0, 0, 1, 1, 1, 1, 1, 1, 1, 1, 1, 1, 1, 0, 0, 1, 0, 0, 0, 1, 0, 0,\n",
       "        1, 1, 1, 1, 1, 0, 1, 1, 1, 1, 1, 0, 1, 1, 1, 0, 1, 1, 0, 0, 1, 1,\n",
       "        1, 1, 1, 1, 0, 1, 1, 1, 1, 1, 1, 1, 0, 1, 1, 1, 1, 1, 0, 1, 1, 0,\n",
       "        1, 1, 1, 1, 1, 1, 1, 1, 1, 1, 1, 1, 0, 1, 0, 0, 1, 0, 1, 1, 1, 1,\n",
       "        1, 0, 1, 1, 0, 1, 0, 1, 1, 0, 1, 0, 1, 1, 1, 1, 1, 1, 1, 1, 0, 0,\n",
       "        1, 1, 1, 1, 1, 1, 0, 1, 1, 1, 1, 1, 1, 1, 1, 1, 1, 0, 1, 1, 1, 1,\n",
       "        1, 1, 1, 0, 1, 0, 1, 1, 0, 1, 1, 1, 1, 1, 0, 0, 1, 0, 1, 0, 1, 1,\n",
       "        1, 1, 1, 0, 1, 1, 0, 1, 0, 1, 0, 0, 1, 1, 1, 0, 1, 1, 1, 1, 1, 1,\n",
       "        1, 1, 1, 1, 1, 0, 1, 0, 0, 1, 1, 1, 1, 1, 1, 1, 1, 1, 1, 1, 1, 1,\n",
       "        1, 1, 1, 1, 1, 1, 1, 1, 1, 1, 1, 1, 0, 0, 0, 0, 0, 0, 1]),\n",
       " 'frame': None,\n",
       " 'target_names': array(['malignant', 'benign'], dtype='<U9'),\n",
       " 'DESCR': '.. _breast_cancer_dataset:\\n\\nBreast cancer wisconsin (diagnostic) dataset\\n--------------------------------------------\\n\\n**Data Set Characteristics:**\\n\\n    :Number of Instances: 569\\n\\n    :Number of Attributes: 30 numeric, predictive attributes and the class\\n\\n    :Attribute Information:\\n        - radius (mean of distances from center to points on the perimeter)\\n        - texture (standard deviation of gray-scale values)\\n        - perimeter\\n        - area\\n        - smoothness (local variation in radius lengths)\\n        - compactness (perimeter^2 / area - 1.0)\\n        - concavity (severity of concave portions of the contour)\\n        - concave points (number of concave portions of the contour)\\n        - symmetry\\n        - fractal dimension (\"coastline approximation\" - 1)\\n\\n        The mean, standard error, and \"worst\" or largest (mean of the three\\n        worst/largest values) of these features were computed for each image,\\n        resulting in 30 features.  For instance, field 0 is Mean Radius, field\\n        10 is Radius SE, field 20 is Worst Radius.\\n\\n        - class:\\n                - WDBC-Malignant\\n                - WDBC-Benign\\n\\n    :Summary Statistics:\\n\\n    ===================================== ====== ======\\n                                           Min    Max\\n    ===================================== ====== ======\\n    radius (mean):                        6.981  28.11\\n    texture (mean):                       9.71   39.28\\n    perimeter (mean):                     43.79  188.5\\n    area (mean):                          143.5  2501.0\\n    smoothness (mean):                    0.053  0.163\\n    compactness (mean):                   0.019  0.345\\n    concavity (mean):                     0.0    0.427\\n    concave points (mean):                0.0    0.201\\n    symmetry (mean):                      0.106  0.304\\n    fractal dimension (mean):             0.05   0.097\\n    radius (standard error):              0.112  2.873\\n    texture (standard error):             0.36   4.885\\n    perimeter (standard error):           0.757  21.98\\n    area (standard error):                6.802  542.2\\n    smoothness (standard error):          0.002  0.031\\n    compactness (standard error):         0.002  0.135\\n    concavity (standard error):           0.0    0.396\\n    concave points (standard error):      0.0    0.053\\n    symmetry (standard error):            0.008  0.079\\n    fractal dimension (standard error):   0.001  0.03\\n    radius (worst):                       7.93   36.04\\n    texture (worst):                      12.02  49.54\\n    perimeter (worst):                    50.41  251.2\\n    area (worst):                         185.2  4254.0\\n    smoothness (worst):                   0.071  0.223\\n    compactness (worst):                  0.027  1.058\\n    concavity (worst):                    0.0    1.252\\n    concave points (worst):               0.0    0.291\\n    symmetry (worst):                     0.156  0.664\\n    fractal dimension (worst):            0.055  0.208\\n    ===================================== ====== ======\\n\\n    :Missing Attribute Values: None\\n\\n    :Class Distribution: 212 - Malignant, 357 - Benign\\n\\n    :Creator:  Dr. William H. Wolberg, W. Nick Street, Olvi L. Mangasarian\\n\\n    :Donor: Nick Street\\n\\n    :Date: November, 1995\\n\\nThis is a copy of UCI ML Breast Cancer Wisconsin (Diagnostic) datasets.\\nhttps://goo.gl/U2Uwz2\\n\\nFeatures are computed from a digitized image of a fine needle\\naspirate (FNA) of a breast mass.  They describe\\ncharacteristics of the cell nuclei present in the image.\\n\\nSeparating plane described above was obtained using\\nMultisurface Method-Tree (MSM-T) [K. P. Bennett, \"Decision Tree\\nConstruction Via Linear Programming.\" Proceedings of the 4th\\nMidwest Artificial Intelligence and Cognitive Science Society,\\npp. 97-101, 1992], a classification method which uses linear\\nprogramming to construct a decision tree.  Relevant features\\nwere selected using an exhaustive search in the space of 1-4\\nfeatures and 1-3 separating planes.\\n\\nThe actual linear program used to obtain the separating plane\\nin the 3-dimensional space is that described in:\\n[K. P. Bennett and O. L. Mangasarian: \"Robust Linear\\nProgramming Discrimination of Two Linearly Inseparable Sets\",\\nOptimization Methods and Software 1, 1992, 23-34].\\n\\nThis database is also available through the UW CS ftp server:\\n\\nftp ftp.cs.wisc.edu\\ncd math-prog/cpo-dataset/machine-learn/WDBC/\\n\\n.. topic:: References\\n\\n   - W.N. Street, W.H. Wolberg and O.L. Mangasarian. Nuclear feature extraction \\n     for breast tumor diagnosis. IS&T/SPIE 1993 International Symposium on \\n     Electronic Imaging: Science and Technology, volume 1905, pages 861-870,\\n     San Jose, CA, 1993.\\n   - O.L. Mangasarian, W.N. Street and W.H. Wolberg. Breast cancer diagnosis and \\n     prognosis via linear programming. Operations Research, 43(4), pages 570-577, \\n     July-August 1995.\\n   - W.H. Wolberg, W.N. Street, and O.L. Mangasarian. Machine learning techniques\\n     to diagnose breast cancer from fine-needle aspirates. Cancer Letters 77 (1994) \\n     163-171.',\n",
       " 'feature_names': array(['mean radius', 'mean texture', 'mean perimeter', 'mean area',\n",
       "        'mean smoothness', 'mean compactness', 'mean concavity',\n",
       "        'mean concave points', 'mean symmetry', 'mean fractal dimension',\n",
       "        'radius error', 'texture error', 'perimeter error', 'area error',\n",
       "        'smoothness error', 'compactness error', 'concavity error',\n",
       "        'concave points error', 'symmetry error',\n",
       "        'fractal dimension error', 'worst radius', 'worst texture',\n",
       "        'worst perimeter', 'worst area', 'worst smoothness',\n",
       "        'worst compactness', 'worst concavity', 'worst concave points',\n",
       "        'worst symmetry', 'worst fractal dimension'], dtype='<U23'),\n",
       " 'filename': 'C:\\\\Users\\\\TJ\\\\anaconda3\\\\envs\\\\ml01-02\\\\lib\\\\site-packages\\\\sklearn\\\\datasets\\\\data\\\\breast_cancer.csv'}"
      ]
     },
     "execution_count": 5,
     "metadata": {},
     "output_type": "execute_result"
    }
   ],
   "source": [
    "cancer"
   ]
  },
  {
   "cell_type": "code",
   "execution_count": 7,
   "metadata": {},
   "outputs": [
    {
     "data": {
      "text/plain": [
       "array([[1.799e+01, 1.038e+01, 1.228e+02, 1.001e+03, 1.184e-01, 2.776e-01,\n",
       "        3.001e-01, 1.471e-01, 2.419e-01, 7.871e-02, 1.095e+00, 9.053e-01,\n",
       "        8.589e+00, 1.534e+02, 6.399e-03, 4.904e-02, 5.373e-02, 1.587e-02,\n",
       "        3.003e-02, 6.193e-03, 2.538e+01, 1.733e+01, 1.846e+02, 2.019e+03,\n",
       "        1.622e-01, 6.656e-01, 7.119e-01, 2.654e-01, 4.601e-01, 1.189e-01],\n",
       "       [2.057e+01, 1.777e+01, 1.329e+02, 1.326e+03, 8.474e-02, 7.864e-02,\n",
       "        8.690e-02, 7.017e-02, 1.812e-01, 5.667e-02, 5.435e-01, 7.339e-01,\n",
       "        3.398e+00, 7.408e+01, 5.225e-03, 1.308e-02, 1.860e-02, 1.340e-02,\n",
       "        1.389e-02, 3.532e-03, 2.499e+01, 2.341e+01, 1.588e+02, 1.956e+03,\n",
       "        1.238e-01, 1.866e-01, 2.416e-01, 1.860e-01, 2.750e-01, 8.902e-02],\n",
       "       [1.969e+01, 2.125e+01, 1.300e+02, 1.203e+03, 1.096e-01, 1.599e-01,\n",
       "        1.974e-01, 1.279e-01, 2.069e-01, 5.999e-02, 7.456e-01, 7.869e-01,\n",
       "        4.585e+00, 9.403e+01, 6.150e-03, 4.006e-02, 3.832e-02, 2.058e-02,\n",
       "        2.250e-02, 4.571e-03, 2.357e+01, 2.553e+01, 1.525e+02, 1.709e+03,\n",
       "        1.444e-01, 4.245e-01, 4.504e-01, 2.430e-01, 3.613e-01, 8.758e-02],\n",
       "       [1.142e+01, 2.038e+01, 7.758e+01, 3.861e+02, 1.425e-01, 2.839e-01,\n",
       "        2.414e-01, 1.052e-01, 2.597e-01, 9.744e-02, 4.956e-01, 1.156e+00,\n",
       "        3.445e+00, 2.723e+01, 9.110e-03, 7.458e-02, 5.661e-02, 1.867e-02,\n",
       "        5.963e-02, 9.208e-03, 1.491e+01, 2.650e+01, 9.887e+01, 5.677e+02,\n",
       "        2.098e-01, 8.663e-01, 6.869e-01, 2.575e-01, 6.638e-01, 1.730e-01],\n",
       "       [2.029e+01, 1.434e+01, 1.351e+02, 1.297e+03, 1.003e-01, 1.328e-01,\n",
       "        1.980e-01, 1.043e-01, 1.809e-01, 5.883e-02, 7.572e-01, 7.813e-01,\n",
       "        5.438e+00, 9.444e+01, 1.149e-02, 2.461e-02, 5.688e-02, 1.885e-02,\n",
       "        1.756e-02, 5.115e-03, 2.254e+01, 1.667e+01, 1.522e+02, 1.575e+03,\n",
       "        1.374e-01, 2.050e-01, 4.000e-01, 1.625e-01, 2.364e-01, 7.678e-02]])"
      ]
     },
     "execution_count": 7,
     "metadata": {},
     "output_type": "execute_result"
    }
   ],
   "source": [
    "cancer.data[:5]  # 데이터"
   ]
  },
  {
   "cell_type": "code",
   "execution_count": 8,
   "metadata": {},
   "outputs": [
    {
     "data": {
      "text/plain": [
       "array([0, 0, 0, 0, 0])"
      ]
     },
     "execution_count": 8,
     "metadata": {},
     "output_type": "execute_result"
    }
   ],
   "source": [
    "cancer.target[:5]  # 답"
   ]
  },
  {
   "cell_type": "markdown",
   "metadata": {},
   "source": [
    " sklearn에 있는 데이터 셋 구조 : 딕셔너리\n",
    "- cancer.data : 데이터\n",
    "- cancer.target : 답\n",
    "- cancer.feature_names : 데이터 컬럼명\n",
    "- cancer.target_names : 답 이름"
   ]
  },
  {
   "cell_type": "code",
   "execution_count": 9,
   "metadata": {},
   "outputs": [],
   "source": [
    "from sklearn.preprocessing import StandardScaler\n",
    "from sklearn.model_selection import train_test_split"
   ]
  },
  {
   "cell_type": "code",
   "execution_count": 11,
   "metadata": {},
   "outputs": [],
   "source": [
    "from sklearn.metrics import accuracy_score, roc_auc_score"
   ]
  },
  {
   "cell_type": "code",
   "execution_count": 19,
   "metadata": {},
   "outputs": [],
   "source": [
    "# 정규화(StandardScaler / MinMaxScaler)\n",
    "scaler = StandardScaler()\n",
    "# 데이터 표준화( 평균:0, 분산:1로 정규분포를 가진 값으로 변환)\n",
    "# 피처 마다 값의 범위가 상이하므로 비교를 위해 비슷하게 변환하기\n",
    "data_scaled = scaler.fit_transform(cancer.data)\n",
    "\n",
    "# 데이터 분리\n",
    "X_train, X_test, y_train, y_test = train_test_split(\n",
    "    data_scaled, cancer.target, test_size=0.3, random_state=0\n",
    ")"
   ]
  },
  {
   "cell_type": "code",
   "execution_count": 20,
   "metadata": {},
   "outputs": [
    {
     "name": "stdout",
     "output_type": "stream",
     "text": [
      "정확도: 0.9766, AUC 점수:0.9716\n"
     ]
    }
   ],
   "source": [
    "# 학습/예측(분류)\n",
    "lr_clf = LogisticRegression()   # 디폴트 객체 생성\n",
    "lr_clf.fit(X_train, y_train)\n",
    "pred = lr_clf.predict(X_test)\n",
    "# 성능평가(정확도, AUC)\n",
    "accu = accuracy_score(y_test, pred)   # 분류기 때문에 정확도 평가지표로 쓸수 있음(회귀는 쓸수 없음=> 오차(RMSE)로 판단)\n",
    "roc_auc_ = roc_auc_score(y_test, pred)\n",
    "print('정확도: {0:.4f}, AUC 점수:{1:.4f}'.format(accu,roc_auc_))\n"
   ]
  },
  {
   "cell_type": "markdown",
   "metadata": {},
   "source": [
    "파라미터를 지정하지 않고, 디폴트 객체로 수행한 결과는 위와 같이 출력되었다."
   ]
  },
  {
   "cell_type": "code",
   "execution_count": 21,
   "metadata": {},
   "outputs": [],
   "source": [
    "# 파라미터 튜닝 (GridSearchCV)\n",
    "from sklearn.model_selection import GridSearchCV"
   ]
  },
  {
   "cell_type": "code",
   "execution_count": 30,
   "metadata": {},
   "outputs": [],
   "source": [
    "import warnings\n",
    "warnings.filterwarnings('ignore')"
   ]
  },
  {
   "cell_type": "code",
   "execution_count": 31,
   "metadata": {},
   "outputs": [
    {
     "name": "stdout",
     "output_type": "stream",
     "text": [
      "최적 하이퍼 파라미터 : {'C': 1, 'penalty': 'l2'}, 최적 정확도:0.9754\n"
     ]
    }
   ],
   "source": [
    "# Grid 로 돌릴 LogisticRegression 객체의 파라미터 설정\n",
    "params = {\n",
    "      'penalty':['l2','l1']   # 규제 종류 : 디폴트는 L2 규제\n",
    "    , 'C':[0.01, 0.1, 1, 5, 10]   # C: 알파의 역수 => 즉 작아질수록 규제 강도가 커짐\n",
    "}\n",
    "# 적용할 Logistic Regression 객체 생성\n",
    "lr_clf=LogisticRegression()\n",
    "\n",
    "# grid 모델 객체 생성\n",
    "grid_clf = GridSearchCV(\n",
    "      estimator=lr_clf\n",
    "    , param_grid=params\n",
    "    , scoring='accuracy'\n",
    "    , cv=3\n",
    ")\n",
    "\n",
    "# 학습\n",
    "grid_clf.fit(data_scaled, cancer.target)\n",
    "\n",
    "# 베스트 파라미터, 정확도 출력\n",
    "b_param = grid_clf.best_params_\n",
    "b_accu = grid_clf.best_score_\n",
    "print('최적 하이퍼 파라미터 : {0}, 최적 정확도:{1:.4f}'.format(b_param, b_accu))"
   ]
  },
  {
   "cell_type": "markdown",
   "metadata": {},
   "source": [
    "## Regression Tree\n",
    "\n",
    "- 트리를 이용하여 회귀예측을 할수도 있다.\n",
    "- 리프노드에 소속된 데이터값의 평균값을 이용"
   ]
  },
  {
   "cell_type": "code",
   "execution_count": 32,
   "metadata": {},
   "outputs": [],
   "source": [
    "from sklearn.datasets import load_boston\n",
    "from sklearn.ensemble import RandomForestRegressor\n",
    "from sklearn.model_selection import cross_val_score"
   ]
  },
  {
   "cell_type": "code",
   "execution_count": 34,
   "metadata": {},
   "outputs": [],
   "source": [
    "# 데이터 로딩\n",
    "boston = load_boston()\n",
    "# 데이터 프레임으로 만들기\n",
    "boston_df = pd.DataFrame(boston.data, columns=boston.feature_names)\n",
    "# 답 데이터 프레임에 추가\n",
    "boston_df['PRICE'] = boston.target\n",
    "\n",
    "# 데이터프레임으로부터, 데이터, 답 생성\n",
    "y_target = boston_df['PRICE']   # 시리즈 타입 답 반환\n",
    "X_data = boston_df.drop(['PRICE'], axis=1, inplace = False)   # 데이터프레임 타입 데이터 반환"
   ]
  },
  {
   "cell_type": "code",
   "execution_count": 35,
   "metadata": {},
   "outputs": [
    {
     "data": {
      "text/plain": [
       "(pandas.core.series.Series, pandas.core.frame.DataFrame)"
      ]
     },
     "execution_count": 35,
     "metadata": {},
     "output_type": "execute_result"
    }
   ],
   "source": [
    "type(y_target), type(X_data)"
   ]
  },
  {
   "cell_type": "code",
   "execution_count": 36,
   "metadata": {},
   "outputs": [
    {
     "name": "stdout",
     "output_type": "stream",
     "text": [
      "5 교차 검증의 개별 RMSE : [2.81 3.63 4.54 6.8  4.34]\n",
      "평균 RMSE :  4.42\n"
     ]
    }
   ],
   "source": [
    "# 모델 생성(랜덤포레스트 회귀모델)\n",
    "rf_reg = RandomForestRegressor(\n",
    "      n_estimators=1000\n",
    "    , random_state=0\n",
    ")\n",
    "# 교차 검증\n",
    "neg_mse_scores = cross_val_score(\n",
    "    rf_reg\n",
    "    , X_data, y_target, scoring='neg_mean_squared_error'\n",
    "    , cv= 5\n",
    ")\n",
    "\n",
    "# 결과 처리\n",
    "rmse_scores = np.sqrt(-1*neg_mse_scores)\n",
    "avg_rmse = np.mean(rmse_scores)\n",
    "\n",
    "# 결과 출력\n",
    "print('5 교차 검증의 개별 RMSE :', np.round(rmse_scores, 2))\n",
    "print('평균 RMSE : ', np.round(avg_rmse, 2))"
   ]
  },
  {
   "cell_type": "code",
   "execution_count": 42,
   "metadata": {},
   "outputs": [],
   "source": [
    "# DT, GB, XGB, LGBM 각각 적용하여 성능 비교\n",
    "# DT가 없었다면, n_estimators 를 파라미터로 추가할수도 있었다.(DT 는 앙상블이 아니라 1개의 트리이므로, n_esti 파라미터 X)\n",
    "def get_model_cv_prediction(model, X_data_p, y_target_p):\n",
    "    # cross_val_score,를 이용하여 평균 RMSE를 출력\n",
    "    # 교차 검증\n",
    "    neg_mse_scores = cross_val_score(model, X_data_p, y_target_p, scoring='neg_mean_squared_error', cv= 5)\n",
    "\n",
    "    # 결과 처리\n",
    "    rmse_scores = np.sqrt(-1*neg_mse_scores)\n",
    "    avg_rmse = np.mean(rmse_scores)\n",
    "\n",
    "    # 결과 출력\n",
    "    print('#####', model.__class__.__name__, '#####')\n",
    "    print('AVG RMSE : ', np.round(avg_rmse, 3))\n",
    "    #return 없음, 실행하고 끝"
   ]
  },
  {
   "cell_type": "code",
   "execution_count": 39,
   "metadata": {},
   "outputs": [],
   "source": [
    "from sklearn.tree import DecisionTreeRegressor\n",
    "from sklearn.ensemble import GradientBoostingRegressor\n",
    "from xgboost import XGBRegressor\n",
    "from lightgbm import LGBMRegressor\n",
    "from sklearn.ensemble import RandomForestRegressor"
   ]
  },
  {
   "cell_type": "code",
   "execution_count": 43,
   "metadata": {},
   "outputs": [
    {
     "name": "stdout",
     "output_type": "stream",
     "text": [
      "##### DecisionTreeRegressor #####\n",
      "AVG RMSE :  5.978\n",
      "##### RandomForestRegressor #####\n",
      "AVG RMSE :  4.423\n",
      "##### GradientBoostingRegressor #####\n",
      "AVG RMSE :  4.269\n",
      "[12:45:40] WARNING: src/objective/regression_obj.cu:152: reg:linear is now deprecated in favor of reg:squarederror.\n",
      "[12:45:40] WARNING: src/objective/regression_obj.cu:152: reg:linear is now deprecated in favor of reg:squarederror.\n",
      "[12:45:40] WARNING: src/objective/regression_obj.cu:152: reg:linear is now deprecated in favor of reg:squarederror.\n",
      "[12:45:41] WARNING: src/objective/regression_obj.cu:152: reg:linear is now deprecated in favor of reg:squarederror.\n",
      "[12:45:41] WARNING: src/objective/regression_obj.cu:152: reg:linear is now deprecated in favor of reg:squarederror.\n",
      "##### XGBRegressor #####\n",
      "AVG RMSE :  4.089\n",
      "##### LGBMRegressor #####\n",
      "AVG RMSE :  4.646\n"
     ]
    }
   ],
   "source": [
    "# 5개 모델의 객체 생성\n",
    "dt_reg = DecisionTreeRegressor(max_depth=4, random_state=0)\n",
    "rf_reg = RandomForestRegressor(n_estimators=1000, random_state=0)\n",
    "gb_reg = GradientBoostingRegressor(n_estimators=1000, random_state=0)\n",
    "xgb_reg = XGBRegressor(n_estimators=1000)\n",
    "lgb_reg = LGBMRegressor(n_estimators=1000)\n",
    "\n",
    "# 교차 검증 처리\n",
    "\n",
    "models = [dt_reg, rf_reg, gb_reg, xgb_reg, lgb_reg]\n",
    "\n",
    "for model in models:\n",
    "    get_model_cv_prediction(model, X_data, y_target)\n"
   ]
  },
  {
   "cell_type": "markdown",
   "metadata": {},
   "source": [
    "XGBoost 가 가장 성능이 좋다. 그러나 속도가 떨어질수 있다"
   ]
  },
  {
   "cell_type": "markdown",
   "metadata": {},
   "source": [
    "### 시각화"
   ]
  },
  {
   "cell_type": "code",
   "execution_count": 51,
   "metadata": {},
   "outputs": [
    {
     "data": {
      "text/plain": [
       "<matplotlib.axes._subplots.AxesSubplot at 0x15598078f08>"
      ]
     },
     "execution_count": 51,
     "metadata": {},
     "output_type": "execute_result"
    },
    {
     "data": {
      "image/png": "[encoded data removed]",
      "text/plain": [
       "<Figure size 720x360 with 1 Axes>"
      ]
     },
     "metadata": {
      "needs_background": "light"
     },
     "output_type": "display_data"
    }
   ],
   "source": [
    "# 피처(컬럼) 중요도, 시각화\n",
    "import seaborn as sns\n",
    "\n",
    "# 학습 -> 중요도 추출\n",
    "rf_reg= RandomForestRegressor(n_estimators=1000)\n",
    "rf_reg.fit(X_data, y_target)\n",
    "# 시리즈 형태로 중요도를 저장하고, 중요도 높은 순서로 sort(Series.sort_values 사용)\n",
    "feature_ser = pd.Series(data=rf_reg.feature_importances_\n",
    "                        , index=X_data.columns #\n",
    "                       )\n",
    "feature_ser_desc = feature_ser.sort_values(ascending=False)\n",
    "\n",
    "# 시각화\n",
    "plt.figure(figsize=(10,5))\n",
    "sns.barplot(feature_ser_desc, feature_ser_desc.index)\n"
   ]
  },
  {
   "cell_type": "markdown",
   "metadata": {},
   "source": [
    " RM(거주할수 있는 방 개수),LSTAT(하위 계층의 비율) 가 확연하게 피처 중요도가 높다.\n",
    "#### 즉 주택 가격에 영향을 가장 크게 미치는 컬럼은  RM 임을 확인할 수 있다."
   ]
  },
  {
   "cell_type": "code",
   "execution_count": 59,
   "metadata": {},
   "outputs": [
    {
     "name": "stdout",
     "output_type": "stream",
     "text": [
      "Sample shape: (100, 2)\n"
     ]
    },
    {
     "data": {
      "text/plain": [
       "<matplotlib.collections.PathCollection at 0x15598bf1348>"
      ]
     },
     "execution_count": 59,
     "metadata": {},
     "output_type": "execute_result"
    },
    {
     "data": {
      "image/png": "[encoded data removed]",
      "text/plain": [
       "<Figure size 432x288 with 1 Axes>"
      ]
     },
     "metadata": {
      "needs_background": "light"
     },
     "output_type": "display_data"
    }
   ],
   "source": [
    "# RM feature 100개 추출 -> 산점도(분포확인)\n",
    "\n",
    "boston_df_sample = boston_df[['RM','PRICE']]  # RM 값에 따른 답인 Price 확인\n",
    "boston_df_sample = boston_df_sample.sample(\n",
    "      n=100  # random 하게 추출할 데이터개수, 100개를 추출해보겠다(총 505개?중에서)\n",
    "    , random_state=0\n",
    ")\n",
    "\n",
    "print('Sample shape:', boston_df_sample.shape)\n",
    "# 산점도(분포확인)\n",
    "plt.figure()\n",
    "plt.scatter(boston_df_sample.RM, boston_df_sample.PRICE, c='purple')"
   ]
  },
  {
   "cell_type": "code",
   "execution_count": 61,
   "metadata": {
    "scrolled": true
   },
   "outputs": [
    {
     "data": {
      "text/plain": [
       "<matplotlib.axes._subplots.AxesSubplot at 0x1559845eb48>"
      ]
     },
     "execution_count": 61,
     "metadata": {},
     "output_type": "execute_result"
    },
    {
     "data": {
      "image/png": "[encoded data removed]",
      "text/plain": [
       "<Figure size 432x288 with 1 Axes>"
      ]
     },
     "metadata": {
      "needs_background": "light"
     },
     "output_type": "display_data"
    }
   ],
   "source": [
    "sns.regplot(boston_df_sample.RM, boston_df_sample.PRICE)"
   ]
  },
  {
   "cell_type": "code",
   "execution_count": 79,
   "metadata": {},
   "outputs": [],
   "source": [
    "# RM feature: Data, Price = label\n",
    "# LinearRegression, DT(max_depth=2, max_depth=7) 회귀모델 시각화\n",
    "from sklearn.linear_model import LinearRegression\n",
    "from sklearn.tree import DecisionTreeRegressor\n",
    "\n",
    "# 모델 객체 생성\n",
    "lr_reg = LinearRegression()\n",
    "dt_reg_depth_2 = DecisionTreeRegressor(max_depth=2)\n",
    "dt_reg_depth_7 = DecisionTreeRegressor(max_depth=7)"
   ]
  },
  {
   "cell_type": "code",
   "execution_count": 80,
   "metadata": {},
   "outputs": [],
   "source": [
    "# Test data 생성\n",
    "# X_test = np.linspace(4.5, 8.5, 100)으로 해도되지만, 여기서는 arange를 썼음\n",
    "X_test = np.arange(4.5, 8.5, 0.04).reshape(-1,1)  # 100개의 테스트 데이터를 임의로 생성후 2차원으로 변환"
   ]
  },
  {
   "cell_type": "code",
   "execution_count": 65,
   "metadata": {},
   "outputs": [
    {
     "data": {
      "text/plain": [
       "0.04"
      ]
     },
     "execution_count": 65,
     "metadata": {},
     "output_type": "execute_result"
    }
   ],
   "source": [
    "(8.5-4.5)/100"
   ]
  },
  {
   "cell_type": "code",
   "execution_count": 81,
   "metadata": {},
   "outputs": [],
   "source": [
    "# Train Data, Label 추출 -> 2차원으로 변환 (reshape 할수있도록, ndarray 로 변환해주어야 함=> values) => 학습에 사용할 데이터\n",
    "X_train = boston_df_sample['RM'].values.reshape(-1,1)\n",
    "y_train = boston_df_sample['PRICE'].values.reshape(-1,1)"
   ]
  },
  {
   "cell_type": "code",
   "execution_count": 84,
   "metadata": {},
   "outputs": [],
   "source": [
    "# 학습\n",
    "lr_reg.fit(X_train,y_train)\n",
    "dt_reg_depth_2.fit(X_train, y_train)\n",
    "dt_reg_depth_7.fit(X_train, y_train)\n",
    "\n",
    "# 예측 추출\n",
    "lr_pred = lr_reg.predict(X_test)\n",
    "dt2_pred = dt_reg_depth_2.predict(X_test)\n",
    "dt7_pred = dt_reg_depth_7.predict(X_test)\n"
   ]
  },
  {
   "cell_type": "code",
   "execution_count": 114,
   "metadata": {},
   "outputs": [
    {
     "data": {
      "image/png": "[encoded data removed]",
      "text/plain": [
       "<Figure size 1008x288 with 3 Axes>"
      ]
     },
     "metadata": {
      "needs_background": "light"
     },
     "output_type": "display_data"
    }
   ],
   "source": [
    "# 시각화\n",
    "# 3 개 차트 구성 :subplots 으로 생성하면, 각 축에대해 튜플 형태로 반환해줌. 여기에 변수 지정해서 변수명을 통해 제어할수있음\n",
    "fig, (ax1,ax2,ax3) = plt.subplots(\n",
    "      figsize=(14,4)\n",
    "    , nrows=1\n",
    "    , ncols=3\n",
    ")\n",
    "\n",
    "# LInearRegression 첫번째 축(ax1)에 적용\n",
    "# dt2 두번째 축(ax2)에 적용, dt7 세번째 축(ax3)에 적용\n",
    "# 1. 산점도(원래 데이터 분포) : 이건 모든 모델에 대해서 동일하니 그대로 붙여준다.\n",
    "ax1.set_title(\"Linear Regression\")\n",
    "ax1.scatter(boston_df_sample.RM, boston_df_sample.PRICE, c='darkorange')\n",
    "\n",
    "ax2.set_title(\"Decision Tree Regession \\n max_depth=2\")\n",
    "ax2.scatter(boston_df_sample.RM, boston_df_sample.PRICE, c='darkorange')\n",
    "\n",
    "ax3.set_title(\"Decision Tree Regession \\n max_depth=7\")\n",
    "ax3.scatter(boston_df_sample.RM, boston_df_sample.PRICE, c='darkorange')\n",
    "\n",
    "# 2. 회귀선 표시\n",
    "ax1.plot(X_test, lr_pred, lw=2, label='linear')\n",
    "\n",
    "ax2.plot(X_test, dt2_pred, lw=2, label='DT2')\n",
    "\n",
    "ax3.plot(X_test, dt7_pred, lw=2, label='DT7')\n",
    "\n",
    "ax1.legend()\n",
    "ax2.legend()\n",
    "ax3.legend()\n",
    "plt.show()"
   ]
  }
 ],
 "metadata": {
  "kernelspec": {
   "display_name": "ml01-02",
   "language": "python",
   "name": "ml01-02"
  },
  "language_info": {
   "codemirror_mode": {
    "name": "ipython",
    "version": 3
   },
   "file_extension": ".py",
   "mimetype": "text/x-python",
   "name": "python",
   "nbconvert_exporter": "python",
   "pygments_lexer": "ipython3",
   "version": "3.7.7"
  }
 },
 "nbformat": 4,
 "nbformat_minor": 4
}
