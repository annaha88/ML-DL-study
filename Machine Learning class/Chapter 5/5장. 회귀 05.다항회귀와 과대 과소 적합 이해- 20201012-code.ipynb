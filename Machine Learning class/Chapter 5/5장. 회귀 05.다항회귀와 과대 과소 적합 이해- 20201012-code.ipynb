{
 "cells": [
  {
   "cell_type": "markdown",
   "metadata": {},
   "source": [
    "## 다항회귀와 과대적합/과소적합 이해"
   ]
  },
  {
   "cell_type": "code",
   "execution_count": 2,
   "metadata": {},
   "outputs": [],
   "source": [
    "import numpy as np\n",
    "import pandas as pd\n",
    "from sklearn.preprocessing import PolynomialFeatures"
   ]
  },
  {
   "cell_type": "code",
   "execution_count": 3,
   "metadata": {},
   "outputs": [
    {
     "data": {
      "text/plain": [
       "array([[0, 1],\n",
       "       [2, 3]])"
      ]
     },
     "execution_count": 3,
     "metadata": {},
     "output_type": "execute_result"
    }
   ],
   "source": [
    "# 다항 회귀에 사용한 원 데이터 생성 : 2행 X 2열\n",
    "X = np.arange(4).reshape(2,2)\n",
    "X"
   ]
  },
  {
   "cell_type": "code",
   "execution_count": 5,
   "metadata": {},
   "outputs": [
    {
     "name": "stdout",
     "output_type": "stream",
     "text": [
      "원래 데이터 [[0 1]\n",
      " [2 3]]\n",
      "변화된 데이터  [[1. 0. 1. 0. 0. 1.]\n",
      " [1. 2. 3. 4. 6. 9.]]\n"
     ]
    }
   ],
   "source": [
    "# degree = 2 로 주어서 데이터 확장해보기\n",
    "\n",
    "# poly 객체 생성\n",
    "poly = PolynomialFeatures(degree=2)\n",
    "# 데이터 파생시킬 식 구성(학습)\n",
    "poly.fit(X)\n",
    "# 데이터 파생\n",
    "poly_ftr = poly.transform(X)\n",
    "\n",
    "print('원래 데이터', X)\n",
    "print('변화된 데이터 ', poly_ftr)"
   ]
  },
  {
   "cell_type": "markdown",
   "metadata": {},
   "source": [
    "[x1,x2]  =>degree2 => [1, x1, x2, x1^2, x1*x2, x2^2]\n",
    "- 2개의 데이터에 근거하여 6개의 피처가 파생되어 생성되었음"
   ]
  },
  {
   "cell_type": "code",
   "execution_count": 8,
   "metadata": {},
   "outputs": [
    {
     "name": "stdout",
     "output_type": "stream",
     "text": [
      "일차 단항식 feature : \n",
      " [[0 1]\n",
      " [2 3]]\n",
      "삼차 다항식 결정값 : \n",
      " [[ 1  5]\n",
      " [17 43]]\n"
     ]
    }
   ],
   "source": [
    "# X : 행렬 (ndarray 형태) => 브로드캐스팅 됨.\n",
    "def polynomial_func(X):\n",
    "    y = 1 + 2 * X + X**2 + X**3\n",
    "    return y\n",
    "\n",
    "X = np.arange(4).reshape(2,2)\n",
    "print('일차 단항식 feature : \\n', X)\n",
    "y= polynomial_func(X)\n",
    "print('삼차 다항식 결정값 : \\n', y)"
   ]
  },
  {
   "cell_type": "markdown",
   "metadata": {},
   "source": [
    "### PolynomialFeautures => 성능향상 목적 (feature 의 개수가 적을 경우, 데이터를 확장시켜 보다 정밀한 학습을 시키기 위함)"
   ]
  },
  {
   "cell_type": "code",
   "execution_count": 12,
   "metadata": {},
   "outputs": [
    {
     "name": "stdout",
     "output_type": "stream",
     "text": [
      "일차 단항식 feature : \n",
      " [[0 1]\n",
      " [2 3]]\n",
      "3차 다항식 feature :\n",
      " [[ 1.  0.  1.  0.  0.  1.  0.  0.  0.  1.]\n",
      " [ 1.  2.  3.  4.  6.  9.  8. 12. 18. 27.]]\n",
      "삼차 다항식 결정값 : \n",
      " [[ 1  5]\n",
      " [17 43]]\n"
     ]
    }
   ],
   "source": [
    "\n",
    "poly_ftr = PolynomialFeatures(degree=3).fit_transform(X)\n",
    "\n",
    "print('일차 단항식 feature : \\n', X)\n",
    "print('3차 다항식 feature :\\n', poly_ftr)\n",
    "print('삼차 다항식 결정값 : \\n', y)"
   ]
  },
  {
   "cell_type": "code",
   "execution_count": 14,
   "metadata": {},
   "outputs": [
    {
     "name": "stdout",
     "output_type": "stream",
     "text": [
      "3차 다항식 feature :\n",
      " [[ 1.  0.  1.  0.  0.  1.  0.  0.  0.  1.]\n",
      " [ 1.  2.  3.  4.  6.  9.  8. 12. 18. 27.]]\n",
      "Polynomial 회귀 계수\n",
      " [[0.   0.02 0.02 0.05 0.07 0.1  0.1  0.14 0.22 0.31]\n",
      " [0.   0.06 0.06 0.11 0.17 0.23 0.23 0.34 0.51 0.74]]\n",
      "Polynomial 회귀 Shape :  (2, 10)\n"
     ]
    }
   ],
   "source": [
    "# 확장된 데이터로 학습 진행 후, 해당 모델의 회귀계수(가중치) 출력\n",
    "# 모델 : 선형 회귀\n",
    "from sklearn.linear_model import LinearRegression\n",
    "\n",
    "print('3차 다항식 feature :\\n', poly_ftr)\n",
    "\n",
    "model = LinearRegression()\n",
    "# 파생 데이터 학습\n",
    "model.fit(poly_ftr, y)\n",
    "print('Polynomial 회귀 계수\\n' , np.round(model.coef_, 2))\n",
    "print('Polynomial 회귀 Shape : ', model.coef_.shape)"
   ]
  },
  {
   "cell_type": "code",
   "execution_count": 15,
   "metadata": {},
   "outputs": [
    {
     "name": "stdout",
     "output_type": "stream",
     "text": [
      "회귀계수 출력 : \n",
      " [[0.   0.02 0.02 0.05 0.07 0.1  0.1  0.14 0.22 0.31]\n",
      " [0.   0.06 0.06 0.11 0.17 0.23 0.23 0.34 0.51 0.74]]\n"
     ]
    }
   ],
   "source": [
    "# Pipeline class : 처리 순서를 지정해서 일괄처리\n",
    "from sklearn.preprocessing import PolynomialFeatures\n",
    "from sklearn.linear_model import LinearRegression\n",
    "from sklearn.pipeline import Pipeline\n",
    "\n",
    "def polynomial_func(X):\n",
    "    y = 1 + 2 * X + X ** 2 + X ** 3\n",
    "    return y\n",
    "\n",
    "# Pipeline 객체로 Streamline 하게 Polynomial Feature변환과 Linear Regression을 연결\n",
    "model = Pipeline([         # 처리 순서에 따른 일단위가 input이 된다.\n",
    "      ('poly', PolynomialFeatures(degree=3))  # 'poly' 는 생성될 객체의 변수명\n",
    "    , ('linear', LinearRegression())         # 'linear' : poly 객체인풋(features) 기반으로 선형회귀 객체가 생성됨 \n",
    "])\n",
    "\n",
    "#  원래 데이터 생성\n",
    "X = np.arange(4).reshape(2,2)\n",
    "# 원래 답 생성\n",
    "y = polynomial_func(X)\n",
    "\n",
    "model.fit(X,y)\n",
    "# 계수 출력, pipeline 객체 안의 객체를 named_steps[]로 접근할수 있다.(key,value 구조)\n",
    "print('회귀계수 출력 : \\n' , np.round(model.named_steps['linear'].coef_,2))\n"
   ]
  },
  {
   "cell_type": "markdown",
   "metadata": {},
   "source": [
    "### Polynomial Regression : 성능 향상 목적\n",
    "- 성능 향상이 목적이지만, 적용시 과대/과소적합이 될 가능성도 있다.\n",
    "#### Underfitting, Overfitting"
   ]
  },
  {
   "cell_type": "code",
   "execution_count": 16,
   "metadata": {},
   "outputs": [],
   "source": [
    "# degree (차수) : 하이퍼 파라미터\n",
    "# 곡선형 데이터 생성 : cos 함수 사용  => Underfitting 의 예를 보여주기 위함\n",
    "import numpy as np\n",
    "import matplotlib.pyplot as plt\n",
    "%matplotlib inline\n",
    "\n",
    "from sklearn.pipeline import Pipeline\n",
    "from sklearn.preprocessing import PolynomialFeatures\n",
    "from sklearn.linear_model import LinearRegression\n",
    "from sklearn.model_selection import cross_val_score  # 교차검증 성능평가"
   ]
  },
  {
   "cell_type": "code",
   "execution_count": 19,
   "metadata": {},
   "outputs": [],
   "source": [
    "# random 값으로 구성된 X값에 대해 Cosine 이 적용된 값으로 반환\n",
    "def true_func(X):\n",
    "    return np.cos(1.5 * np.pi * X)   # 곡선으로 변환,  pi는 상수(3.14로 이미 numpy 모듈에 저장되어있다.)\n",
    "\n",
    "# X 데이터 생성 : random.rand (랜덤한 X 데이터) 생성\n",
    "np.random.seed(0)   # 랜덤값 고정\n",
    "n_samples = 30\n",
    "X = np.sort(np.random.rand(n_samples))\n",
    "\n",
    "# y 답 생성 : 답은 cosine 기반의 true_func() 에서 약간의 Noise 변동값을 더한 값으로 임의로 생성\n",
    "y = true_func(X) + np.random.randn(n_samples) * 0.1"
   ]
  },
  {
   "cell_type": "code",
   "execution_count": 86,
   "metadata": {},
   "outputs": [
    {
     "name": "stdout",
     "output_type": "stream",
     "text": [
      "Degree 1 MSE는 0.41 입니다.\n",
      "Degree 4 MSE는 0.04 입니다.\n",
      "Degree 15 MSE는 181810251.66 입니다.\n"
     ]
    },
    {
     "data": {
      "image/png": "[encoded data removed]",
      "text/plain": [
       "<Figure size 1008x360 with 3 Axes>"
      ]
     },
     "metadata": {},
     "output_type": "display_data"
    }
   ],
   "source": [
    "# 시각화하기\n",
    "plt.figure(figsize = (14,5))\n",
    "degrees = [1,4,15]  # 테스트 할 degree 설정(하이퍼 파라미터)\n",
    "\n",
    "# plt.subplots() : 여러축 생성, subplot() : 한개축 생성\n",
    "for i in range(len(degrees)):\n",
    "    ax = plt.subplot(1,len(degrees),i+1)  # 축 생성\n",
    "    plt.setp(ax, xticks=(), yticks=())   # 빈 튜플은 tick을 없애라는 것을 의미\n",
    "    \n",
    "    # 개별 degree 별로 Polynomial 변환\n",
    "    poly_feat = PolynomialFeatures(degree=degrees[i])    \n",
    "    # 선형회귀 객체 생성\n",
    "    linear_reg = LinearRegression()\n",
    "    # Pipieline 객체 생성\n",
    "    pipeline = Pipeline([('poly', poly_feat),('lreg', linear_reg)])\n",
    "    # 학습\n",
    "    pipeline.fit(X.reshape(-1, 1), y)   # 나중에 행렬 내적곱 하려면, 2차원 ndarrray로 변환되어야 하므로 resahpe(-1,1)해주기\n",
    "    # 교차 검증 : 오차(평가)\n",
    "    scores = cross_val_score(\n",
    "          pipeline # 모델\n",
    "        , X.reshape(-1,1)   # test data\n",
    "        , y\n",
    "        , scoring='neg_mean_squared_error'     # 평가 지표 지정\n",
    "        , cv= 10   # cross_val 개수 지정\n",
    "        )\n",
    "    \n",
    "    # 계수(가중치) 저장\n",
    "    coef__ = pipeline.named_steps['lreg'].coef_\n",
    "    # 정확도 출력\n",
    "    print('Degree {0} MSE는 {1:.2f} 입니다.'.format(degrees[i], -1 * np.mean(scores)))\n",
    "    # 시각화 :  0부터 1 까지 테스트 데이터를 100개 생성 -> 예측\n",
    "    X_test = np.linspace(0,1,100)  # (start, end, 나눌 개수)\n",
    "    # 예측값 곡선(Model의 곡선)\n",
    "    plt.plot(  X_test\n",
    "             , pipeline.predict(X_test[:, np.newaxis])  # y축 값 = 예측값, newaxis : 축 추가해서 2차원으로 차원변경\n",
    "             , label = 'Model'\n",
    "            )\n",
    "    # 실제값 곡선(랜덤으로 노이즈 줘서 만든 y값 곡선)\n",
    "    plt.plot(X_test, true_func(X_test), '--', label=\"True function\")\n",
    "\n",
    "    # 데이터 분포(산점도, 랜덤으로 노이즈 줘서 만든 y값 자체)\n",
    "    plt.scatter(\n",
    "        X  # 원래 데이터\n",
    "        , y # 원래 답\n",
    "        , s=20\n",
    "        ,label = 'Samples'\n",
    "    )\n",
    "    \n",
    "    # 나머지 설정\n",
    "    plt.xlabel('x')\n",
    "    plt.ylabel('y')\n",
    "    plt.xlim((0,1))\n",
    "    plt.ylim((-2,2))\n",
    "    plt.legend(loc='best')   #location = 'best' 최적 자리에 넣어라 디폴트\n",
    "    \n",
    "    # title 지정 \n",
    "    out_str = 'Degree {}\\nMSE = {:.2e}(+/- {:.2e})'\n",
    "    plt.title(out_str.format(degrees[i], -scores.mean(), scores.std()))\n",
    "              \n",
    "#     plt.title(\"Degree {}\\nMSE = {:.2e}(+/- {:.2e})\".format(degrees[i], -scores.mean(), scores.std()))\n",
    "    \n",
    "plt.show()\n",
    "    \n",
    "    \n",
    "    \n",
    "    "
   ]
  },
  {
   "cell_type": "markdown",
   "metadata": {},
   "source": [
    "위에서 Degree 1은 Underfitting 상태\n",
    "Degree 15는 Overfitting 상태\n",
    "\n",
    "Degree 4가 적절한 파라미터임\n",
    "p.317"
   ]
  },
  {
   "cell_type": "code",
   "execution_count": 55,
   "metadata": {},
   "outputs": [
    {
     "name": "stdout",
     "output_type": "stream",
     "text": [
      "(4,) [0 1 2 3]\n"
     ]
    }
   ],
   "source": [
    "# np.newaxis 예제 (새로운 축 생성)\n",
    "arr = np.arange(4)\n",
    "print(arr.shape, arr)"
   ]
  },
  {
   "cell_type": "code",
   "execution_count": 61,
   "metadata": {},
   "outputs": [
    {
     "data": {
      "text/plain": [
       "((4, 1),\n",
       " array([[0],\n",
       "        [1],\n",
       "        [2],\n",
       "        [3]]))"
      ]
     },
     "execution_count": 61,
     "metadata": {},
     "output_type": "execute_result"
    }
   ],
   "source": [
    "# arr을 col 2차원으로 변경\n",
    "arr2 = arr[:, np.newaxis]\n",
    "arr2.shape, arr2"
   ]
  },
  {
   "cell_type": "code",
   "execution_count": 60,
   "metadata": {},
   "outputs": [
    {
     "data": {
      "text/plain": [
       "((1, 4), array([[0, 1, 2, 3]]))"
      ]
     },
     "execution_count": 60,
     "metadata": {},
     "output_type": "execute_result"
    }
   ],
   "source": [
    "# arr을 row 2차원으로 변경\n",
    "arr3 = arr[np.newaxis, :]\n",
    "arr3.shape, arr3"
   ]
  },
  {
   "cell_type": "code",
   "execution_count": 70,
   "metadata": {},
   "outputs": [
    {
     "data": {
      "text/plain": [
       "(array([[0, 1, 2],\n",
       "        [3, 4, 5],\n",
       "        [6, 7, 8]]),\n",
       " (3, 3))"
      ]
     },
     "execution_count": 70,
     "metadata": {},
     "output_type": "execute_result"
    }
   ],
   "source": [
    "arr = np.arange(3*3).reshape(3,3)\n",
    "arr, arr.shape"
   ]
  },
  {
   "cell_type": "code",
   "execution_count": 67,
   "metadata": {},
   "outputs": [
    {
     "data": {
      "text/plain": [
       "array([[[[0],\n",
       "         [1],\n",
       "         [2]],\n",
       "\n",
       "        [[3],\n",
       "         [4],\n",
       "         [5]],\n",
       "\n",
       "        [[6],\n",
       "         [7],\n",
       "         [8]]]])"
      ]
     },
     "execution_count": 67,
     "metadata": {},
     "output_type": "execute_result"
    }
   ],
   "source": [
    "arr_3d = arr[np.newaxis, ..., np.newaxis]\n",
    "arr_3d"
   ]
  },
  {
   "cell_type": "code",
   "execution_count": 68,
   "metadata": {},
   "outputs": [
    {
     "data": {
      "text/plain": [
       "(1, 3, 3, 1)"
      ]
     },
     "execution_count": 68,
     "metadata": {},
     "output_type": "execute_result"
    }
   ],
   "source": [
    "arr_3d.shape"
   ]
  },
  {
   "cell_type": "code",
   "execution_count": 69,
   "metadata": {},
   "outputs": [
    {
     "data": {
      "text/plain": [
       "True"
      ]
     },
     "execution_count": 69,
     "metadata": {},
     "output_type": "execute_result"
    }
   ],
   "source": [
    "np.newaxis == None"
   ]
  },
  {
   "cell_type": "code",
   "execution_count": 73,
   "metadata": {},
   "outputs": [
    {
     "data": {
      "text/plain": [
       "(1, 1, 3, 3, 1, 1)"
      ]
     },
     "execution_count": 73,
     "metadata": {},
     "output_type": "execute_result"
    }
   ],
   "source": [
    "arr_4d = arr_3d[np.newaxis, ..., np.newaxis]\n",
    "arr_4d.shape"
   ]
  },
  {
   "cell_type": "code",
   "execution_count": null,
   "metadata": {},
   "outputs": [],
   "source": []
  }
 ],
 "metadata": {
  "kernelspec": {
   "display_name": "ml01-02",
   "language": "python",
   "name": "ml01-02"
  },
  "language_info": {
   "codemirror_mode": {
    "name": "ipython",
    "version": 3
   },
   "file_extension": ".py",
   "mimetype": "text/x-python",
   "name": "python",
   "nbconvert_exporter": "python",
   "pygments_lexer": "ipython3",
   "version": "3.7.7"
  }
 },
 "nbformat": 4,
 "nbformat_minor": 4
}
